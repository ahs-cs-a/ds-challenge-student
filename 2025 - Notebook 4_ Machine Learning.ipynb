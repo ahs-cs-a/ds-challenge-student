{
 "cells": [
  {
   "cell_type": "markdown",
   "metadata": {
    "cell_id": "29f4c1ae3edc4d34ace8cfaa7bbe474d",
    "deepnote_cell_type": "markdown",
    "tags": []
   },
   "source": [
    "<div class=\"alert alert-block alert-info\"><b>Instructor Note:</b> This project is intended for AP Statistics and/or AP Computer Science students seeking to learn modern data science skills. We'll use data from the US Department of Education's <a href=\"https://collegescorecard.ed.gov/data/\">College Scorecard Database</a> to see which colleges are worth the price of admission. Instructions, walkthrough videos, and additional support for teachers can be found <a href=\"https://skewthescript.org/data-science-challenge\">here</a>.\n",
    "<br>In this notebook (the 4th of 4 total notebooks), students will...\n",
    "<li>Fit polynomial models on a subset of the data</li><li>Tune models based on the principles of underfitting and overfitting </li><li>Use machine learning principles to compare the prediction strength of different models</li></div>"
   ]
  },
  {
   "cell_type": "markdown",
   "metadata": {
    "cell_id": "35ac6b95ea9347a9a9391453f1d0bbc5",
    "deepnote_cell_type": "markdown"
   },
   "source": [
    "<div class=\"alert alert-block alert-success\">\n",
    "\n",
    "**Reference Guide for Python (student resource) -** Check out our <a href = \"https://docs.google.com/document/d/1DaWN9HWInSBxSMhU0b5BetHlBM4n-ylqDiA8SJrhb7c/edit?tab=t.0\">reference guide</a> for a full listing of useful Python commands for this project. \n",
    "\n",
    "<div>"
   ]
  },
  {
   "cell_type": "markdown",
   "metadata": {
    "cell_id": "8dd2c954a5d04b668e9bae9a05adcfc5",
    "deepnote_cell_type": "markdown",
    "tags": []
   },
   "source": [
    "<img src=\"https://skewthescript.org/s/money_college_scale.jpg\">"
   ]
  },
  {
   "cell_type": "markdown",
   "metadata": {
    "cell_id": "d4f194f71e40463bae335bcc88598f91",
    "deepnote_cell_type": "markdown",
    "tags": []
   },
   "source": [
    "## Data Science Project: Use data to determine the best and worst colleges for conquering student debt.\n",
    "\n",
    "### Notebook 4: Machine Learning\n",
    "\n",
    "Does college pay off? We'll use some of the latest data from the US Department of Education's <a href=\"https://collegescorecard.ed.gov/data/\">College Scorecard Database</a> to answer that question. \n",
    "\n",
    "In this notebook (the 4th of 4 total notebooks), you'll use R to add polynomial terms to your multiple regression models (i.e. polynomial regression). Then, you'll use the principles of machine learning to tune models for a prediction task on *unseen* data."
   ]
  },
  {
   "cell_type": "code",
   "execution_count": null,
   "metadata": {
    "cell_id": "ae7ddc0fedd1422bb745e33aecbc91d3",
    "deepnote_cell_type": "code",
    "deepnote_to_be_reexecuted": false,
    "execution_millis": 18,
    "execution_start": 1711689099800,
    "output_cleared": false,
    "source_hash": null,
    "tags": []
   },
   "outputs": [],
   "source": [
    "## Run this code but do not edit it. Hit Ctrl+Enter to run the code.\n",
    "# This command downloads a useful package of Python commands\n",
    "%pip install seaborn\n",
    "\n",
    "import pyodide_http\n",
    "pyodide_http.patch_all()\n",
    "\n",
    "import pandas as pd\n",
    "import numpy as np\n",
    "import statsmodels.formula.api as smf  # For statistical modeling\n",
    "import matplotlib.pyplot as plt  # For creating static visualizations\n",
    "import seaborn as sns  # For advanced data visualization\n",
    "\n",
    "import warnings\n",
    "warnings.filterwarnings(\"ignore\")\n"
   ]
  },
  {
   "cell_type": "markdown",
   "metadata": {
    "cell_id": "632f2114d3f443f8ac25b63038e2f0cb",
    "deepnote_cell_type": "markdown",
    "tags": []
   },
   "source": [
    "<div class=\"alert alert-block alert-success\">\n",
    "\n",
    "### The Dataset (`four_year_colleges.csv`)\n",
    "\n",
    "**General description** - In this notebook, we'll be using the `four_year_colleges.csv` file, which only includes schools that offer four-year bachelors degrees and/or higher graduate degrees. Community colleges and trade schools often have different goals (e.g. facilitating transfers, direct career education) than institutions that offer four-year bachelors degrees. By comparing four-year colleges only to other four-year colleges, we'll have clearer analyses and conclusions. \n",
    "\n",
    "This data is a subset of the US Department of Education's <a href=\"https://collegescorecard.ed.gov/data/\">College Scorecard Database</a>. The data is current as of the 2020-2021 school year.\n",
    "\n",
    "**Description of all variables:** See <a href=\"https://docs.google.com/document/d/1C3eR6jZQ2HNbB5QkHaPsBfOcROZRcZ0FtzZZiyyS9sQ/edit\">here</a>\n",
    "\n",
    "**Detailed data file description:** See <a href=\"https://docs.google.com/spreadsheets/d/1fa_Bd3_eYEmxvKPcu3hK2Dgazdk-9bkeJwONMS6u43Q/edit?usp=sharing\">here</a></div>"
   ]
  },
  {
   "cell_type": "code",
   "execution_count": 6,
   "metadata": {
    "cell_id": "c2296bcadadf41d3b1cc939b64be8243",
    "deepnote_cell_type": "code",
    "deepnote_to_be_reexecuted": true,
    "execution_millis": 1043,
    "execution_start": 1709620365403,
    "output_cleared": false,
    "source_hash": null,
    "tags": []
   },
   "outputs": [
    {
     "data": {
      "application/vnd.microsoft.datawrangler.viewer.v0+json": {
       "columns": [
        {
         "name": "index",
         "rawType": "int64",
         "type": "integer"
        },
        {
         "name": "OPEID",
         "rawType": "int64",
         "type": "integer"
        },
        {
         "name": "name",
         "rawType": "object",
         "type": "string"
        },
        {
         "name": "city",
         "rawType": "object",
         "type": "string"
        },
        {
         "name": "state",
         "rawType": "object",
         "type": "string"
        },
        {
         "name": "region",
         "rawType": "object",
         "type": "string"
        },
        {
         "name": "median_debt",
         "rawType": "float64",
         "type": "float"
        },
        {
         "name": "default_rate",
         "rawType": "float64",
         "type": "float"
        },
        {
         "name": "highest_degree",
         "rawType": "object",
         "type": "string"
        },
        {
         "name": "ownership",
         "rawType": "object",
         "type": "string"
        },
        {
         "name": "locale",
         "rawType": "object",
         "type": "string"
        },
        {
         "name": "hbcu",
         "rawType": "object",
         "type": "string"
        },
        {
         "name": "admit_rate",
         "rawType": "float64",
         "type": "float"
        },
        {
         "name": "SAT_avg",
         "rawType": "int64",
         "type": "integer"
        },
        {
         "name": "online_only",
         "rawType": "object",
         "type": "string"
        },
        {
         "name": "enrollment",
         "rawType": "int64",
         "type": "integer"
        },
        {
         "name": "net_price",
         "rawType": "float64",
         "type": "float"
        },
        {
         "name": "avg_cost",
         "rawType": "float64",
         "type": "float"
        },
        {
         "name": "net_tuition",
         "rawType": "float64",
         "type": "float"
        },
        {
         "name": "ed_spending_per_student",
         "rawType": "float64",
         "type": "float"
        },
        {
         "name": "avg_faculty_salary",
         "rawType": "float64",
         "type": "float"
        },
        {
         "name": "pct_PELL",
         "rawType": "float64",
         "type": "float"
        },
        {
         "name": "pct_fed_loan",
         "rawType": "float64",
         "type": "float"
        },
        {
         "name": "grad_rate",
         "rawType": "float64",
         "type": "float"
        },
        {
         "name": "pct_firstgen",
         "rawType": "float64",
         "type": "float"
        },
        {
         "name": "med_fam_income",
         "rawType": "float64",
         "type": "float"
        },
        {
         "name": "med_alum_earnings",
         "rawType": "float64",
         "type": "float"
        }
       ],
       "conversionMethod": "pd.DataFrame",
       "ref": "ef1e9e12-079a-4390-9be9-a3bb16c0b557",
       "rows": [
        [
         "0",
         "100200",
         "Alabama A & M University",
         "Normal",
         "AL",
         "South",
         "15.25",
         "12.1",
         "Graduate",
         "Public",
         "Small City",
         "Yes",
         "89.65",
         "959",
         "No",
         "5090",
         "15.529",
         "23.445",
         "8.101",
         "4.836",
         "7.599",
         "70.95",
         "75.04",
         "28.66",
         "36.5828092",
         "23.553",
         "36.339"
        ],
        [
         "1",
         "105200",
         "University of Alabama at Birmingham",
         "Birmingham",
         "AL",
         "South",
         "15.085",
         "4.8",
         "Graduate",
         "Public",
         "Small City",
         "No",
         "80.6",
         "1245",
         "No",
         "13549",
         "16.53",
         "25.542",
         "11.986",
         "14.691",
         "11.38",
         "33.97",
         "46.88",
         "61.17",
         "34.1223671",
         "34.489",
         "46.99"
        ],
        [
         "2",
         "105500",
         "University of Alabama in Huntsville",
         "Huntsville",
         "AL",
         "South",
         "14.0",
         "4.7",
         "Graduate",
         "Public",
         "Small City",
         "No",
         "77.11",
         "1300",
         "No",
         "7825",
         "17.208",
         "24.861",
         "8.279",
         "8.32",
         "9.697",
         "24.03",
         "38.55",
         "57.14",
         "31.0132159",
         "44.787",
         "54.361"
        ],
        [
         "3",
         "100500",
         "Alabama State University",
         "Montgomery",
         "AL",
         "South",
         "17.5",
         "12.8",
         "Graduate",
         "Public",
         "Small City",
         "Yes",
         "98.88",
         "938",
         "No",
         "3603",
         "19.534",
         "21.892",
         "9.302",
         "9.579",
         "7.194",
         "73.68",
         "78.05",
         "31.77",
         "34.3434343",
         "22.0805",
         "32.084"
        ],
        [
         "4",
         "105100",
         "The University of Alabama",
         "Tuscaloosa",
         "AL",
         "South",
         "17.671",
         "4.0",
         "Graduate",
         "Public",
         "Small City",
         "No",
         "80.39",
         "1262",
         "No",
         "30610",
         "20.917",
         "30.016",
         "14.705",
         "9.65",
         "10.349",
         "17.18",
         "36.44",
         "72.14",
         "22.5712689",
         "66.7335",
         "52.751"
        ]
       ],
       "shape": {
        "columns": 26,
        "rows": 5
       }
      },
      "text/html": [
       "<div>\n",
       "<style scoped>\n",
       "    .dataframe tbody tr th:only-of-type {\n",
       "        vertical-align: middle;\n",
       "    }\n",
       "\n",
       "    .dataframe tbody tr th {\n",
       "        vertical-align: top;\n",
       "    }\n",
       "\n",
       "    .dataframe thead th {\n",
       "        text-align: right;\n",
       "    }\n",
       "</style>\n",
       "<table border=\"1\" class=\"dataframe\">\n",
       "  <thead>\n",
       "    <tr style=\"text-align: right;\">\n",
       "      <th></th>\n",
       "      <th>OPEID</th>\n",
       "      <th>name</th>\n",
       "      <th>city</th>\n",
       "      <th>state</th>\n",
       "      <th>region</th>\n",
       "      <th>median_debt</th>\n",
       "      <th>default_rate</th>\n",
       "      <th>highest_degree</th>\n",
       "      <th>ownership</th>\n",
       "      <th>locale</th>\n",
       "      <th>...</th>\n",
       "      <th>avg_cost</th>\n",
       "      <th>net_tuition</th>\n",
       "      <th>ed_spending_per_student</th>\n",
       "      <th>avg_faculty_salary</th>\n",
       "      <th>pct_PELL</th>\n",
       "      <th>pct_fed_loan</th>\n",
       "      <th>grad_rate</th>\n",
       "      <th>pct_firstgen</th>\n",
       "      <th>med_fam_income</th>\n",
       "      <th>med_alum_earnings</th>\n",
       "    </tr>\n",
       "  </thead>\n",
       "  <tbody>\n",
       "    <tr>\n",
       "      <th>0</th>\n",
       "      <td>100200</td>\n",
       "      <td>Alabama A &amp; M University</td>\n",
       "      <td>Normal</td>\n",
       "      <td>AL</td>\n",
       "      <td>South</td>\n",
       "      <td>15.250</td>\n",
       "      <td>12.1</td>\n",
       "      <td>Graduate</td>\n",
       "      <td>Public</td>\n",
       "      <td>Small City</td>\n",
       "      <td>...</td>\n",
       "      <td>23.445</td>\n",
       "      <td>8.101</td>\n",
       "      <td>4.836</td>\n",
       "      <td>7.599</td>\n",
       "      <td>70.95</td>\n",
       "      <td>75.04</td>\n",
       "      <td>28.66</td>\n",
       "      <td>36.582809</td>\n",
       "      <td>23.5530</td>\n",
       "      <td>36.339</td>\n",
       "    </tr>\n",
       "    <tr>\n",
       "      <th>1</th>\n",
       "      <td>105200</td>\n",
       "      <td>University of Alabama at Birmingham</td>\n",
       "      <td>Birmingham</td>\n",
       "      <td>AL</td>\n",
       "      <td>South</td>\n",
       "      <td>15.085</td>\n",
       "      <td>4.8</td>\n",
       "      <td>Graduate</td>\n",
       "      <td>Public</td>\n",
       "      <td>Small City</td>\n",
       "      <td>...</td>\n",
       "      <td>25.542</td>\n",
       "      <td>11.986</td>\n",
       "      <td>14.691</td>\n",
       "      <td>11.380</td>\n",
       "      <td>33.97</td>\n",
       "      <td>46.88</td>\n",
       "      <td>61.17</td>\n",
       "      <td>34.122367</td>\n",
       "      <td>34.4890</td>\n",
       "      <td>46.990</td>\n",
       "    </tr>\n",
       "    <tr>\n",
       "      <th>2</th>\n",
       "      <td>105500</td>\n",
       "      <td>University of Alabama in Huntsville</td>\n",
       "      <td>Huntsville</td>\n",
       "      <td>AL</td>\n",
       "      <td>South</td>\n",
       "      <td>14.000</td>\n",
       "      <td>4.7</td>\n",
       "      <td>Graduate</td>\n",
       "      <td>Public</td>\n",
       "      <td>Small City</td>\n",
       "      <td>...</td>\n",
       "      <td>24.861</td>\n",
       "      <td>8.279</td>\n",
       "      <td>8.320</td>\n",
       "      <td>9.697</td>\n",
       "      <td>24.03</td>\n",
       "      <td>38.55</td>\n",
       "      <td>57.14</td>\n",
       "      <td>31.013216</td>\n",
       "      <td>44.7870</td>\n",
       "      <td>54.361</td>\n",
       "    </tr>\n",
       "    <tr>\n",
       "      <th>3</th>\n",
       "      <td>100500</td>\n",
       "      <td>Alabama State University</td>\n",
       "      <td>Montgomery</td>\n",
       "      <td>AL</td>\n",
       "      <td>South</td>\n",
       "      <td>17.500</td>\n",
       "      <td>12.8</td>\n",
       "      <td>Graduate</td>\n",
       "      <td>Public</td>\n",
       "      <td>Small City</td>\n",
       "      <td>...</td>\n",
       "      <td>21.892</td>\n",
       "      <td>9.302</td>\n",
       "      <td>9.579</td>\n",
       "      <td>7.194</td>\n",
       "      <td>73.68</td>\n",
       "      <td>78.05</td>\n",
       "      <td>31.77</td>\n",
       "      <td>34.343434</td>\n",
       "      <td>22.0805</td>\n",
       "      <td>32.084</td>\n",
       "    </tr>\n",
       "    <tr>\n",
       "      <th>4</th>\n",
       "      <td>105100</td>\n",
       "      <td>The University of Alabama</td>\n",
       "      <td>Tuscaloosa</td>\n",
       "      <td>AL</td>\n",
       "      <td>South</td>\n",
       "      <td>17.671</td>\n",
       "      <td>4.0</td>\n",
       "      <td>Graduate</td>\n",
       "      <td>Public</td>\n",
       "      <td>Small City</td>\n",
       "      <td>...</td>\n",
       "      <td>30.016</td>\n",
       "      <td>14.705</td>\n",
       "      <td>9.650</td>\n",
       "      <td>10.349</td>\n",
       "      <td>17.18</td>\n",
       "      <td>36.44</td>\n",
       "      <td>72.14</td>\n",
       "      <td>22.571269</td>\n",
       "      <td>66.7335</td>\n",
       "      <td>52.751</td>\n",
       "    </tr>\n",
       "  </tbody>\n",
       "</table>\n",
       "<p>5 rows × 26 columns</p>\n",
       "</div>"
      ],
      "text/plain": [
       "    OPEID                                 name        city state region  \\\n",
       "0  100200             Alabama A & M University      Normal    AL  South   \n",
       "1  105200  University of Alabama at Birmingham  Birmingham    AL  South   \n",
       "2  105500  University of Alabama in Huntsville  Huntsville    AL  South   \n",
       "3  100500             Alabama State University  Montgomery    AL  South   \n",
       "4  105100            The University of Alabama  Tuscaloosa    AL  South   \n",
       "\n",
       "   median_debt  default_rate highest_degree ownership      locale  ...  \\\n",
       "0       15.250          12.1       Graduate    Public  Small City  ...   \n",
       "1       15.085           4.8       Graduate    Public  Small City  ...   \n",
       "2       14.000           4.7       Graduate    Public  Small City  ...   \n",
       "3       17.500          12.8       Graduate    Public  Small City  ...   \n",
       "4       17.671           4.0       Graduate    Public  Small City  ...   \n",
       "\n",
       "  avg_cost  net_tuition  ed_spending_per_student avg_faculty_salary  pct_PELL  \\\n",
       "0   23.445        8.101                    4.836              7.599     70.95   \n",
       "1   25.542       11.986                   14.691             11.380     33.97   \n",
       "2   24.861        8.279                    8.320              9.697     24.03   \n",
       "3   21.892        9.302                    9.579              7.194     73.68   \n",
       "4   30.016       14.705                    9.650             10.349     17.18   \n",
       "\n",
       "   pct_fed_loan  grad_rate  pct_firstgen  med_fam_income  med_alum_earnings  \n",
       "0         75.04      28.66     36.582809         23.5530             36.339  \n",
       "1         46.88      61.17     34.122367         34.4890             46.990  \n",
       "2         38.55      57.14     31.013216         44.7870             54.361  \n",
       "3         78.05      31.77     34.343434         22.0805             32.084  \n",
       "4         36.44      72.14     22.571269         66.7335             52.751  \n",
       "\n",
       "[5 rows x 26 columns]"
      ]
     },
     "execution_count": 6,
     "metadata": {},
     "output_type": "execute_result"
    }
   ],
   "source": [
    "## Run this code but do not edit it. Hit Ctrl+Enter to run the code.\n",
    "# This command downloads data from the file 'our_year_colleges.csv' and stores it in an object called `four_year_col`\n",
    "four_year_col = pd.read_csv('https://ds-modules.github.io/ds-challenge-assets/four_year_colleges.csv')\n",
    "four_year_col.head()"
   ]
  },
  {
   "cell_type": "markdown",
   "metadata": {
    "cell_id": "78506e4b1e0f453baeecf0cb3b692a28",
    "deepnote_cell_type": "markdown",
    "tags": []
   },
   "source": [
    "### 1.0 - Motivating non-linear regression"
   ]
  },
  {
   "cell_type": "markdown",
   "metadata": {
    "cell_id": "6fbb4f69b47543a3a66d81029cd1f7d3",
    "deepnote_cell_type": "markdown",
    "tags": []
   },
   "source": [
    "So far, we've focused entirely on **linear regression** and **multiple linear regression** models, which use linear functions to relate predictors (e.g. `net_tuition`,`grad_rate`,`pct_PELL`) to the outcome (`default_rate`). \n",
    "\n",
    "In this notebook, we're going to investigate ways to model **non-linear** relationships. To make this task a bit more manageable at the start, let's reduce the size of our dataset by taking a random sample of 20 colleges from the `four_yeal_col` dataframe. We will store our sample in a new `pandas` dataframe called `sample_four_yeal_col`."
   ]
  },
  {
   "cell_type": "code",
   "execution_count": 7,
   "metadata": {
    "cell_id": "2ca407c9afa74f8998d7c71c44f4ae3c",
    "deepnote_cell_type": "code",
    "deepnote_to_be_reexecuted": true,
    "execution_millis": 67,
    "execution_start": 1709620366450,
    "output_cleared": false,
    "source_hash": null,
    "tags": []
   },
   "outputs": [
    {
     "data": {
      "application/vnd.microsoft.datawrangler.viewer.v0+json": {
       "columns": [
        {
         "name": "index",
         "rawType": "int64",
         "type": "integer"
        },
        {
         "name": "OPEID",
         "rawType": "int64",
         "type": "integer"
        },
        {
         "name": "name",
         "rawType": "object",
         "type": "string"
        },
        {
         "name": "city",
         "rawType": "object",
         "type": "string"
        },
        {
         "name": "state",
         "rawType": "object",
         "type": "string"
        },
        {
         "name": "region",
         "rawType": "object",
         "type": "string"
        },
        {
         "name": "median_debt",
         "rawType": "float64",
         "type": "float"
        },
        {
         "name": "default_rate",
         "rawType": "float64",
         "type": "float"
        },
        {
         "name": "highest_degree",
         "rawType": "object",
         "type": "string"
        },
        {
         "name": "ownership",
         "rawType": "object",
         "type": "string"
        },
        {
         "name": "locale",
         "rawType": "object",
         "type": "string"
        },
        {
         "name": "hbcu",
         "rawType": "object",
         "type": "string"
        },
        {
         "name": "admit_rate",
         "rawType": "float64",
         "type": "float"
        },
        {
         "name": "SAT_avg",
         "rawType": "int64",
         "type": "integer"
        },
        {
         "name": "online_only",
         "rawType": "object",
         "type": "string"
        },
        {
         "name": "enrollment",
         "rawType": "int64",
         "type": "integer"
        },
        {
         "name": "net_price",
         "rawType": "float64",
         "type": "float"
        },
        {
         "name": "avg_cost",
         "rawType": "float64",
         "type": "float"
        },
        {
         "name": "net_tuition",
         "rawType": "float64",
         "type": "float"
        },
        {
         "name": "ed_spending_per_student",
         "rawType": "float64",
         "type": "float"
        },
        {
         "name": "avg_faculty_salary",
         "rawType": "float64",
         "type": "float"
        },
        {
         "name": "pct_PELL",
         "rawType": "float64",
         "type": "float"
        },
        {
         "name": "pct_fed_loan",
         "rawType": "float64",
         "type": "float"
        },
        {
         "name": "grad_rate",
         "rawType": "float64",
         "type": "float"
        },
        {
         "name": "pct_firstgen",
         "rawType": "float64",
         "type": "float"
        },
        {
         "name": "med_fam_income",
         "rawType": "float64",
         "type": "float"
        },
        {
         "name": "med_alum_earnings",
         "rawType": "float64",
         "type": "float"
        }
       ],
       "conversionMethod": "pd.DataFrame",
       "ref": "9df5cb9d-47ce-491b-b2ae-6acfadfd1fbd",
       "rows": [
        [
         "585",
         "285800",
         "Farmingdale State College",
         "Farmingdale",
         "NY",
         "Northeast",
         "11.25",
         "3.4",
         "Graduate",
         "Public",
         "Suburb",
         "No",
         "60.16",
         "1075",
         "No",
         "9462",
         "9.002",
         "16.856",
         "5.637",
         "10.189",
         "8.418",
         "33.08",
         "39.45",
         "53.2",
         "39.7044004",
         "40.4615",
         "61.646"
        ],
        [
         "813",
         "342700",
         "Coker University",
         "Hartsville",
         "SC",
         "South",
         "16.0",
         "11.3",
         "Graduate",
         "Private nonprofit",
         "Town",
         "No",
         "93.06",
         "1008",
         "No",
         "950",
         "16.975",
         "42.395",
         "10.878",
         "6.35",
         "6.477",
         "55.18",
         "61.95",
         "53.28",
         "37.6160991",
         "31.522",
         "36.437"
        ],
        [
         "837",
         "346600",
         "Northern State University",
         "Aberdeen",
         "SD",
         "Midwest",
         "15.5",
         "4.7",
         "Graduate",
         "Public",
         "Town",
         "No",
         "78.71",
         "1119",
         "No",
         "1384",
         "16.695",
         "21.388",
         "5.468",
         "9.979",
         "7.539",
         "15.33",
         "27.99",
         "45.22",
         "30.6916427",
         "52.17",
         "43.429"
        ],
        [
         "787",
         "338400",
         "University of Scranton",
         "Scranton",
         "PA",
         "Northeast",
         "26.0",
         "1.5",
         "Graduate",
         "Private nonprofit",
         "Small City",
         "No",
         "78.73",
         "1200",
         "No",
         "3592",
         "34.378",
         "62.38",
         "21.682",
         "13.123",
         "10.39",
         "18.86",
         "64.37",
         "81.54",
         "20.3472222",
         "99.655",
         "69.236"
        ],
        [
         "112",
         "143400",
         "American University",
         "Washington",
         "DC",
         "Northeast",
         "20.19",
         "1.7",
         "Graduate",
         "Private nonprofit",
         "Large City",
         "No",
         "38.65",
         "1328",
         "No",
         "7510",
         "40.088",
         "66.416",
         "32.893",
         "16.605",
         "12.033",
         "13.69",
         "36.27",
         "79.11",
         "15.6343443",
         "84.2",
         "71.933"
        ],
        [
         "244",
         "181300",
         "Indiana University-Purdue University-Indianapolis",
         "Indianapolis",
         "IN",
         "Midwest",
         "13.741",
         "4.2",
         "Graduate",
         "Public",
         "Large City",
         "No",
         "78.54",
         "1102",
         "No",
         "20441",
         "12.416",
         "21.127",
         "11.959",
         "18.926",
         "8.586",
         "35.5",
         "40.49",
         "52.4",
         "35.086149",
         "45.002",
         "47.542"
        ],
        [
         "358",
         "213000",
         "Boston University",
         "Boston",
         "MA",
         "Northeast",
         "22.423",
         "1.4",
         "Graduate",
         "Private nonprofit",
         "Large City",
         "No",
         "20.09",
         "1419",
         "No",
         "16359",
         "30.395",
         "74.911",
         "33.935",
         "32.434",
         "14.614",
         "15.93",
         "28.97",
         "89.03",
         "16.9382716",
         "81.244",
         "75.642"
        ],
        [
         "1046",
         "396903",
         "University of Minnesota-Rochester",
         "Rochester",
         "MN",
         "Midwest",
         "16.75",
         "1.7",
         "Bachelors",
         "Public",
         "Small City",
         "No",
         "73.75",
         "1152",
         "No",
         "614",
         "15.636",
         "25.495",
         "14.281",
         "5.95",
         "6.875",
         "35.49",
         "54.2",
         "54.46",
         "18.6560199",
         "76.0285",
         "61.201"
        ],
        [
         "472",
         "249600",
         "Northwest Missouri State University",
         "Maryville",
         "MO",
         "Midwest",
         "13.893",
         "5.6",
         "Graduate",
         "Public",
         "Town",
         "No",
         "80.11",
         "1104",
         "No",
         "5151",
         "12.925",
         "20.235",
         "7.317",
         "7.318",
         "7.379",
         "30.63",
         "53.38",
         "54.05",
         "30.8085106",
         "56.47",
         "43.505"
        ],
        [
         "835",
         "346100",
         "Dakota Wesleyan University",
         "Mitchell",
         "SD",
         "Midwest",
         "19.5",
         "5.0",
         "Graduate",
         "Private nonprofit",
         "Town",
         "No",
         "64.2",
         "1061",
         "No",
         "690",
         "20.929",
         "38.617",
         "13.089",
         "6.905",
         "6.066",
         "37.08",
         "86.61",
         "44.29",
         "28.9416847",
         "68.7425",
         "45.864"
        ],
        [
         "716",
         "398500",
         "Oral Roberts University",
         "Tulsa",
         "OK",
         "Rockies & Southwest",
         "19.0",
         "5.4",
         "Graduate",
         "Private nonprofit",
         "Large City",
         "No",
         "78.39",
         "1133",
         "No",
         "3080",
         "19.355",
         "44.006",
         "10.806",
         "6.857",
         "7.607",
         "37.67",
         "55.57",
         "55.66",
         "30.9352518",
         "43.8005",
         "42.161"
        ],
        [
         "211",
         "171000",
         "Loyola University Chicago",
         "Chicago",
         "IL",
         "Midwest",
         "19.875",
         "2.7",
         "Graduate",
         "Private nonprofit",
         "Large City",
         "No",
         "70.54",
         "1261",
         "No",
         "11531",
         "36.434",
         "60.717",
         "25.478",
         "12.264",
         "10.863",
         "23.37",
         "54.8",
         "76.05",
         "27.686747",
         "60.5275",
         "63.232"
        ],
        [
         "1044",
         "4127100",
         "University of California-Merced",
         "Merced",
         "CA",
         "Far West",
         "12.6",
         "2.8",
         "Graduate",
         "Public",
         "Rural",
         "No",
         "84.8",
         "1066",
         "No",
         "8276",
         "13.691",
         "35.005",
         "9.386",
         "10.84",
         "11.85",
         "63.89",
         "44.99",
         "68.69",
         "57.4139976",
         "33.931",
         "61.148"
        ],
        [
         "157",
         "157300",
         "Georgia Southwestern State University",
         "Americus",
         "GA",
         "South",
         "11.863",
         "4.7",
         "Graduate",
         "Public",
         "Town",
         "No",
         "73.4",
         "1040",
         "No",
         "2201",
         "11.831",
         "19.125",
         "4.604",
         "7.066",
         "7.002",
         "37.99",
         "45.12",
         "36.27",
         "34.5201238",
         "35.8565",
         "42.086"
        ],
        [
         "481",
         "252300",
         "Westminster College",
         "Fulton",
         "MO",
         "Midwest",
         "19.5",
         "5.6",
         "Bachelors",
         "Private nonprofit",
         "Town",
         "No",
         "97.43",
         "1136",
         "No",
         "606",
         "24.139",
         "44.5",
         "11.684",
         "8.314",
         "6.422",
         "34.5",
         "87.33",
         "59.63",
         "27.0029674",
         "56.0715",
         "45.545"
        ],
        [
         "798",
         "339400",
         "Wilkes University",
         "Wilkes-Barre",
         "PA",
         "Northeast",
         "20.599",
         "3.5",
         "Graduate",
         "Private nonprofit",
         "Small City",
         "No",
         "91.77",
         "1137",
         "No",
         "2131",
         "29.618",
         "54.085",
         "18.683",
         "10.609",
         "8.953",
         "32.62",
         "71.12",
         "63.91",
         "34.6123728",
         "62.518",
         "56.992"
        ],
        [
         "340",
         "210200",
         "University of Baltimore",
         "Baltimore",
         "MD",
         "Northeast",
         "18.75",
         "5.7",
         "Graduate",
         "Public",
         "Large City",
         "No",
         "79.93",
         "1018",
         "No",
         "1856",
         "17.206",
         "24.521",
         "13.073",
         "13.451",
         "11.251",
         "39.77",
         "43.25",
         "33.63",
         "39.9002494",
         "28.8",
         "58.128"
        ],
        [
         "822",
         "344000",
         "Newberry College",
         "Newberry",
         "SC",
         "South",
         "16.0",
         "11.3",
         "Bachelors",
         "Private nonprofit",
         "Town",
         "No",
         "56.59",
         "989",
         "No",
         "1251",
         "20.22",
         "42.32",
         "11.445",
         "6.924",
         "6.112",
         "48.31",
         "77.66",
         "52.01",
         "31.3131313",
         "43.889",
         "40.867"
        ],
        [
         "737",
         "323500",
         "Arcadia University",
         "Glenside",
         "PA",
         "Northeast",
         "22.5",
         "3.0",
         "Graduate",
         "Private nonprofit",
         "Suburb",
         "No",
         "73.63",
         "1138",
         "No",
         "1832",
         "28.574",
         "59.684",
         "18.018",
         "8.882",
         "8.019",
         "34.11",
         "68.03",
         "65.38",
         "30.6701031",
         "66.802",
         "52.008"
        ],
        [
         "588",
         "283600",
         "Binghamton University",
         "Vestal",
         "NY",
         "Northeast",
         "15.0",
         "1.9",
         "Graduate",
         "Public",
         "Suburb",
         "No",
         "43.03",
         "1376",
         "No",
         "14300",
         "20.703",
         "28.01",
         "8.267",
         "12.038",
         "10.035",
         "26.61",
         "42.76",
         "81.72",
         "24.8382625",
         "61.401",
         "72.98"
        ]
       ],
       "shape": {
        "columns": 26,
        "rows": 20
       }
      },
      "text/html": [
       "<div>\n",
       "<style scoped>\n",
       "    .dataframe tbody tr th:only-of-type {\n",
       "        vertical-align: middle;\n",
       "    }\n",
       "\n",
       "    .dataframe tbody tr th {\n",
       "        vertical-align: top;\n",
       "    }\n",
       "\n",
       "    .dataframe thead th {\n",
       "        text-align: right;\n",
       "    }\n",
       "</style>\n",
       "<table border=\"1\" class=\"dataframe\">\n",
       "  <thead>\n",
       "    <tr style=\"text-align: right;\">\n",
       "      <th></th>\n",
       "      <th>OPEID</th>\n",
       "      <th>name</th>\n",
       "      <th>city</th>\n",
       "      <th>state</th>\n",
       "      <th>region</th>\n",
       "      <th>median_debt</th>\n",
       "      <th>default_rate</th>\n",
       "      <th>highest_degree</th>\n",
       "      <th>ownership</th>\n",
       "      <th>locale</th>\n",
       "      <th>...</th>\n",
       "      <th>avg_cost</th>\n",
       "      <th>net_tuition</th>\n",
       "      <th>ed_spending_per_student</th>\n",
       "      <th>avg_faculty_salary</th>\n",
       "      <th>pct_PELL</th>\n",
       "      <th>pct_fed_loan</th>\n",
       "      <th>grad_rate</th>\n",
       "      <th>pct_firstgen</th>\n",
       "      <th>med_fam_income</th>\n",
       "      <th>med_alum_earnings</th>\n",
       "    </tr>\n",
       "  </thead>\n",
       "  <tbody>\n",
       "    <tr>\n",
       "      <th>585</th>\n",
       "      <td>285800</td>\n",
       "      <td>Farmingdale State College</td>\n",
       "      <td>Farmingdale</td>\n",
       "      <td>NY</td>\n",
       "      <td>Northeast</td>\n",
       "      <td>11.250</td>\n",
       "      <td>3.4</td>\n",
       "      <td>Graduate</td>\n",
       "      <td>Public</td>\n",
       "      <td>Suburb</td>\n",
       "      <td>...</td>\n",
       "      <td>16.856</td>\n",
       "      <td>5.637</td>\n",
       "      <td>10.189</td>\n",
       "      <td>8.418</td>\n",
       "      <td>33.08</td>\n",
       "      <td>39.45</td>\n",
       "      <td>53.20</td>\n",
       "      <td>39.704400</td>\n",
       "      <td>40.4615</td>\n",
       "      <td>61.646</td>\n",
       "    </tr>\n",
       "    <tr>\n",
       "      <th>813</th>\n",
       "      <td>342700</td>\n",
       "      <td>Coker University</td>\n",
       "      <td>Hartsville</td>\n",
       "      <td>SC</td>\n",
       "      <td>South</td>\n",
       "      <td>16.000</td>\n",
       "      <td>11.3</td>\n",
       "      <td>Graduate</td>\n",
       "      <td>Private nonprofit</td>\n",
       "      <td>Town</td>\n",
       "      <td>...</td>\n",
       "      <td>42.395</td>\n",
       "      <td>10.878</td>\n",
       "      <td>6.350</td>\n",
       "      <td>6.477</td>\n",
       "      <td>55.18</td>\n",
       "      <td>61.95</td>\n",
       "      <td>53.28</td>\n",
       "      <td>37.616099</td>\n",
       "      <td>31.5220</td>\n",
       "      <td>36.437</td>\n",
       "    </tr>\n",
       "    <tr>\n",
       "      <th>837</th>\n",
       "      <td>346600</td>\n",
       "      <td>Northern State University</td>\n",
       "      <td>Aberdeen</td>\n",
       "      <td>SD</td>\n",
       "      <td>Midwest</td>\n",
       "      <td>15.500</td>\n",
       "      <td>4.7</td>\n",
       "      <td>Graduate</td>\n",
       "      <td>Public</td>\n",
       "      <td>Town</td>\n",
       "      <td>...</td>\n",
       "      <td>21.388</td>\n",
       "      <td>5.468</td>\n",
       "      <td>9.979</td>\n",
       "      <td>7.539</td>\n",
       "      <td>15.33</td>\n",
       "      <td>27.99</td>\n",
       "      <td>45.22</td>\n",
       "      <td>30.691643</td>\n",
       "      <td>52.1700</td>\n",
       "      <td>43.429</td>\n",
       "    </tr>\n",
       "    <tr>\n",
       "      <th>787</th>\n",
       "      <td>338400</td>\n",
       "      <td>University of Scranton</td>\n",
       "      <td>Scranton</td>\n",
       "      <td>PA</td>\n",
       "      <td>Northeast</td>\n",
       "      <td>26.000</td>\n",
       "      <td>1.5</td>\n",
       "      <td>Graduate</td>\n",
       "      <td>Private nonprofit</td>\n",
       "      <td>Small City</td>\n",
       "      <td>...</td>\n",
       "      <td>62.380</td>\n",
       "      <td>21.682</td>\n",
       "      <td>13.123</td>\n",
       "      <td>10.390</td>\n",
       "      <td>18.86</td>\n",
       "      <td>64.37</td>\n",
       "      <td>81.54</td>\n",
       "      <td>20.347222</td>\n",
       "      <td>99.6550</td>\n",
       "      <td>69.236</td>\n",
       "    </tr>\n",
       "    <tr>\n",
       "      <th>112</th>\n",
       "      <td>143400</td>\n",
       "      <td>American University</td>\n",
       "      <td>Washington</td>\n",
       "      <td>DC</td>\n",
       "      <td>Northeast</td>\n",
       "      <td>20.190</td>\n",
       "      <td>1.7</td>\n",
       "      <td>Graduate</td>\n",
       "      <td>Private nonprofit</td>\n",
       "      <td>Large City</td>\n",
       "      <td>...</td>\n",
       "      <td>66.416</td>\n",
       "      <td>32.893</td>\n",
       "      <td>16.605</td>\n",
       "      <td>12.033</td>\n",
       "      <td>13.69</td>\n",
       "      <td>36.27</td>\n",
       "      <td>79.11</td>\n",
       "      <td>15.634344</td>\n",
       "      <td>84.2000</td>\n",
       "      <td>71.933</td>\n",
       "    </tr>\n",
       "    <tr>\n",
       "      <th>244</th>\n",
       "      <td>181300</td>\n",
       "      <td>Indiana University-Purdue University-Indianapolis</td>\n",
       "      <td>Indianapolis</td>\n",
       "      <td>IN</td>\n",
       "      <td>Midwest</td>\n",
       "      <td>13.741</td>\n",
       "      <td>4.2</td>\n",
       "      <td>Graduate</td>\n",
       "      <td>Public</td>\n",
       "      <td>Large City</td>\n",
       "      <td>...</td>\n",
       "      <td>21.127</td>\n",
       "      <td>11.959</td>\n",
       "      <td>18.926</td>\n",
       "      <td>8.586</td>\n",
       "      <td>35.50</td>\n",
       "      <td>40.49</td>\n",
       "      <td>52.40</td>\n",
       "      <td>35.086149</td>\n",
       "      <td>45.0020</td>\n",
       "      <td>47.542</td>\n",
       "    </tr>\n",
       "    <tr>\n",
       "      <th>358</th>\n",
       "      <td>213000</td>\n",
       "      <td>Boston University</td>\n",
       "      <td>Boston</td>\n",
       "      <td>MA</td>\n",
       "      <td>Northeast</td>\n",
       "      <td>22.423</td>\n",
       "      <td>1.4</td>\n",
       "      <td>Graduate</td>\n",
       "      <td>Private nonprofit</td>\n",
       "      <td>Large City</td>\n",
       "      <td>...</td>\n",
       "      <td>74.911</td>\n",
       "      <td>33.935</td>\n",
       "      <td>32.434</td>\n",
       "      <td>14.614</td>\n",
       "      <td>15.93</td>\n",
       "      <td>28.97</td>\n",
       "      <td>89.03</td>\n",
       "      <td>16.938272</td>\n",
       "      <td>81.2440</td>\n",
       "      <td>75.642</td>\n",
       "    </tr>\n",
       "    <tr>\n",
       "      <th>1046</th>\n",
       "      <td>396903</td>\n",
       "      <td>University of Minnesota-Rochester</td>\n",
       "      <td>Rochester</td>\n",
       "      <td>MN</td>\n",
       "      <td>Midwest</td>\n",
       "      <td>16.750</td>\n",
       "      <td>1.7</td>\n",
       "      <td>Bachelors</td>\n",
       "      <td>Public</td>\n",
       "      <td>Small City</td>\n",
       "      <td>...</td>\n",
       "      <td>25.495</td>\n",
       "      <td>14.281</td>\n",
       "      <td>5.950</td>\n",
       "      <td>6.875</td>\n",
       "      <td>35.49</td>\n",
       "      <td>54.20</td>\n",
       "      <td>54.46</td>\n",
       "      <td>18.656020</td>\n",
       "      <td>76.0285</td>\n",
       "      <td>61.201</td>\n",
       "    </tr>\n",
       "    <tr>\n",
       "      <th>472</th>\n",
       "      <td>249600</td>\n",
       "      <td>Northwest Missouri State University</td>\n",
       "      <td>Maryville</td>\n",
       "      <td>MO</td>\n",
       "      <td>Midwest</td>\n",
       "      <td>13.893</td>\n",
       "      <td>5.6</td>\n",
       "      <td>Graduate</td>\n",
       "      <td>Public</td>\n",
       "      <td>Town</td>\n",
       "      <td>...</td>\n",
       "      <td>20.235</td>\n",
       "      <td>7.317</td>\n",
       "      <td>7.318</td>\n",
       "      <td>7.379</td>\n",
       "      <td>30.63</td>\n",
       "      <td>53.38</td>\n",
       "      <td>54.05</td>\n",
       "      <td>30.808511</td>\n",
       "      <td>56.4700</td>\n",
       "      <td>43.505</td>\n",
       "    </tr>\n",
       "    <tr>\n",
       "      <th>835</th>\n",
       "      <td>346100</td>\n",
       "      <td>Dakota Wesleyan University</td>\n",
       "      <td>Mitchell</td>\n",
       "      <td>SD</td>\n",
       "      <td>Midwest</td>\n",
       "      <td>19.500</td>\n",
       "      <td>5.0</td>\n",
       "      <td>Graduate</td>\n",
       "      <td>Private nonprofit</td>\n",
       "      <td>Town</td>\n",
       "      <td>...</td>\n",
       "      <td>38.617</td>\n",
       "      <td>13.089</td>\n",
       "      <td>6.905</td>\n",
       "      <td>6.066</td>\n",
       "      <td>37.08</td>\n",
       "      <td>86.61</td>\n",
       "      <td>44.29</td>\n",
       "      <td>28.941685</td>\n",
       "      <td>68.7425</td>\n",
       "      <td>45.864</td>\n",
       "    </tr>\n",
       "    <tr>\n",
       "      <th>716</th>\n",
       "      <td>398500</td>\n",
       "      <td>Oral Roberts University</td>\n",
       "      <td>Tulsa</td>\n",
       "      <td>OK</td>\n",
       "      <td>Rockies &amp; Southwest</td>\n",
       "      <td>19.000</td>\n",
       "      <td>5.4</td>\n",
       "      <td>Graduate</td>\n",
       "      <td>Private nonprofit</td>\n",
       "      <td>Large City</td>\n",
       "      <td>...</td>\n",
       "      <td>44.006</td>\n",
       "      <td>10.806</td>\n",
       "      <td>6.857</td>\n",
       "      <td>7.607</td>\n",
       "      <td>37.67</td>\n",
       "      <td>55.57</td>\n",
       "      <td>55.66</td>\n",
       "      <td>30.935252</td>\n",
       "      <td>43.8005</td>\n",
       "      <td>42.161</td>\n",
       "    </tr>\n",
       "    <tr>\n",
       "      <th>211</th>\n",
       "      <td>171000</td>\n",
       "      <td>Loyola University Chicago</td>\n",
       "      <td>Chicago</td>\n",
       "      <td>IL</td>\n",
       "      <td>Midwest</td>\n",
       "      <td>19.875</td>\n",
       "      <td>2.7</td>\n",
       "      <td>Graduate</td>\n",
       "      <td>Private nonprofit</td>\n",
       "      <td>Large City</td>\n",
       "      <td>...</td>\n",
       "      <td>60.717</td>\n",
       "      <td>25.478</td>\n",
       "      <td>12.264</td>\n",
       "      <td>10.863</td>\n",
       "      <td>23.37</td>\n",
       "      <td>54.80</td>\n",
       "      <td>76.05</td>\n",
       "      <td>27.686747</td>\n",
       "      <td>60.5275</td>\n",
       "      <td>63.232</td>\n",
       "    </tr>\n",
       "    <tr>\n",
       "      <th>1044</th>\n",
       "      <td>4127100</td>\n",
       "      <td>University of California-Merced</td>\n",
       "      <td>Merced</td>\n",
       "      <td>CA</td>\n",
       "      <td>Far West</td>\n",
       "      <td>12.600</td>\n",
       "      <td>2.8</td>\n",
       "      <td>Graduate</td>\n",
       "      <td>Public</td>\n",
       "      <td>Rural</td>\n",
       "      <td>...</td>\n",
       "      <td>35.005</td>\n",
       "      <td>9.386</td>\n",
       "      <td>10.840</td>\n",
       "      <td>11.850</td>\n",
       "      <td>63.89</td>\n",
       "      <td>44.99</td>\n",
       "      <td>68.69</td>\n",
       "      <td>57.413998</td>\n",
       "      <td>33.9310</td>\n",
       "      <td>61.148</td>\n",
       "    </tr>\n",
       "    <tr>\n",
       "      <th>157</th>\n",
       "      <td>157300</td>\n",
       "      <td>Georgia Southwestern State University</td>\n",
       "      <td>Americus</td>\n",
       "      <td>GA</td>\n",
       "      <td>South</td>\n",
       "      <td>11.863</td>\n",
       "      <td>4.7</td>\n",
       "      <td>Graduate</td>\n",
       "      <td>Public</td>\n",
       "      <td>Town</td>\n",
       "      <td>...</td>\n",
       "      <td>19.125</td>\n",
       "      <td>4.604</td>\n",
       "      <td>7.066</td>\n",
       "      <td>7.002</td>\n",
       "      <td>37.99</td>\n",
       "      <td>45.12</td>\n",
       "      <td>36.27</td>\n",
       "      <td>34.520124</td>\n",
       "      <td>35.8565</td>\n",
       "      <td>42.086</td>\n",
       "    </tr>\n",
       "    <tr>\n",
       "      <th>481</th>\n",
       "      <td>252300</td>\n",
       "      <td>Westminster College</td>\n",
       "      <td>Fulton</td>\n",
       "      <td>MO</td>\n",
       "      <td>Midwest</td>\n",
       "      <td>19.500</td>\n",
       "      <td>5.6</td>\n",
       "      <td>Bachelors</td>\n",
       "      <td>Private nonprofit</td>\n",
       "      <td>Town</td>\n",
       "      <td>...</td>\n",
       "      <td>44.500</td>\n",
       "      <td>11.684</td>\n",
       "      <td>8.314</td>\n",
       "      <td>6.422</td>\n",
       "      <td>34.50</td>\n",
       "      <td>87.33</td>\n",
       "      <td>59.63</td>\n",
       "      <td>27.002967</td>\n",
       "      <td>56.0715</td>\n",
       "      <td>45.545</td>\n",
       "    </tr>\n",
       "    <tr>\n",
       "      <th>798</th>\n",
       "      <td>339400</td>\n",
       "      <td>Wilkes University</td>\n",
       "      <td>Wilkes-Barre</td>\n",
       "      <td>PA</td>\n",
       "      <td>Northeast</td>\n",
       "      <td>20.599</td>\n",
       "      <td>3.5</td>\n",
       "      <td>Graduate</td>\n",
       "      <td>Private nonprofit</td>\n",
       "      <td>Small City</td>\n",
       "      <td>...</td>\n",
       "      <td>54.085</td>\n",
       "      <td>18.683</td>\n",
       "      <td>10.609</td>\n",
       "      <td>8.953</td>\n",
       "      <td>32.62</td>\n",
       "      <td>71.12</td>\n",
       "      <td>63.91</td>\n",
       "      <td>34.612373</td>\n",
       "      <td>62.5180</td>\n",
       "      <td>56.992</td>\n",
       "    </tr>\n",
       "    <tr>\n",
       "      <th>340</th>\n",
       "      <td>210200</td>\n",
       "      <td>University of Baltimore</td>\n",
       "      <td>Baltimore</td>\n",
       "      <td>MD</td>\n",
       "      <td>Northeast</td>\n",
       "      <td>18.750</td>\n",
       "      <td>5.7</td>\n",
       "      <td>Graduate</td>\n",
       "      <td>Public</td>\n",
       "      <td>Large City</td>\n",
       "      <td>...</td>\n",
       "      <td>24.521</td>\n",
       "      <td>13.073</td>\n",
       "      <td>13.451</td>\n",
       "      <td>11.251</td>\n",
       "      <td>39.77</td>\n",
       "      <td>43.25</td>\n",
       "      <td>33.63</td>\n",
       "      <td>39.900249</td>\n",
       "      <td>28.8000</td>\n",
       "      <td>58.128</td>\n",
       "    </tr>\n",
       "    <tr>\n",
       "      <th>822</th>\n",
       "      <td>344000</td>\n",
       "      <td>Newberry College</td>\n",
       "      <td>Newberry</td>\n",
       "      <td>SC</td>\n",
       "      <td>South</td>\n",
       "      <td>16.000</td>\n",
       "      <td>11.3</td>\n",
       "      <td>Bachelors</td>\n",
       "      <td>Private nonprofit</td>\n",
       "      <td>Town</td>\n",
       "      <td>...</td>\n",
       "      <td>42.320</td>\n",
       "      <td>11.445</td>\n",
       "      <td>6.924</td>\n",
       "      <td>6.112</td>\n",
       "      <td>48.31</td>\n",
       "      <td>77.66</td>\n",
       "      <td>52.01</td>\n",
       "      <td>31.313131</td>\n",
       "      <td>43.8890</td>\n",
       "      <td>40.867</td>\n",
       "    </tr>\n",
       "    <tr>\n",
       "      <th>737</th>\n",
       "      <td>323500</td>\n",
       "      <td>Arcadia University</td>\n",
       "      <td>Glenside</td>\n",
       "      <td>PA</td>\n",
       "      <td>Northeast</td>\n",
       "      <td>22.500</td>\n",
       "      <td>3.0</td>\n",
       "      <td>Graduate</td>\n",
       "      <td>Private nonprofit</td>\n",
       "      <td>Suburb</td>\n",
       "      <td>...</td>\n",
       "      <td>59.684</td>\n",
       "      <td>18.018</td>\n",
       "      <td>8.882</td>\n",
       "      <td>8.019</td>\n",
       "      <td>34.11</td>\n",
       "      <td>68.03</td>\n",
       "      <td>65.38</td>\n",
       "      <td>30.670103</td>\n",
       "      <td>66.8020</td>\n",
       "      <td>52.008</td>\n",
       "    </tr>\n",
       "    <tr>\n",
       "      <th>588</th>\n",
       "      <td>283600</td>\n",
       "      <td>Binghamton University</td>\n",
       "      <td>Vestal</td>\n",
       "      <td>NY</td>\n",
       "      <td>Northeast</td>\n",
       "      <td>15.000</td>\n",
       "      <td>1.9</td>\n",
       "      <td>Graduate</td>\n",
       "      <td>Public</td>\n",
       "      <td>Suburb</td>\n",
       "      <td>...</td>\n",
       "      <td>28.010</td>\n",
       "      <td>8.267</td>\n",
       "      <td>12.038</td>\n",
       "      <td>10.035</td>\n",
       "      <td>26.61</td>\n",
       "      <td>42.76</td>\n",
       "      <td>81.72</td>\n",
       "      <td>24.838262</td>\n",
       "      <td>61.4010</td>\n",
       "      <td>72.980</td>\n",
       "    </tr>\n",
       "  </tbody>\n",
       "</table>\n",
       "<p>20 rows × 26 columns</p>\n",
       "</div>"
      ],
      "text/plain": [
       "        OPEID                                               name  \\\n",
       "585    285800                          Farmingdale State College   \n",
       "813    342700                                   Coker University   \n",
       "837    346600                          Northern State University   \n",
       "787    338400                             University of Scranton   \n",
       "112    143400                                American University   \n",
       "244    181300  Indiana University-Purdue University-Indianapolis   \n",
       "358    213000                                  Boston University   \n",
       "1046   396903                  University of Minnesota-Rochester   \n",
       "472    249600                Northwest Missouri State University   \n",
       "835    346100                         Dakota Wesleyan University   \n",
       "716    398500                            Oral Roberts University   \n",
       "211    171000                          Loyola University Chicago   \n",
       "1044  4127100                    University of California-Merced   \n",
       "157    157300              Georgia Southwestern State University   \n",
       "481    252300                                Westminster College   \n",
       "798    339400                                  Wilkes University   \n",
       "340    210200                            University of Baltimore   \n",
       "822    344000                                   Newberry College   \n",
       "737    323500                                 Arcadia University   \n",
       "588    283600                              Binghamton University   \n",
       "\n",
       "              city state               region  median_debt  default_rate  \\\n",
       "585    Farmingdale    NY            Northeast       11.250           3.4   \n",
       "813     Hartsville    SC                South       16.000          11.3   \n",
       "837       Aberdeen    SD              Midwest       15.500           4.7   \n",
       "787       Scranton    PA            Northeast       26.000           1.5   \n",
       "112     Washington    DC            Northeast       20.190           1.7   \n",
       "244   Indianapolis    IN              Midwest       13.741           4.2   \n",
       "358         Boston    MA            Northeast       22.423           1.4   \n",
       "1046     Rochester    MN              Midwest       16.750           1.7   \n",
       "472      Maryville    MO              Midwest       13.893           5.6   \n",
       "835       Mitchell    SD              Midwest       19.500           5.0   \n",
       "716          Tulsa    OK  Rockies & Southwest       19.000           5.4   \n",
       "211        Chicago    IL              Midwest       19.875           2.7   \n",
       "1044        Merced    CA             Far West       12.600           2.8   \n",
       "157       Americus    GA                South       11.863           4.7   \n",
       "481         Fulton    MO              Midwest       19.500           5.6   \n",
       "798   Wilkes-Barre    PA            Northeast       20.599           3.5   \n",
       "340      Baltimore    MD            Northeast       18.750           5.7   \n",
       "822       Newberry    SC                South       16.000          11.3   \n",
       "737       Glenside    PA            Northeast       22.500           3.0   \n",
       "588         Vestal    NY            Northeast       15.000           1.9   \n",
       "\n",
       "     highest_degree          ownership      locale  ... avg_cost  net_tuition  \\\n",
       "585        Graduate             Public      Suburb  ...   16.856        5.637   \n",
       "813        Graduate  Private nonprofit        Town  ...   42.395       10.878   \n",
       "837        Graduate             Public        Town  ...   21.388        5.468   \n",
       "787        Graduate  Private nonprofit  Small City  ...   62.380       21.682   \n",
       "112        Graduate  Private nonprofit  Large City  ...   66.416       32.893   \n",
       "244        Graduate             Public  Large City  ...   21.127       11.959   \n",
       "358        Graduate  Private nonprofit  Large City  ...   74.911       33.935   \n",
       "1046      Bachelors             Public  Small City  ...   25.495       14.281   \n",
       "472        Graduate             Public        Town  ...   20.235        7.317   \n",
       "835        Graduate  Private nonprofit        Town  ...   38.617       13.089   \n",
       "716        Graduate  Private nonprofit  Large City  ...   44.006       10.806   \n",
       "211        Graduate  Private nonprofit  Large City  ...   60.717       25.478   \n",
       "1044       Graduate             Public       Rural  ...   35.005        9.386   \n",
       "157        Graduate             Public        Town  ...   19.125        4.604   \n",
       "481       Bachelors  Private nonprofit        Town  ...   44.500       11.684   \n",
       "798        Graduate  Private nonprofit  Small City  ...   54.085       18.683   \n",
       "340        Graduate             Public  Large City  ...   24.521       13.073   \n",
       "822       Bachelors  Private nonprofit        Town  ...   42.320       11.445   \n",
       "737        Graduate  Private nonprofit      Suburb  ...   59.684       18.018   \n",
       "588        Graduate             Public      Suburb  ...   28.010        8.267   \n",
       "\n",
       "      ed_spending_per_student avg_faculty_salary  pct_PELL  pct_fed_loan  \\\n",
       "585                    10.189              8.418     33.08         39.45   \n",
       "813                     6.350              6.477     55.18         61.95   \n",
       "837                     9.979              7.539     15.33         27.99   \n",
       "787                    13.123             10.390     18.86         64.37   \n",
       "112                    16.605             12.033     13.69         36.27   \n",
       "244                    18.926              8.586     35.50         40.49   \n",
       "358                    32.434             14.614     15.93         28.97   \n",
       "1046                    5.950              6.875     35.49         54.20   \n",
       "472                     7.318              7.379     30.63         53.38   \n",
       "835                     6.905              6.066     37.08         86.61   \n",
       "716                     6.857              7.607     37.67         55.57   \n",
       "211                    12.264             10.863     23.37         54.80   \n",
       "1044                   10.840             11.850     63.89         44.99   \n",
       "157                     7.066              7.002     37.99         45.12   \n",
       "481                     8.314              6.422     34.50         87.33   \n",
       "798                    10.609              8.953     32.62         71.12   \n",
       "340                    13.451             11.251     39.77         43.25   \n",
       "822                     6.924              6.112     48.31         77.66   \n",
       "737                     8.882              8.019     34.11         68.03   \n",
       "588                    12.038             10.035     26.61         42.76   \n",
       "\n",
       "      grad_rate  pct_firstgen  med_fam_income  med_alum_earnings  \n",
       "585       53.20     39.704400         40.4615             61.646  \n",
       "813       53.28     37.616099         31.5220             36.437  \n",
       "837       45.22     30.691643         52.1700             43.429  \n",
       "787       81.54     20.347222         99.6550             69.236  \n",
       "112       79.11     15.634344         84.2000             71.933  \n",
       "244       52.40     35.086149         45.0020             47.542  \n",
       "358       89.03     16.938272         81.2440             75.642  \n",
       "1046      54.46     18.656020         76.0285             61.201  \n",
       "472       54.05     30.808511         56.4700             43.505  \n",
       "835       44.29     28.941685         68.7425             45.864  \n",
       "716       55.66     30.935252         43.8005             42.161  \n",
       "211       76.05     27.686747         60.5275             63.232  \n",
       "1044      68.69     57.413998         33.9310             61.148  \n",
       "157       36.27     34.520124         35.8565             42.086  \n",
       "481       59.63     27.002967         56.0715             45.545  \n",
       "798       63.91     34.612373         62.5180             56.992  \n",
       "340       33.63     39.900249         28.8000             58.128  \n",
       "822       52.01     31.313131         43.8890             40.867  \n",
       "737       65.38     30.670103         66.8020             52.008  \n",
       "588       81.72     24.838262         61.4010             72.980  \n",
       "\n",
       "[20 rows x 26 columns]"
      ]
     },
     "execution_count": 7,
     "metadata": {},
     "output_type": "execute_result"
    }
   ],
   "source": [
    "## Run this code but do not edit it\n",
    "# create a dataset to train the model with 20 randomly selected observations\n",
    "sample_four_year_col = four_year_col.sample(n=20, random_state=4)\n",
    "sample_four_year_col"
   ]
  },
  {
   "cell_type": "markdown",
   "metadata": {
    "cell_id": "c91958ecadfc45698993f2f4f89527d6",
    "deepnote_cell_type": "markdown",
    "tags": []
   },
   "source": [
    "**Note:** When getting a random sample, we'll get different results each time we run our code because it's ... well ... random. This can be quite annoying. So, in the code above, we used the command `set.seed(2)`. This ensures that each time the code is executed, we get the same results for our random sample - the results stored in seed `2`. We could have also set the seed to `1` or `3` or `845` or `12345`. The seed numbers serve merely as a unique ID that corresponds to a certain result from a random draw. By setting a certain seed, we'll always get a certain random draw."
   ]
  },
  {
   "cell_type": "markdown",
   "metadata": {
    "cell_id": "c3113334b31841a4b0e4bff3ed5f51e4",
    "deepnote_cell_type": "markdown",
    "tags": []
   },
   "source": [
    "<div class=\"alert alert-block alert-info\"><b>Instructor Note:</b> Technically, the random sampling in pandas and most other statistical software isn't <i>truly</i> random. It's pseudo-random. See discussion <a href = \"https://simplicable.com/new/pseudorandom-vs-random\">here</a>. For almost all purposes though, pseudo-random sampling gets the job done."
   ]
  },
  {
   "cell_type": "markdown",
   "metadata": {
    "cell_id": "633cfd6e481945c79f99cf83a21d7060",
    "deepnote_cell_type": "markdown",
    "tags": []
   },
   "source": [
    "<div class=\"alert alert-block alert-warning\">\n",
    "\n",
    "**1.1** Let's take a look at our sample data set. Print out the `head` and `shape` of `sample_four_year_col`.\n",
    "\n",
    "</div>"
   ]
  },
  {
   "cell_type": "code",
   "execution_count": null,
   "metadata": {
    "cell_id": "cd6ca01622ee487f80d118c0a9b372c1",
    "deepnote_cell_type": "code",
    "deepnote_to_be_reexecuted": true,
    "execution_millis": 194,
    "execution_start": 1709620366463,
    "output_cleared": false,
    "source_hash": null,
    "tags": []
   },
   "outputs": [
    {
     "data": {
      "application/vnd.microsoft.datawrangler.viewer.v0+json": {
       "columns": [
        {
         "name": "index",
         "rawType": "int64",
         "type": "integer"
        },
        {
         "name": "OPEID",
         "rawType": "int64",
         "type": "integer"
        },
        {
         "name": "name",
         "rawType": "object",
         "type": "string"
        },
        {
         "name": "city",
         "rawType": "object",
         "type": "string"
        },
        {
         "name": "state",
         "rawType": "object",
         "type": "string"
        },
        {
         "name": "region",
         "rawType": "object",
         "type": "string"
        },
        {
         "name": "median_debt",
         "rawType": "float64",
         "type": "float"
        },
        {
         "name": "default_rate",
         "rawType": "float64",
         "type": "float"
        },
        {
         "name": "highest_degree",
         "rawType": "object",
         "type": "string"
        },
        {
         "name": "ownership",
         "rawType": "object",
         "type": "string"
        },
        {
         "name": "locale",
         "rawType": "object",
         "type": "string"
        },
        {
         "name": "hbcu",
         "rawType": "object",
         "type": "string"
        },
        {
         "name": "admit_rate",
         "rawType": "float64",
         "type": "float"
        },
        {
         "name": "SAT_avg",
         "rawType": "int64",
         "type": "integer"
        },
        {
         "name": "online_only",
         "rawType": "object",
         "type": "string"
        },
        {
         "name": "enrollment",
         "rawType": "int64",
         "type": "integer"
        },
        {
         "name": "net_price",
         "rawType": "float64",
         "type": "float"
        },
        {
         "name": "avg_cost",
         "rawType": "float64",
         "type": "float"
        },
        {
         "name": "net_tuition",
         "rawType": "float64",
         "type": "float"
        },
        {
         "name": "ed_spending_per_student",
         "rawType": "float64",
         "type": "float"
        },
        {
         "name": "avg_faculty_salary",
         "rawType": "float64",
         "type": "float"
        },
        {
         "name": "pct_PELL",
         "rawType": "float64",
         "type": "float"
        },
        {
         "name": "pct_fed_loan",
         "rawType": "float64",
         "type": "float"
        },
        {
         "name": "grad_rate",
         "rawType": "float64",
         "type": "float"
        },
        {
         "name": "pct_firstgen",
         "rawType": "float64",
         "type": "float"
        },
        {
         "name": "med_fam_income",
         "rawType": "float64",
         "type": "float"
        },
        {
         "name": "med_alum_earnings",
         "rawType": "float64",
         "type": "float"
        },
        {
         "name": "SAT_avg_1",
         "rawType": "int64",
         "type": "integer"
        },
        {
         "name": "SAT_avg_2",
         "rawType": "int64",
         "type": "integer"
        },
        {
         "name": "SAT_avg_3",
         "rawType": "int64",
         "type": "integer"
        },
        {
         "name": "SAT_avg_4",
         "rawType": "int64",
         "type": "integer"
        },
        {
         "name": "SAT_avg_5",
         "rawType": "int64",
         "type": "integer"
        },
        {
         "name": "SAT_avg_6",
         "rawType": "int64",
         "type": "integer"
        },
        {
         "name": "SAT_avg_7",
         "rawType": "int64",
         "type": "integer"
        },
        {
         "name": "SAT_avg_8",
         "rawType": "int64",
         "type": "integer"
        },
        {
         "name": "SAT_avg_9",
         "rawType": "int64",
         "type": "integer"
        },
        {
         "name": "SAT_avg_10",
         "rawType": "int64",
         "type": "integer"
        },
        {
         "name": "SAT_avg_11",
         "rawType": "int64",
         "type": "integer"
        },
        {
         "name": "SAT_avg_12",
         "rawType": "int64",
         "type": "integer"
        },
        {
         "name": "phase",
         "rawType": "object",
         "type": "string"
        }
       ],
       "conversionMethod": "pd.DataFrame",
       "ref": "7031f586-43f2-4e7f-9522-3ed7d521764b",
       "rows": [
        [
         "585",
         "285800",
         "Farmingdale State College",
         "Farmingdale",
         "NY",
         "Northeast",
         "11.25",
         "3.4",
         "Graduate",
         "Public",
         "Suburb",
         "No",
         "60.16",
         "1075",
         "No",
         "9462",
         "9.002",
         "16.856",
         "5.637",
         "10.189",
         "8.418",
         "33.08",
         "39.45",
         "53.2",
         "39.7044004",
         "40.4615",
         "61.646",
         "1075",
         "1155625",
         "1242296875",
         "1335469140625",
         "1435629326171875",
         "1543301525634765625",
         "-1157826576486598565",
         "-8731716784553499103",
         "2797190123150236819",
         "160098371847667017",
         "6085053072856078731",
         "-7162092846606187855",
         "train"
        ],
        [
         "813",
         "342700",
         "Coker University",
         "Hartsville",
         "SC",
         "South",
         "16.0",
         "11.3",
         "Graduate",
         "Private nonprofit",
         "Town",
         "No",
         "93.06",
         "1008",
         "No",
         "950",
         "16.975",
         "42.395",
         "10.878",
         "6.35",
         "6.477",
         "55.18",
         "61.95",
         "53.28",
         "37.6160991",
         "31.522",
         "36.437",
         "1008",
         "1016064",
         "1024192512",
         "1032386052096",
         "1040645140512768",
         "1048970301636870144",
         "5897651848520663040",
         "4981471574352723968",
         "3808958898547720192",
         "2507802404515217408",
         "660885653130575872",
         "2089951702076620800",
         "train"
        ],
        [
         "837",
         "346600",
         "Northern State University",
         "Aberdeen",
         "SD",
         "Midwest",
         "15.5",
         "4.7",
         "Graduate",
         "Public",
         "Town",
         "No",
         "78.71",
         "1119",
         "No",
         "1384",
         "16.695",
         "21.388",
         "5.468",
         "9.979",
         "7.539",
         "15.33",
         "27.99",
         "45.22",
         "30.6916427",
         "52.17",
         "43.429",
         "1119",
         "1252161",
         "1401168159",
         "1567907169921",
         "1754488123141599",
         "1963272209795449281",
         "1739057989671103135",
         "9097762702461488385",
         "-2206264633266989217",
         "3053581251318982721",
         "4309766589674615839",
         "8028610607702152065",
         "train"
        ],
        [
         "787",
         "338400",
         "University of Scranton",
         "Scranton",
         "PA",
         "Northeast",
         "26.0",
         "1.5",
         "Graduate",
         "Private nonprofit",
         "Small City",
         "No",
         "78.73",
         "1200",
         "No",
         "3592",
         "34.378",
         "62.38",
         "21.682",
         "13.123",
         "10.39",
         "18.86",
         "64.37",
         "81.54",
         "20.3472222",
         "99.655",
         "69.236",
         "1200",
         "1440000",
         "1728000000",
         "2073600000000",
         "2488320000000000",
         "2985984000000000000",
         "4512449700346986496",
         "-8403117254224379904",
         "6628303249868849152",
         "3417204073802235904",
         "5467704199162626048",
         "-5795851245449117696",
         "train"
        ],
        [
         "112",
         "143400",
         "American University",
         "Washington",
         "DC",
         "Northeast",
         "20.19",
         "1.7",
         "Graduate",
         "Private nonprofit",
         "Large City",
         "No",
         "38.65",
         "1328",
         "No",
         "7510",
         "40.088",
         "66.416",
         "32.893",
         "16.605",
         "12.033",
         "13.69",
         "36.27",
         "79.11",
         "15.6343443",
         "84.2",
         "71.933",
         "1328",
         "1763584",
         "2342039552",
         "3110228525056",
         "4130383481274368",
         "5485149263132360704",
         "-2185687675497873408",
         "-6454413488776282112",
         "6274881180038856704",
         "-4886114225115627520",
         "4494222992208822272",
         "-8416946228578746368",
         "train"
        ]
       ],
       "shape": {
        "columns": 39,
        "rows": 5
       }
      },
      "text/html": [
       "<div>\n",
       "<style scoped>\n",
       "    .dataframe tbody tr th:only-of-type {\n",
       "        vertical-align: middle;\n",
       "    }\n",
       "\n",
       "    .dataframe tbody tr th {\n",
       "        vertical-align: top;\n",
       "    }\n",
       "\n",
       "    .dataframe thead th {\n",
       "        text-align: right;\n",
       "    }\n",
       "</style>\n",
       "<table border=\"1\" class=\"dataframe\">\n",
       "  <thead>\n",
       "    <tr style=\"text-align: right;\">\n",
       "      <th></th>\n",
       "      <th>OPEID</th>\n",
       "      <th>name</th>\n",
       "      <th>city</th>\n",
       "      <th>state</th>\n",
       "      <th>region</th>\n",
       "      <th>median_debt</th>\n",
       "      <th>default_rate</th>\n",
       "      <th>highest_degree</th>\n",
       "      <th>ownership</th>\n",
       "      <th>locale</th>\n",
       "      <th>...</th>\n",
       "      <th>SAT_avg_4</th>\n",
       "      <th>SAT_avg_5</th>\n",
       "      <th>SAT_avg_6</th>\n",
       "      <th>SAT_avg_7</th>\n",
       "      <th>SAT_avg_8</th>\n",
       "      <th>SAT_avg_9</th>\n",
       "      <th>SAT_avg_10</th>\n",
       "      <th>SAT_avg_11</th>\n",
       "      <th>SAT_avg_12</th>\n",
       "      <th>phase</th>\n",
       "    </tr>\n",
       "  </thead>\n",
       "  <tbody>\n",
       "    <tr>\n",
       "      <th>585</th>\n",
       "      <td>285800</td>\n",
       "      <td>Farmingdale State College</td>\n",
       "      <td>Farmingdale</td>\n",
       "      <td>NY</td>\n",
       "      <td>Northeast</td>\n",
       "      <td>11.25</td>\n",
       "      <td>3.4</td>\n",
       "      <td>Graduate</td>\n",
       "      <td>Public</td>\n",
       "      <td>Suburb</td>\n",
       "      <td>...</td>\n",
       "      <td>1335469140625</td>\n",
       "      <td>1435629326171875</td>\n",
       "      <td>1543301525634765625</td>\n",
       "      <td>-1157826576486598565</td>\n",
       "      <td>-8731716784553499103</td>\n",
       "      <td>2797190123150236819</td>\n",
       "      <td>160098371847667017</td>\n",
       "      <td>6085053072856078731</td>\n",
       "      <td>-7162092846606187855</td>\n",
       "      <td>train</td>\n",
       "    </tr>\n",
       "    <tr>\n",
       "      <th>813</th>\n",
       "      <td>342700</td>\n",
       "      <td>Coker University</td>\n",
       "      <td>Hartsville</td>\n",
       "      <td>SC</td>\n",
       "      <td>South</td>\n",
       "      <td>16.00</td>\n",
       "      <td>11.3</td>\n",
       "      <td>Graduate</td>\n",
       "      <td>Private nonprofit</td>\n",
       "      <td>Town</td>\n",
       "      <td>...</td>\n",
       "      <td>1032386052096</td>\n",
       "      <td>1040645140512768</td>\n",
       "      <td>1048970301636870144</td>\n",
       "      <td>5897651848520663040</td>\n",
       "      <td>4981471574352723968</td>\n",
       "      <td>3808958898547720192</td>\n",
       "      <td>2507802404515217408</td>\n",
       "      <td>660885653130575872</td>\n",
       "      <td>2089951702076620800</td>\n",
       "      <td>train</td>\n",
       "    </tr>\n",
       "    <tr>\n",
       "      <th>837</th>\n",
       "      <td>346600</td>\n",
       "      <td>Northern State University</td>\n",
       "      <td>Aberdeen</td>\n",
       "      <td>SD</td>\n",
       "      <td>Midwest</td>\n",
       "      <td>15.50</td>\n",
       "      <td>4.7</td>\n",
       "      <td>Graduate</td>\n",
       "      <td>Public</td>\n",
       "      <td>Town</td>\n",
       "      <td>...</td>\n",
       "      <td>1567907169921</td>\n",
       "      <td>1754488123141599</td>\n",
       "      <td>1963272209795449281</td>\n",
       "      <td>1739057989671103135</td>\n",
       "      <td>9097762702461488385</td>\n",
       "      <td>-2206264633266989217</td>\n",
       "      <td>3053581251318982721</td>\n",
       "      <td>4309766589674615839</td>\n",
       "      <td>8028610607702152065</td>\n",
       "      <td>train</td>\n",
       "    </tr>\n",
       "    <tr>\n",
       "      <th>787</th>\n",
       "      <td>338400</td>\n",
       "      <td>University of Scranton</td>\n",
       "      <td>Scranton</td>\n",
       "      <td>PA</td>\n",
       "      <td>Northeast</td>\n",
       "      <td>26.00</td>\n",
       "      <td>1.5</td>\n",
       "      <td>Graduate</td>\n",
       "      <td>Private nonprofit</td>\n",
       "      <td>Small City</td>\n",
       "      <td>...</td>\n",
       "      <td>2073600000000</td>\n",
       "      <td>2488320000000000</td>\n",
       "      <td>2985984000000000000</td>\n",
       "      <td>4512449700346986496</td>\n",
       "      <td>-8403117254224379904</td>\n",
       "      <td>6628303249868849152</td>\n",
       "      <td>3417204073802235904</td>\n",
       "      <td>5467704199162626048</td>\n",
       "      <td>-5795851245449117696</td>\n",
       "      <td>train</td>\n",
       "    </tr>\n",
       "    <tr>\n",
       "      <th>112</th>\n",
       "      <td>143400</td>\n",
       "      <td>American University</td>\n",
       "      <td>Washington</td>\n",
       "      <td>DC</td>\n",
       "      <td>Northeast</td>\n",
       "      <td>20.19</td>\n",
       "      <td>1.7</td>\n",
       "      <td>Graduate</td>\n",
       "      <td>Private nonprofit</td>\n",
       "      <td>Large City</td>\n",
       "      <td>...</td>\n",
       "      <td>3110228525056</td>\n",
       "      <td>4130383481274368</td>\n",
       "      <td>5485149263132360704</td>\n",
       "      <td>-2185687675497873408</td>\n",
       "      <td>-6454413488776282112</td>\n",
       "      <td>6274881180038856704</td>\n",
       "      <td>-4886114225115627520</td>\n",
       "      <td>4494222992208822272</td>\n",
       "      <td>-8416946228578746368</td>\n",
       "      <td>train</td>\n",
       "    </tr>\n",
       "  </tbody>\n",
       "</table>\n",
       "<p>5 rows × 39 columns</p>\n",
       "</div>"
      ],
      "text/plain": [
       "      OPEID                       name         city state     region  \\\n",
       "585  285800  Farmingdale State College  Farmingdale    NY  Northeast   \n",
       "813  342700           Coker University   Hartsville    SC      South   \n",
       "837  346600  Northern State University     Aberdeen    SD    Midwest   \n",
       "787  338400     University of Scranton     Scranton    PA  Northeast   \n",
       "112  143400        American University   Washington    DC  Northeast   \n",
       "\n",
       "     median_debt  default_rate highest_degree          ownership      locale  \\\n",
       "585        11.25           3.4       Graduate             Public      Suburb   \n",
       "813        16.00          11.3       Graduate  Private nonprofit        Town   \n",
       "837        15.50           4.7       Graduate             Public        Town   \n",
       "787        26.00           1.5       Graduate  Private nonprofit  Small City   \n",
       "112        20.19           1.7       Graduate  Private nonprofit  Large City   \n",
       "\n",
       "     ...      SAT_avg_4         SAT_avg_5            SAT_avg_6  \\\n",
       "585  ...  1335469140625  1435629326171875  1543301525634765625   \n",
       "813  ...  1032386052096  1040645140512768  1048970301636870144   \n",
       "837  ...  1567907169921  1754488123141599  1963272209795449281   \n",
       "787  ...  2073600000000  2488320000000000  2985984000000000000   \n",
       "112  ...  3110228525056  4130383481274368  5485149263132360704   \n",
       "\n",
       "               SAT_avg_7            SAT_avg_8            SAT_avg_9  \\\n",
       "585 -1157826576486598565 -8731716784553499103  2797190123150236819   \n",
       "813  5897651848520663040  4981471574352723968  3808958898547720192   \n",
       "837  1739057989671103135  9097762702461488385 -2206264633266989217   \n",
       "787  4512449700346986496 -8403117254224379904  6628303249868849152   \n",
       "112 -2185687675497873408 -6454413488776282112  6274881180038856704   \n",
       "\n",
       "              SAT_avg_10           SAT_avg_11           SAT_avg_12  phase  \n",
       "585   160098371847667017  6085053072856078731 -7162092846606187855  train  \n",
       "813  2507802404515217408   660885653130575872  2089951702076620800  train  \n",
       "837  3053581251318982721  4309766589674615839  8028610607702152065  train  \n",
       "787  3417204073802235904  5467704199162626048 -5795851245449117696  train  \n",
       "112 -4886114225115627520  4494222992208822272 -8416946228578746368  train  \n",
       "\n",
       "[5 rows x 39 columns]"
      ]
     },
     "execution_count": 44,
     "metadata": {},
     "output_type": "execute_result"
    }
   ],
   "source": [
    "# Your code goes here\n",
    "..."
   ]
  },
  {
   "cell_type": "code",
   "execution_count": null,
   "metadata": {
    "cell_id": "aca73976f62648528bcca94572a513a2",
    "deepnote_cell_type": "code",
    "deepnote_to_be_reexecuted": true,
    "execution_millis": 161,
    "execution_start": 1709620366496,
    "output_cleared": false,
    "source_hash": null,
    "tags": []
   },
   "outputs": [
    {
     "data": {
      "text/plain": [
       "(20, 26)"
      ]
     },
     "execution_count": 9,
     "metadata": {},
     "output_type": "execute_result"
    }
   ],
   "source": [
    "# Your code goes here\n",
    "..."
   ]
  },
  {
   "cell_type": "markdown",
   "metadata": {
    "cell_id": "6dde69013330486ea9e4834ac0d06502",
    "deepnote_cell_type": "markdown"
   },
   "source": [
    "<div class=\"alert alert-block alert-info\">\n",
    "\n",
    "**Check yourself:** The dimensions of `sample_four_year_col` should be 20 rows and 26 columns.</div>"
   ]
  },
  {
   "cell_type": "markdown",
   "metadata": {
    "cell_id": "43e75f00c4964a6590d5c42c0026bb28",
    "deepnote_cell_type": "markdown",
    "tags": []
   },
   "source": [
    "In prior notebooks, we focused on institutional and economic predictors of student loan default rates. In this notebook, we'll begin by analyzing an *academic* variable: `SAT_avg`. This variable shows the average SAT score of students who matriculate to a college.\n",
    "\n",
    "The following code creates a scatterplot of the relationship between `SAT_avg` (predictor) and `default_rate` (outcome) from the dataset `sample_four_year_col`:"
   ]
  },
  {
   "cell_type": "code",
   "execution_count": 11,
   "metadata": {
    "cell_id": "6750cf45cf9444dc91afe68794940c93",
    "deepnote_cell_type": "code",
    "deepnote_to_be_reexecuted": true,
    "execution_millis": 301,
    "execution_start": 1709620366553,
    "output_cleared": false,
    "source_hash": null,
    "tags": []
   },
   "outputs": [
    {
     "data": {
      "image/png": "[encoded data removed]",
      "text/plain": [
       "<Figure size 640x480 with 1 Axes>"
      ]
     },
     "metadata": {},
     "output_type": "display_data"
    }
   ],
   "source": [
    "## Run this code but do not edit it\n",
    "# create scatterplot: default_rate ~ SAT_avg\n",
    "sns.scatterplot(x='SAT_avg', y='default_rate', data=sample_four_year_col, alpha=0.7)\n",
    "plt.title('Scatterplot: SAT Avg vs Default Rate')\n",
    "plt.show()"
   ]
  },
  {
   "cell_type": "markdown",
   "metadata": {
    "cell_id": "0863b91a73ba4af2a601ef082f2f4576",
    "deepnote_cell_type": "markdown",
    "tags": []
   },
   "source": [
    "<div class=\"alert alert-block alert-warning\">\n",
    "\n",
    "**1.2 -** Describe the direction of the relationship between `SAT_avg` and `default_rate`. Is it positive or negative? Why do you think this is?\n",
    "\n",
    "</div>"
   ]
  },
  {
   "cell_type": "markdown",
   "metadata": {
    "cell_id": "84c683e36bc94a3190c819c4150890e2",
    "deepnote_cell_type": "markdown",
    "tags": []
   },
   "source": [
    "**Double-click this cell to type your answer here:** ..."
   ]
  },
  {
   "cell_type": "markdown",
   "metadata": {
    "cell_id": "41b1f7f4f3d14104b126801b7acffd56",
    "deepnote_cell_type": "markdown",
    "tags": []
   },
   "source": [
    "<div class=\"alert alert-block alert-warning\">\n",
    "\n",
    "**1.3 -** Create the same scatterplot as above, but with the simple linear model between `default_rate` (outcome) and `SAT_avg` (predictor) overlayed on top.\n",
    "\n",
    "**Hint:** Recall the `lmplot` command from notebook 2.\n",
    "\n",
    "</div>"
   ]
  },
  {
   "cell_type": "code",
   "execution_count": null,
   "metadata": {
    "cell_id": "60a22a50c6674560bfa4d26ed45237a0",
    "deepnote_cell_type": "code",
    "deepnote_to_be_reexecuted": true,
    "execution_millis": 354,
    "execution_start": 1709620366732,
    "output_cleared": false,
    "source_hash": null,
    "tags": []
   },
   "outputs": [
    {
     "data": {
      "image/png": "[encoded data removed]",
      "text/plain": [
       "<Figure size 500x500 with 1 Axes>"
      ]
     },
     "metadata": {},
     "output_type": "display_data"
    }
   ],
   "source": [
    "# Your code goes here\n",
    "..."
   ]
  },
  {
   "cell_type": "markdown",
   "metadata": {
    "cell_id": "363e172021d140d4937ea7d1d46a3140",
    "deepnote_cell_type": "markdown",
    "tags": []
   },
   "source": [
    "<div class=\"alert alert-block alert-warning\">\n",
    "\n",
    "**1.4 -** Would you say that this model provides a \"good\" fit for this dataset? Explain.\n",
    "\n",
    "</div>"
   ]
  },
  {
   "cell_type": "markdown",
   "metadata": {
    "cell_id": "d06a264c755c45e9afe6fa11fc1af721",
    "deepnote_cell_type": "markdown",
    "tags": []
   },
   "source": [
    "**Double-click this cell to type your answer here:** ..."
   ]
  },
  {
   "cell_type": "markdown",
   "metadata": {
    "cell_id": "9661207a391340af9d4c897de3fafc01",
    "deepnote_cell_type": "markdown",
    "tags": []
   },
   "source": [
    "<div class=\"alert alert-block alert-warning\">\n",
    "\n",
    "**1.5 -** Use the `ols` command from the `statsmodel` package to fit the linear regression model, where we use `SAT_avg` (predictor) to predict `default_rate` (outcome) in the dataset `sample_four_year_col`. Store the model in a variable named `sat_model_1` and use the `summary` command to print out information about the model fit.\n",
    "\n",
    "</div>"
   ]
  },
  {
   "cell_type": "code",
   "execution_count": null,
   "metadata": {
    "cell_id": "55a6769ab8ff4970938d1fbedfb29530",
    "deepnote_cell_type": "code",
    "deepnote_to_be_reexecuted": true,
    "execution_millis": 676,
    "execution_start": 1709620366927,
    "output_cleared": false,
    "source_hash": null,
    "tags": []
   },
   "outputs": [
    {
     "data": {
      "text/html": [
       "<table class=\"simpletable\">\n",
       "<caption>OLS Regression Results</caption>\n",
       "<tr>\n",
       "  <th>Dep. Variable:</th>      <td>default_rate</td>   <th>  R-squared:         </th> <td>   0.479</td>\n",
       "</tr>\n",
       "<tr>\n",
       "  <th>Model:</th>                   <td>OLS</td>       <th>  Adj. R-squared:    </th> <td>   0.450</td>\n",
       "</tr>\n",
       "<tr>\n",
       "  <th>Method:</th>             <td>Least Squares</td>  <th>  F-statistic:       </th> <td>   16.54</td>\n",
       "</tr>\n",
       "<tr>\n",
       "  <th>Date:</th>             <td>Mon, 31 Mar 2025</td> <th>  Prob (F-statistic):</th> <td>0.000723</td>\n",
       "</tr>\n",
       "<tr>\n",
       "  <th>Time:</th>                 <td>15:45:55</td>     <th>  Log-Likelihood:    </th> <td> -41.929</td>\n",
       "</tr>\n",
       "<tr>\n",
       "  <th>No. Observations:</th>      <td>    20</td>      <th>  AIC:               </th> <td>   87.86</td>\n",
       "</tr>\n",
       "<tr>\n",
       "  <th>Df Residuals:</th>          <td>    18</td>      <th>  BIC:               </th> <td>   89.85</td>\n",
       "</tr>\n",
       "<tr>\n",
       "  <th>Df Model:</th>              <td>     1</td>      <th>                     </th>     <td> </td>   \n",
       "</tr>\n",
       "<tr>\n",
       "  <th>Covariance Type:</th>      <td>nonrobust</td>    <th>                     </th>     <td> </td>   \n",
       "</tr>\n",
       "</table>\n",
       "<table class=\"simpletable\">\n",
       "<tr>\n",
       "      <td></td>         <th>coef</th>     <th>std err</th>      <th>t</th>      <th>P>|t|</th>  <th>[0.025</th>    <th>0.975]</th>  \n",
       "</tr>\n",
       "<tr>\n",
       "  <th>Intercept</th> <td>   22.8774</td> <td>    4.578</td> <td>    4.998</td> <td> 0.000</td> <td>   13.260</td> <td>   32.495</td>\n",
       "</tr>\n",
       "<tr>\n",
       "  <th>SAT_avg</th>   <td>   -0.0162</td> <td>    0.004</td> <td>   -4.067</td> <td> 0.001</td> <td>   -0.025</td> <td>   -0.008</td>\n",
       "</tr>\n",
       "</table>\n",
       "<table class=\"simpletable\">\n",
       "<tr>\n",
       "  <th>Omnibus:</th>       <td> 5.111</td> <th>  Durbin-Watson:     </th> <td>   2.658</td>\n",
       "</tr>\n",
       "<tr>\n",
       "  <th>Prob(Omnibus):</th> <td> 0.078</td> <th>  Jarque-Bera (JB):  </th> <td>   3.128</td>\n",
       "</tr>\n",
       "<tr>\n",
       "  <th>Skew:</th>          <td> 0.934</td> <th>  Prob(JB):          </th> <td>   0.209</td>\n",
       "</tr>\n",
       "<tr>\n",
       "  <th>Kurtosis:</th>      <td> 3.514</td> <th>  Cond. No.          </th> <td>1.13e+04</td>\n",
       "</tr>\n",
       "</table><br/><br/>Notes:<br/>[1] Standard Errors assume that the covariance matrix of the errors is correctly specified.<br/>[2] The condition number is large, 1.13e+04. This might indicate that there are<br/>strong multicollinearity or other numerical problems."
      ],
      "text/latex": [
       "\\begin{center}\n",
       "\\begin{tabular}{lclc}\n",
       "\\toprule\n",
       "\\textbf{Dep. Variable:}    &  default\\_rate   & \\textbf{  R-squared:         } &     0.479   \\\\\n",
       "\\textbf{Model:}            &       OLS        & \\textbf{  Adj. R-squared:    } &     0.450   \\\\\n",
       "\\textbf{Method:}           &  Least Squares   & \\textbf{  F-statistic:       } &     16.54   \\\\\n",
       "\\textbf{Date:}             & Mon, 31 Mar 2025 & \\textbf{  Prob (F-statistic):} &  0.000723   \\\\\n",
       "\\textbf{Time:}             &     15:45:55     & \\textbf{  Log-Likelihood:    } &   -41.929   \\\\\n",
       "\\textbf{No. Observations:} &          20      & \\textbf{  AIC:               } &     87.86   \\\\\n",
       "\\textbf{Df Residuals:}     &          18      & \\textbf{  BIC:               } &     89.85   \\\\\n",
       "\\textbf{Df Model:}         &           1      & \\textbf{                     } &             \\\\\n",
       "\\textbf{Covariance Type:}  &    nonrobust     & \\textbf{                     } &             \\\\\n",
       "\\bottomrule\n",
       "\\end{tabular}\n",
       "\\begin{tabular}{lcccccc}\n",
       "                   & \\textbf{coef} & \\textbf{std err} & \\textbf{t} & \\textbf{P$> |$t$|$} & \\textbf{[0.025} & \\textbf{0.975]}  \\\\\n",
       "\\midrule\n",
       "\\textbf{Intercept} &      22.8774  &        4.578     &     4.998  &         0.000        &       13.260    &       32.495     \\\\\n",
       "\\textbf{SAT\\_avg}  &      -0.0162  &        0.004     &    -4.067  &         0.001        &       -0.025    &       -0.008     \\\\\n",
       "\\bottomrule\n",
       "\\end{tabular}\n",
       "\\begin{tabular}{lclc}\n",
       "\\textbf{Omnibus:}       &  5.111 & \\textbf{  Durbin-Watson:     } &    2.658  \\\\\n",
       "\\textbf{Prob(Omnibus):} &  0.078 & \\textbf{  Jarque-Bera (JB):  } &    3.128  \\\\\n",
       "\\textbf{Skew:}          &  0.934 & \\textbf{  Prob(JB):          } &    0.209  \\\\\n",
       "\\textbf{Kurtosis:}      &  3.514 & \\textbf{  Cond. No.          } & 1.13e+04  \\\\\n",
       "\\bottomrule\n",
       "\\end{tabular}\n",
       "%\\caption{OLS Regression Results}\n",
       "\\end{center}\n",
       "\n",
       "Notes: \\newline\n",
       " [1] Standard Errors assume that the covariance matrix of the errors is correctly specified. \\newline\n",
       " [2] The condition number is large, 1.13e+04. This might indicate that there are \\newline\n",
       " strong multicollinearity or other numerical problems."
      ],
      "text/plain": [
       "<class 'statsmodels.iolib.summary.Summary'>\n",
       "\"\"\"\n",
       "                            OLS Regression Results                            \n",
       "==============================================================================\n",
       "Dep. Variable:           default_rate   R-squared:                       0.479\n",
       "Model:                            OLS   Adj. R-squared:                  0.450\n",
       "Method:                 Least Squares   F-statistic:                     16.54\n",
       "Date:                Mon, 31 Mar 2025   Prob (F-statistic):           0.000723\n",
       "Time:                        15:45:55   Log-Likelihood:                -41.929\n",
       "No. Observations:                  20   AIC:                             87.86\n",
       "Df Residuals:                      18   BIC:                             89.85\n",
       "Df Model:                           1                                         \n",
       "Covariance Type:            nonrobust                                         \n",
       "==============================================================================\n",
       "                 coef    std err          t      P>|t|      [0.025      0.975]\n",
       "------------------------------------------------------------------------------\n",
       "Intercept     22.8774      4.578      4.998      0.000      13.260      32.495\n",
       "SAT_avg       -0.0162      0.004     -4.067      0.001      -0.025      -0.008\n",
       "==============================================================================\n",
       "Omnibus:                        5.111   Durbin-Watson:                   2.658\n",
       "Prob(Omnibus):                  0.078   Jarque-Bera (JB):                3.128\n",
       "Skew:                           0.934   Prob(JB):                        0.209\n",
       "Kurtosis:                       3.514   Cond. No.                     1.13e+04\n",
       "==============================================================================\n",
       "\n",
       "Notes:\n",
       "[1] Standard Errors assume that the covariance matrix of the errors is correctly specified.\n",
       "[2] The condition number is large, 1.13e+04. This might indicate that there are\n",
       "strong multicollinearity or other numerical problems.\n",
       "\"\"\""
      ]
     },
     "execution_count": 13,
     "metadata": {},
     "output_type": "execute_result"
    }
   ],
   "source": [
    "# Your code goes here\n",
    "..."
   ]
  },
  {
   "cell_type": "markdown",
   "metadata": {
    "cell_id": "051a04aadfae4d92b53b5b01d1700174",
    "deepnote_cell_type": "markdown"
   },
   "source": [
    "<div class=\"alert alert-block alert-info\">\n",
    "\n",
    "**Check yourself:** The $R^2$ value shown in the model summary should be 0.479 </div>"
   ]
  },
  {
   "cell_type": "markdown",
   "metadata": {
    "cell_id": "06dfe12c58a041359fdaf2c66c771ce1",
    "deepnote_cell_type": "markdown",
    "tags": []
   },
   "source": [
    "<div class=\"alert alert-block alert-warning\">\n",
    "\n",
    "**1.6** - Does the model's $R^2$ value indicate that this model provides a strong fit for this dataset? Explain.\n",
    "\n",
    "</div>"
   ]
  },
  {
   "cell_type": "markdown",
   "metadata": {
    "cell_id": "5935f557f7cd45d581cdfea0555450d0",
    "deepnote_cell_type": "markdown",
    "tags": []
   },
   "source": [
    "**Double-click this cell to type your answer here:** ..."
   ]
  },
  {
   "cell_type": "markdown",
   "metadata": {
    "cell_id": "a9f4952db31844f0868de102b3ef925b",
    "deepnote_cell_type": "markdown",
    "tags": []
   },
   "source": [
    "<div class=\"alert alert-block alert-warning\">\n",
    "\n",
    "**1.7** - If this model were curved, rather than linear, do you believe the $R^2$ could be higher? Explain.\n",
    "\n",
    "</div>"
   ]
  },
  {
   "cell_type": "markdown",
   "metadata": {
    "cell_id": "153cf0abeb9145c591794ddefbdc0f9a",
    "deepnote_cell_type": "markdown",
    "tags": []
   },
   "source": [
    "**Double-click this cell to type your answer here:** ..."
   ]
  },
  {
   "cell_type": "markdown",
   "metadata": {
    "cell_id": "6f3ccbc9c53b4fcb9d61c6840f685895",
    "deepnote_cell_type": "markdown",
    "tags": []
   },
   "source": [
    "### 2.0 - Polynomial regression"
   ]
  },
  {
   "cell_type": "markdown",
   "metadata": {
    "cell_id": "bec3c76d1e4b4d83b034313b808160b3",
    "deepnote_cell_type": "markdown",
    "tags": []
   },
   "source": [
    "Recall that simple linear regression follows this formula:\n",
    "\n",
    "$$\n",
    "\\hat{y} = \\beta_{0} + \\beta_{1}x\n",
    "$$\n",
    "Where:\n",
    "\n",
    "- $\\beta_0$ is the intercept\n",
    "\n",
    "- $\\beta_1$ is the slope (coefficient of $x$)\n",
    "\n",
    "- $\\hat{y}$ is the predicted `default_rate`\n",
    "\n",
    "- $x$ is the value of `SAT_avg`"
   ]
  },
  {
   "cell_type": "markdown",
   "metadata": {
    "cell_id": "1ad20cf1291240079c52068364c6caf6",
    "deepnote_cell_type": "markdown",
    "tags": []
   },
   "source": [
    "If we want to capture the curvature in a scatter plot by creating a non-linear model, we can use a technique called **polynomial regression**. For example, we could use a degree 2 polynomial (quadratic), which looks like this:\n",
    "\n",
    "$$\n",
    "\\hat{y} = \\beta_{0} + \\beta_{1}x + \\beta_{2}x^2\n",
    "$$\n",
    "\n",
    "Where:\n",
    "\n",
    "- $\\beta_0$ is the intercept\n",
    "\n",
    "- $\\beta_1$ is the coefficient of $x$ (linear term)\n",
    "\n",
    "- $\\beta_2$ is the coefficient of $x^2$ (squared term)\n",
    "\n",
    "- $\\hat{y}$ is the predicted `default_rate`\n",
    "\n",
    "- $x$ is the `SAT_avg`"
   ]
  },
  {
   "cell_type": "markdown",
   "metadata": {
    "cell_id": "d2a1233181b94e7f86307be85e474fcb",
    "deepnote_cell_type": "markdown",
    "tags": []
   },
   "source": [
    "Below, we visualize the fit of this degree-2 polynomial (quadratic) model between `SAT_avg` and `default_rate`:"
   ]
  },
  {
   "cell_type": "markdown",
   "metadata": {
    "cell_id": "2fecdb91131c407ab837befc24a1fef6",
    "deepnote_cell_type": "markdown"
   },
   "source": [
    "<div class=\"alert alert-block alert-info\"><b>Instructor Note:</b> To fit a degree 2 polynomial we use the <code>lmplot</code> command from the <code>seaborn</code> package, where <code>order</code> set to two(2) represents the degree of the polynomial."
   ]
  },
  {
   "cell_type": "code",
   "execution_count": 14,
   "metadata": {
    "cell_id": "800adce139d54f13960aa6014f968e23",
    "deepnote_cell_type": "code",
    "deepnote_to_be_reexecuted": true,
    "execution_millis": 656,
    "execution_start": 1709620366947,
    "output_cleared": false,
    "source_hash": null,
    "tags": []
   },
   "outputs": [
    {
     "data": {
      "image/png": "[encoded data removed]",
      "text/plain": [
       "<Figure size 500x500 with 1 Axes>"
      ]
     },
     "metadata": {},
     "output_type": "display_data"
    }
   ],
   "source": [
    "## Run this code but do not edit it\n",
    "# create scatterplot: default_rate ~ SAT_avg, with degree 2 polynomial model overlayed\n",
    "sns.lmplot(\n",
    "    x='SAT_avg', \n",
    "    y='default_rate', \n",
    "    data=sample_four_year_col, \n",
    "    order=2,  # Fit a degree-2 polynomial\n",
    "    line_kws={'color': 'orange'},  # Set the line color to orange\n",
    "    scatter_kws={'alpha': 0.7}  # Adjust transparency of scatter points\n",
    ")\n",
    "plt.title('Scatterplot with Degree 2 Polynomial Model')\n",
    "plt.xlabel('SAT_avg')\n",
    "plt.ylabel('Default Rate')\n",
    "plt.show()"
   ]
  },
  {
   "cell_type": "markdown",
   "metadata": {
    "cell_id": "18a4fa020af440dab2cd552a3676cee4",
    "deepnote_cell_type": "markdown",
    "tags": []
   },
   "source": [
    "<div class=\"alert alert-block alert-warning\">\n",
    "\n",
    "**2.1** - Make a prediction: Will this polynomial regression model have a higher or lower $R^2$ value than the linear regression model? Justify your reasoning.\n",
    "\n",
    "</div>"
   ]
  },
  {
   "cell_type": "markdown",
   "metadata": {
    "cell_id": "174d198418724c34ad73056da0570cb9",
    "deepnote_cell_type": "markdown",
    "tags": []
   },
   "source": [
    "**Double-click this cell to type your answer here:** ..."
   ]
  },
  {
   "cell_type": "markdown",
   "metadata": {
    "cell_id": "03a52639b7b74115b4fd259b71ea2632",
    "deepnote_cell_type": "markdown",
    "tags": []
   },
   "source": [
    "Let's test your prediction. To do so, we'll first need to fit the polynomial model. We can fit a degree 2 polynomial to the data by first squaring all the values in `SAT_avg` and then using the `ols` function from the `statsmodels` package. Run the cell below to see how it's done."
   ]
  },
  {
   "cell_type": "markdown",
   "metadata": {
    "cell_id": "c5a052505b5e495e9417ffa938ac5636",
    "deepnote_cell_type": "markdown",
    "tags": []
   },
   "source": [
    "<div class=\"alert alert-block alert-info\"><b>Instructor Note:</b> You may remember the <code>ols</code> function of the <code>statsmodels.formula.api</code> package handles multiple predictor attributes; we did this in the Notebook 3 to explore multiple regression. The only difference now is we will add a sqaured term by squaring the <code>sample_four_year_col</code> data. The command <code>sample_four_year_col['SAT_avg'] ** 2</code> takes all the values of <code>SAT_avg</code> column to the power of 2. This provides both a linear term <code>SAT_avg</code> and a squared term <code>SAT_avg^2</code>."
   ]
  },
  {
   "cell_type": "code",
   "execution_count": 15,
   "metadata": {
    "cell_id": "45f101ae792c401cbeb4695e697753a9",
    "deepnote_cell_type": "code",
    "deepnote_to_be_reexecuted": true,
    "execution_millis": 767,
    "execution_start": 1709620367140,
    "output_cleared": false,
    "source_hash": null,
    "tags": []
   },
   "outputs": [
    {
     "name": "stdout",
     "output_type": "stream",
     "text": [
      "Intercept: 134.98173787438915\n",
      "Linear Coefficient: -0.20518473309633334\n",
      "Quadratic Coefficient: 7.871250324408593e-05\n"
     ]
    }
   ],
   "source": [
    "## Run this code but do not edit it\n",
    "# degree 2 polynomial model for default_rate ~ SAT_avg\n",
    "sample_four_year_col['SAT_avg_squared'] = sample_four_year_col['SAT_avg'] ** 2\n",
    "sat_model_2 = smf.ols(formula='default_rate ~ SAT_avg + SAT_avg_squared', data=sample_four_year_col).fit()\n",
    "print(f\"Intercept: {sat_model_2.params['Intercept']}\")\n",
    "print(f\"Linear Coefficient: {sat_model_2.params['SAT_avg']}\")\n",
    "print(f\"Quadratic Coefficient: {sat_model_2.params['SAT_avg_squared']}\")\n"
   ]
  },
  {
   "cell_type": "markdown",
   "metadata": {
    "cell_id": "348ea391bc4f4aed81c601eff784190a",
    "deepnote_cell_type": "markdown",
    "tags": []
   },
   "source": [
    "The equation for this model would be\n",
    "\n",
    "$$\n",
    "\\hat{y}=134.98-0.2051x+0.000079x^2\n",
    "$$\n",
    "\n",
    "Where:\n",
    "\n",
    "- $\\beta_0=134.98$ is the intercept\n",
    "\n",
    "- $\\beta_1=-0.2051$ is the coefficient of $x$, the linear term\n",
    "\n",
    "- $\\beta_2=0.000079$ is the coefficient of $x^2$, the squared term\n",
    "\n",
    "- $\\hat{y}$ is the predicted `default_rate`\n",
    "\n",
    "- $x$ is the `SAT_avg`"
   ]
  },
  {
   "cell_type": "markdown",
   "metadata": {
    "cell_id": "bc534a836ccd420a9292fff9f18631f7",
    "deepnote_cell_type": "markdown",
    "tags": []
   },
   "source": [
    "<div class=\"alert alert-block alert-info\"><b>Instructor Note:</b> Students might want to know how they can interpret each of the coefficient values here. Interpreting these coefficients is quite tricky - there is no longer a simple \"slope\" to interpret. In fact, it's not worth the class time to nail down the interpretation of polynomial coefficients. Instead, it's worth mentioning that adding polynomial terms presents a tradeoff: the model fit might improve, but the model itself becomes less interpretable. After this point, the rest of the notebook will discuss a different tradeoff: adding more polynomial terms may cause our model to overfit to our dataset. See section 3 below.\n",
    "</div>"
   ]
  },
  {
   "cell_type": "markdown",
   "metadata": {
    "cell_id": "edecae7d7b2d44bcb6badaa2b31d49be",
    "deepnote_cell_type": "markdown",
    "tags": []
   },
   "source": [
    "<div class=\"alert alert-block alert-warning\">\n",
    "\n",
    "**2.2 -** Use the `summary` command on `sat_model_2` to see summary information about the quadratic model.\n",
    "\n",
    "</div>"
   ]
  },
  {
   "cell_type": "code",
   "execution_count": null,
   "metadata": {
    "cell_id": "33d3a414583844a88f4f6535b5fead77",
    "deepnote_cell_type": "code",
    "deepnote_to_be_reexecuted": true,
    "execution_millis": 751,
    "execution_start": 1709620367156,
    "output_cleared": false,
    "source_hash": null,
    "tags": []
   },
   "outputs": [
    {
     "data": {
      "text/html": [
       "<table class=\"simpletable\">\n",
       "<caption>OLS Regression Results</caption>\n",
       "<tr>\n",
       "  <th>Dep. Variable:</th>      <td>default_rate</td>   <th>  R-squared:         </th> <td>   0.655</td>\n",
       "</tr>\n",
       "<tr>\n",
       "  <th>Model:</th>                   <td>OLS</td>       <th>  Adj. R-squared:    </th> <td>   0.614</td>\n",
       "</tr>\n",
       "<tr>\n",
       "  <th>Method:</th>             <td>Least Squares</td>  <th>  F-statistic:       </th> <td>   16.11</td>\n",
       "</tr>\n",
       "<tr>\n",
       "  <th>Date:</th>             <td>Mon, 31 Mar 2025</td> <th>  Prob (F-statistic):</th> <td>0.000119</td>\n",
       "</tr>\n",
       "<tr>\n",
       "  <th>Time:</th>                 <td>15:49:07</td>     <th>  Log-Likelihood:    </th> <td> -37.817</td>\n",
       "</tr>\n",
       "<tr>\n",
       "  <th>No. Observations:</th>      <td>    20</td>      <th>  AIC:               </th> <td>   81.63</td>\n",
       "</tr>\n",
       "<tr>\n",
       "  <th>Df Residuals:</th>          <td>    17</td>      <th>  BIC:               </th> <td>   84.62</td>\n",
       "</tr>\n",
       "<tr>\n",
       "  <th>Df Model:</th>              <td>     2</td>      <th>                     </th>     <td> </td>   \n",
       "</tr>\n",
       "<tr>\n",
       "  <th>Covariance Type:</th>      <td>nonrobust</td>    <th>                     </th>     <td> </td>   \n",
       "</tr>\n",
       "</table>\n",
       "<table class=\"simpletable\">\n",
       "<tr>\n",
       "         <td></td>            <th>coef</th>     <th>std err</th>      <th>t</th>      <th>P>|t|</th>  <th>[0.025</th>    <th>0.975]</th>  \n",
       "</tr>\n",
       "<tr>\n",
       "  <th>Intercept</th>       <td>  134.9817</td> <td>   38.318</td> <td>    3.523</td> <td> 0.003</td> <td>   54.137</td> <td>  215.826</td>\n",
       "</tr>\n",
       "<tr>\n",
       "  <th>SAT_avg</th>         <td>   -0.2052</td> <td>    0.064</td> <td>   -3.188</td> <td> 0.005</td> <td>   -0.341</td> <td>   -0.069</td>\n",
       "</tr>\n",
       "<tr>\n",
       "  <th>SAT_avg_squared</th> <td> 7.871e-05</td> <td> 2.68e-05</td> <td>    2.940</td> <td> 0.009</td> <td> 2.22e-05</td> <td>    0.000</td>\n",
       "</tr>\n",
       "</table>\n",
       "<table class=\"simpletable\">\n",
       "<tr>\n",
       "  <th>Omnibus:</th>       <td> 0.605</td> <th>  Durbin-Watson:     </th> <td>   2.421</td>\n",
       "</tr>\n",
       "<tr>\n",
       "  <th>Prob(Omnibus):</th> <td> 0.739</td> <th>  Jarque-Bera (JB):  </th> <td>   0.632</td>\n",
       "</tr>\n",
       "<tr>\n",
       "  <th>Skew:</th>          <td> 0.137</td> <th>  Prob(JB):          </th> <td>   0.729</td>\n",
       "</tr>\n",
       "<tr>\n",
       "  <th>Kurtosis:</th>      <td> 2.173</td> <th>  Cond. No.          </th> <td>1.33e+08</td>\n",
       "</tr>\n",
       "</table><br/><br/>Notes:<br/>[1] Standard Errors assume that the covariance matrix of the errors is correctly specified.<br/>[2] The condition number is large, 1.33e+08. This might indicate that there are<br/>strong multicollinearity or other numerical problems."
      ],
      "text/latex": [
       "\\begin{center}\n",
       "\\begin{tabular}{lclc}\n",
       "\\toprule\n",
       "\\textbf{Dep. Variable:}    &  default\\_rate   & \\textbf{  R-squared:         } &     0.655   \\\\\n",
       "\\textbf{Model:}            &       OLS        & \\textbf{  Adj. R-squared:    } &     0.614   \\\\\n",
       "\\textbf{Method:}           &  Least Squares   & \\textbf{  F-statistic:       } &     16.11   \\\\\n",
       "\\textbf{Date:}             & Mon, 31 Mar 2025 & \\textbf{  Prob (F-statistic):} &  0.000119   \\\\\n",
       "\\textbf{Time:}             &     15:49:07     & \\textbf{  Log-Likelihood:    } &   -37.817   \\\\\n",
       "\\textbf{No. Observations:} &          20      & \\textbf{  AIC:               } &     81.63   \\\\\n",
       "\\textbf{Df Residuals:}     &          17      & \\textbf{  BIC:               } &     84.62   \\\\\n",
       "\\textbf{Df Model:}         &           2      & \\textbf{                     } &             \\\\\n",
       "\\textbf{Covariance Type:}  &    nonrobust     & \\textbf{                     } &             \\\\\n",
       "\\bottomrule\n",
       "\\end{tabular}\n",
       "\\begin{tabular}{lcccccc}\n",
       "                           & \\textbf{coef} & \\textbf{std err} & \\textbf{t} & \\textbf{P$> |$t$|$} & \\textbf{[0.025} & \\textbf{0.975]}  \\\\\n",
       "\\midrule\n",
       "\\textbf{Intercept}         &     134.9817  &       38.318     &     3.523  &         0.003        &       54.137    &      215.826     \\\\\n",
       "\\textbf{SAT\\_avg}          &      -0.2052  &        0.064     &    -3.188  &         0.005        &       -0.341    &       -0.069     \\\\\n",
       "\\textbf{SAT\\_avg\\_squared} &    7.871e-05  &     2.68e-05     &     2.940  &         0.009        &     2.22e-05    &        0.000     \\\\\n",
       "\\bottomrule\n",
       "\\end{tabular}\n",
       "\\begin{tabular}{lclc}\n",
       "\\textbf{Omnibus:}       &  0.605 & \\textbf{  Durbin-Watson:     } &    2.421  \\\\\n",
       "\\textbf{Prob(Omnibus):} &  0.739 & \\textbf{  Jarque-Bera (JB):  } &    0.632  \\\\\n",
       "\\textbf{Skew:}          &  0.137 & \\textbf{  Prob(JB):          } &    0.729  \\\\\n",
       "\\textbf{Kurtosis:}      &  2.173 & \\textbf{  Cond. No.          } & 1.33e+08  \\\\\n",
       "\\bottomrule\n",
       "\\end{tabular}\n",
       "%\\caption{OLS Regression Results}\n",
       "\\end{center}\n",
       "\n",
       "Notes: \\newline\n",
       " [1] Standard Errors assume that the covariance matrix of the errors is correctly specified. \\newline\n",
       " [2] The condition number is large, 1.33e+08. This might indicate that there are \\newline\n",
       " strong multicollinearity or other numerical problems."
      ],
      "text/plain": [
       "<class 'statsmodels.iolib.summary.Summary'>\n",
       "\"\"\"\n",
       "                            OLS Regression Results                            \n",
       "==============================================================================\n",
       "Dep. Variable:           default_rate   R-squared:                       0.655\n",
       "Model:                            OLS   Adj. R-squared:                  0.614\n",
       "Method:                 Least Squares   F-statistic:                     16.11\n",
       "Date:                Mon, 31 Mar 2025   Prob (F-statistic):           0.000119\n",
       "Time:                        15:49:07   Log-Likelihood:                -37.817\n",
       "No. Observations:                  20   AIC:                             81.63\n",
       "Df Residuals:                      17   BIC:                             84.62\n",
       "Df Model:                           2                                         \n",
       "Covariance Type:            nonrobust                                         \n",
       "===================================================================================\n",
       "                      coef    std err          t      P>|t|      [0.025      0.975]\n",
       "-----------------------------------------------------------------------------------\n",
       "Intercept         134.9817     38.318      3.523      0.003      54.137     215.826\n",
       "SAT_avg            -0.2052      0.064     -3.188      0.005      -0.341      -0.069\n",
       "SAT_avg_squared  7.871e-05   2.68e-05      2.940      0.009    2.22e-05       0.000\n",
       "==============================================================================\n",
       "Omnibus:                        0.605   Durbin-Watson:                   2.421\n",
       "Prob(Omnibus):                  0.739   Jarque-Bera (JB):                0.632\n",
       "Skew:                           0.137   Prob(JB):                        0.729\n",
       "Kurtosis:                       2.173   Cond. No.                     1.33e+08\n",
       "==============================================================================\n",
       "\n",
       "Notes:\n",
       "[1] Standard Errors assume that the covariance matrix of the errors is correctly specified.\n",
       "[2] The condition number is large, 1.33e+08. This might indicate that there are\n",
       "strong multicollinearity or other numerical problems.\n",
       "\"\"\""
      ]
     },
     "execution_count": 16,
     "metadata": {},
     "output_type": "execute_result"
    }
   ],
   "source": [
    "# Your code goes here\n",
    "..."
   ]
  },
  {
   "cell_type": "markdown",
   "metadata": {
    "cell_id": "93962c7d33ba49c79f5a7ce78c5e2846",
    "deepnote_cell_type": "markdown"
   },
   "source": [
    "<div class=\"alert alert-block alert-info\">\n",
    "\n",
    "**Check yourself:** The $R^2$ value shown in the model summary should be 0.655 </div>"
   ]
  },
  {
   "cell_type": "markdown",
   "metadata": {
    "cell_id": "0dc08eb056f7434a8fd06d4feba2c814",
    "deepnote_cell_type": "markdown",
    "tags": []
   },
   "source": [
    "<div class=\"alert alert-block alert-warning\">\n",
    "\n",
    "**2.3 -** How does this model's $R^2$ value compare to that of the linear model? Was your prediction right? Explain.\n",
    "\n",
    "</div>"
   ]
  },
  {
   "cell_type": "markdown",
   "metadata": {
    "cell_id": "3faf9e14254149b4babc9eac33512485",
    "deepnote_cell_type": "markdown",
    "tags": []
   },
   "source": [
    "**Double-click this cell to type your answer here:** ..."
   ]
  },
  {
   "cell_type": "markdown",
   "metadata": {
    "cell_id": "7b0fdb9caacb45428d7e505ecac21f68",
    "deepnote_cell_type": "markdown",
    "tags": []
   },
   "source": [
    "This analysis raises a natural question: Why stop at degree 2? By raising the degree, we can add more curves to our model, potentially better fitting the data! Let's visualize what happens when we increase the degree in our polynomial regression models."
   ]
  },
  {
   "cell_type": "markdown",
   "metadata": {
    "cell_id": "b124f56ff5794b12b0eb50824a302d65",
    "deepnote_cell_type": "markdown",
    "tags": []
   },
   "source": [
    "#### Degree 3 Polynomial Model\n",
    "\n",
    "$$\n",
    "\\hat{y} = \\beta_{0} + \\beta_{1}x + \\beta_{2}x^2 + \\beta_{3}x^3\n",
    "$$"
   ]
  },
  {
   "cell_type": "code",
   "execution_count": null,
   "metadata": {
    "cell_id": "be72ee5111834379a1747e383306c3d4",
    "deepnote_cell_type": "code",
    "deepnote_to_be_reexecuted": true,
    "execution_millis": 733,
    "execution_start": 1709620367175,
    "output_cleared": false,
    "source_hash": null,
    "tags": []
   },
   "outputs": [
    {
     "data": {
      "image/png": "[encoded data removed]",
      "text/plain": [
       "<Figure size 500x500 with 1 Axes>"
      ]
     },
     "metadata": {},
     "output_type": "display_data"
    }
   ],
   "source": [
    "## Run this code but do not edit it\n",
    "# create scatterplot: default_rate ~ SAT_avg, with degree 3 polynomial model overlayed\n",
    "sns.lmplot(\n",
    "    x='SAT_avg', \n",
    "    y='default_rate', \n",
    "    data=sample_four_year_col, \n",
    "    order=3,  # Fit a degree-3 polynomial\n",
    "    line_kws={'color': 'orange'},  # Set the line color to orange\n",
    "    scatter_kws={'alpha': 0.7}  # Adjust transparency of scatter points\n",
    ")\n",
    "plt.ylim(0, 15)\n",
    "plt.title('Scatterplot with Degree 3 Polynomial Model')\n",
    "plt.xlabel('SAT_avg')\n",
    "plt.ylabel('Default Rate')\n",
    "plt.show()"
   ]
  },
  {
   "cell_type": "markdown",
   "metadata": {
    "cell_id": "ec34543025fb44419041d4c2fd461e93",
    "deepnote_cell_type": "markdown",
    "tags": []
   },
   "source": [
    "#### Degree 5 Polynomial Model\n",
    "\n",
    "$$\n",
    "\\hat{y} = \\beta_{0} + \\beta_{1}x + \\beta_{2}x^2 + \\beta_{3}x^3 + \\beta_{4}x^4 + + \\beta_{5}x^5\n",
    "$$"
   ]
  },
  {
   "cell_type": "code",
   "execution_count": 20,
   "metadata": {
    "allow_embed": false,
    "cell_id": "7797a4db67064249a7c5f4af320a0de0",
    "deepnote_cell_type": "code",
    "deepnote_to_be_reexecuted": true,
    "execution_millis": 528,
    "execution_start": 1709620367380,
    "output_cleared": false,
    "source_hash": null,
    "tags": []
   },
   "outputs": [
    {
     "data": {
      "image/png": "[encoded data removed]",
      "text/plain": [
       "<Figure size 500x500 with 1 Axes>"
      ]
     },
     "metadata": {},
     "output_type": "display_data"
    }
   ],
   "source": [
    "## Run this code but do not edit it\n",
    "# create scatterplot: default_rate ~ SAT_avg, with degree 5 polynomial model overlayed\n",
    "sns.lmplot(\n",
    "    x='SAT_avg', \n",
    "    y='default_rate', \n",
    "    data=sample_four_year_col, \n",
    "    order=5,  # Fit a degree-5 polynomial\n",
    "    line_kws={'color': 'orange'},  # Set the line color to orange\n",
    "    scatter_kws={'alpha': 0.7}  # Adjust transparency of scatter points\n",
    ")\n",
    "plt.ylim(-4, 14)\n",
    "plt.title('Scatterplot with Degree 5 Polynomial Model')\n",
    "plt.xlabel('SAT_avg')\n",
    "plt.ylabel('Default Rate')\n",
    "plt.show()"
   ]
  },
  {
   "cell_type": "markdown",
   "metadata": {
    "cell_id": "d587dbac651e4dc8a52ded2b9ef8d3b5",
    "deepnote_cell_type": "markdown",
    "tags": []
   },
   "source": [
    "#### Degree 12 Polynomial Model\n",
    "\n",
    "$$\n",
    "\\hat{y} = \\beta_{0} + \\beta_{1}x + \\beta_{2}x^2 + \\beta_{3}x^3 + \\beta_{4}x^4 + + \\beta_{5}x^5 + + \\beta_{6}x^6 + ... + \\beta_{12}x^{12}\n",
    "$$"
   ]
  },
  {
   "cell_type": "markdown",
   "metadata": {
    "cell_id": "d4d483e411db4c499ab328959d3ac13c",
    "deepnote_cell_type": "markdown"
   },
   "source": [
    "**Note:** The following code is pre-run, to save computer space."
   ]
  },
  {
   "cell_type": "code",
   "execution_count": 23,
   "metadata": {
    "cell_id": "32c572243e4c40108a27d68bf4cc6ddc",
    "deepnote_cell_type": "code",
    "deepnote_to_be_reexecuted": true,
    "execution_millis": 365,
    "execution_start": 1709620367544,
    "output_cleared": false,
    "source_hash": null,
    "tags": []
   },
   "outputs": [
    {
     "data": {
      "image/png": "[encoded data removed]",
      "text/plain": [
       "<Figure size 500x500 with 1 Axes>"
      ]
     },
     "metadata": {},
     "output_type": "display_data"
    }
   ],
   "source": [
    "## Note: This code was pre-run, to save computer space\n",
    "# create scatterplot: default_rate ~ SAT_avg, with degree 12 polynomial model overlayed\n",
    "sns.lmplot(\n",
    "    x='SAT_avg', \n",
    "    y='default_rate', \n",
    "    data=sample_four_year_col, \n",
    "    order=12,  # Fit a degree-12 polynomial\n",
    "    line_kws={'color': 'orange'},  # Set the line color to orange\n",
    "    scatter_kws={'alpha': 0.7}  # Adjust transparency of scatter points\n",
    ")\n",
    "plt.ylim(-4, 15)\n",
    "plt.title('Scatterplot with Degree 12 Polynomial Model')\n",
    "plt.xlabel('SAT_avg')\n",
    "plt.ylabel('Default Rate')\n",
    "plt.show()"
   ]
  },
  {
   "cell_type": "markdown",
   "metadata": {
    "cell_id": "04293791903d4505a74724d7bd7bd5a3",
    "deepnote_cell_type": "markdown",
    "tags": []
   },
   "source": [
    "<div class=\"alert alert-block alert-info\"><b>Instructor Note:</b> Because this dataset has 20 data values, the mathematical maximum number of polynomial terms we could have is 19. This would produce a curve that's so wavy that it would go through every point exactly. However, when creating such high-order polynomial models, the numerical estimates become <b>very</b> large (e.g. imagine an SAT score of 1300 raised to the 19th power!). This creates numerical instability leading to errors. So, when demonstrating this concept to students, we recommend not going past the 12th order polynomial.\n",
    "</div>"
   ]
  },
  {
   "cell_type": "markdown",
   "metadata": {
    "cell_id": "7e60f7d802c1451b8a87ba9085cb0121",
    "deepnote_cell_type": "markdown",
    "tags": []
   },
   "source": [
    "<div class=\"alert alert-block alert-warning\">\n",
    "\n",
    "**2.4 -** Examine each plot for the polynmial models with degrees 1-12. Which model do you think would have the largest $R^2$ value? Why?\n",
    "\n",
    "</div>"
   ]
  },
  {
   "cell_type": "markdown",
   "metadata": {
    "cell_id": "9c07e31015694fa1bacd0aba9d6b14e1",
    "deepnote_cell_type": "markdown",
    "tags": []
   },
   "source": [
    "**Double-click this cell to type your answer here:** ..."
   ]
  },
  {
   "cell_type": "markdown",
   "metadata": {
    "cell_id": "64c405257f404993aada93985e5b5447",
    "deepnote_cell_type": "markdown",
    "tags": []
   },
   "source": [
    "To determine which polynomial model fits the data the best, we will fit models for each degree 1-12."
   ]
  },
  {
   "cell_type": "code",
   "execution_count": 12,
   "metadata": {
    "cell_id": "8901a824f7974a9192c052cc6a39e2e5",
    "deepnote_cell_type": "code",
    "deepnote_to_be_reexecuted": true,
    "execution_millis": 365,
    "execution_start": 1709620367544,
    "output_cleared": false,
    "source_hash": null,
    "tags": []
   },
   "outputs": [
    {
     "name": "stdout",
     "output_type": "stream",
     "text": [
      "Degree-1 Polynomial R-squared: 0.4788921473444998\n",
      "Degree-2 Polynomial R-squared: 0.6545704728172126\n",
      "Degree-3 Polynomial R-squared: 0.7074433663688182\n",
      "Degree-4 Polynomial R-squared: 0.6966611436430901\n",
      "Degree-5 Polynomial R-squared: 0.6846187610491921\n",
      "Degree-6 Polynomial R-squared: 0.6708364046613713\n",
      "Degree-7 Polynomial R-squared: 0.6919965517621345\n",
      "Degree-8 Polynomial R-squared: 0.73065171404479\n",
      "Degree-9 Polynomial R-squared: 0.7471236278636344\n",
      "Degree-10 Polynomial R-squared: 0.7553515267923839\n",
      "Degree-11 Polynomial R-squared: 0.8195290017333857\n",
      "Degree-12 Polynomial R-squared: 0.8253009823798665\n"
     ]
    }
   ],
   "source": [
    "## Run this code but do not edit it\n",
    "# degree 1-12 polynomial models for default_rate ~ SAT_avg\n",
    "models = {}\n",
    "for term in range(1,13):\n",
    "    sample_four_year_col[f'SAT_avg_{term}'] = sample_four_year_col['SAT_avg'] ** term\n",
    "    formula = 'default_rate ~ ' + ' + '.join([f'SAT_avg_{i}' for i in range(1, term+1)])\n",
    "    model = smf.ols(formula=formula, data=sample_four_year_col).fit()\n",
    "    models[term] = model\n",
    "    print(f\"Degree-{term} Polynomial R-squared: {model.rsquared}\")\n"
   ]
  },
  {
   "cell_type": "markdown",
   "metadata": {
    "cell_id": "a6705949684145efb5940f5229f50a39",
    "deepnote_cell_type": "markdown"
   },
   "source": [
    "<div class=\"alert alert-block alert-info\">\n",
    "\n",
    "**Check yourself:** The $R^2$ for the degree 5 model should be about 0.685 </div>"
   ]
  },
  {
   "cell_type": "markdown",
   "metadata": {
    "cell_id": "3f02d877928649ed8f85759e856bb43a",
    "deepnote_cell_type": "markdown",
    "tags": []
   },
   "source": [
    "<div class=\"alert alert-block alert-warning\">\n",
    "\n",
    "**2.5 -** The degree 12 model has the highest $R^2$ value. Does that mean it's the \"best\" model? Why or why not?\n",
    "\n",
    "**Hint:** Think about which model would do the best for predicting *the rest of the data* from the original full dataset.\n",
    "\n",
    "</div>"
   ]
  },
  {
   "cell_type": "markdown",
   "metadata": {
    "cell_id": "d4e098ea991346f7ae4e433a83ea6e5e",
    "deepnote_cell_type": "markdown",
    "tags": []
   },
   "source": [
    "**Double-click this cell to type your answer here:** ..."
   ]
  },
  {
   "cell_type": "markdown",
   "metadata": {
    "cell_id": "18a683b367454af0b72d5a246760d9b2",
    "deepnote_cell_type": "markdown",
    "tags": []
   },
   "source": [
    "### 3.0 - Prediction, model tuning, & machine learning\n",
    "\n",
    "In prior notebooks, we've used our models to make inferences about default rates. However, sometimes in data science, we care more about predictions than we do about inferences. In particular, many data science tasks ask for making accurate predictions on *new* data - data that hadn't yet been collected when we first fit the model. This process of building models to predict new data, especially when it's automated, is called **machine learning.** \n",
    "\n",
    "The key to machine learning is building models that make accurate predictions on **test** data - unseen data that weren't used when fitting the model. Let's see how this works. First, let's create a test dataset of 10 randomly sampled colleges. Importantly, these are colleges that **our models didn't see while fitting**:"
   ]
  },
  {
   "cell_type": "code",
   "execution_count": 36,
   "metadata": {
    "cell_id": "9b1e920614294fffb80bc13eb59f32c6",
    "deepnote_cell_type": "code",
    "deepnote_to_be_reexecuted": true,
    "execution_millis": 684,
    "execution_start": 1709620367618,
    "output_cleared": false,
    "source_hash": null,
    "tags": []
   },
   "outputs": [
    {
     "data": {
      "application/vnd.microsoft.datawrangler.viewer.v0+json": {
       "columns": [
        {
         "name": "index",
         "rawType": "int64",
         "type": "integer"
        },
        {
         "name": "OPEID",
         "rawType": "int64",
         "type": "integer"
        },
        {
         "name": "name",
         "rawType": "object",
         "type": "string"
        },
        {
         "name": "city",
         "rawType": "object",
         "type": "string"
        },
        {
         "name": "state",
         "rawType": "object",
         "type": "string"
        },
        {
         "name": "region",
         "rawType": "object",
         "type": "string"
        },
        {
         "name": "median_debt",
         "rawType": "float64",
         "type": "float"
        },
        {
         "name": "default_rate",
         "rawType": "float64",
         "type": "float"
        },
        {
         "name": "highest_degree",
         "rawType": "object",
         "type": "string"
        },
        {
         "name": "ownership",
         "rawType": "object",
         "type": "string"
        },
        {
         "name": "locale",
         "rawType": "object",
         "type": "string"
        },
        {
         "name": "hbcu",
         "rawType": "object",
         "type": "string"
        },
        {
         "name": "admit_rate",
         "rawType": "float64",
         "type": "float"
        },
        {
         "name": "SAT_avg",
         "rawType": "int64",
         "type": "integer"
        },
        {
         "name": "online_only",
         "rawType": "object",
         "type": "string"
        },
        {
         "name": "enrollment",
         "rawType": "int64",
         "type": "integer"
        },
        {
         "name": "net_price",
         "rawType": "float64",
         "type": "float"
        },
        {
         "name": "avg_cost",
         "rawType": "float64",
         "type": "float"
        },
        {
         "name": "net_tuition",
         "rawType": "float64",
         "type": "float"
        },
        {
         "name": "ed_spending_per_student",
         "rawType": "float64",
         "type": "float"
        },
        {
         "name": "avg_faculty_salary",
         "rawType": "float64",
         "type": "float"
        },
        {
         "name": "pct_PELL",
         "rawType": "float64",
         "type": "float"
        },
        {
         "name": "pct_fed_loan",
         "rawType": "float64",
         "type": "float"
        },
        {
         "name": "grad_rate",
         "rawType": "float64",
         "type": "float"
        },
        {
         "name": "pct_firstgen",
         "rawType": "float64",
         "type": "float"
        },
        {
         "name": "med_fam_income",
         "rawType": "float64",
         "type": "float"
        },
        {
         "name": "med_alum_earnings",
         "rawType": "float64",
         "type": "float"
        }
       ],
       "conversionMethod": "pd.DataFrame",
       "ref": "64daf85f-57fe-4574-a897-b3e6a62dd5ed",
       "rows": [
        [
         "586",
         "285900",
         "SUNY Morrisville",
         "Morrisville",
         "NY",
         "Northeast",
         "12.0",
         "10.7",
         "Bachelors",
         "Public",
         "Rural",
         "No",
         "76.72",
         "973",
         "No",
         "2418",
         "18.436",
         "27.687",
         "4.913",
         "13.715",
         "6.434",
         "56.2",
         "68.61",
         "37.87",
         "35.0614645",
         "37.974",
         "41.739"
        ],
        [
         "726",
         "321000",
         "Oregon State University",
         "Corvallis",
         "OR",
         "Far West",
         "15.5",
         "2.8",
         "Graduate",
         "Public",
         "Small City",
         "No",
         "82.21",
         "1204",
         "No",
         "26048",
         "21.508",
         "27.595",
         "12.616",
         "11.902",
         "10.436",
         "22.99",
         "36.51",
         "69.32",
         "31.369606",
         "44.45",
         "56.619"
        ],
        [
         "416",
         "232900",
         "Wayne State University",
         "Detroit",
         "MI",
         "Midwest",
         "16.5",
         "5.1",
         "Graduate",
         "Public",
         "Large City",
         "No",
         "69.01",
         "1112",
         "No",
         "17164",
         "13.962",
         "24.541",
         "11.336",
         "12.491",
         "11.123",
         "43.1",
         "49.44",
         "51.89",
         "37.6020088",
         "28.6055",
         "46.679"
        ],
        [
         "385",
         "221900",
         "Tufts University",
         "Medford",
         "MA",
         "Northeast",
         "15.5",
         "1.1",
         "Graduate",
         "Private nonprofit",
         "Suburb",
         "No",
         "16.3",
         "1474",
         "No",
         "6053",
         "37.494",
         "76.151",
         "38.212",
         "24.748",
         "12.616",
         "11.38",
         "20.86",
         "93.91",
         "15.2954809",
         "85.9295",
         "67.122"
        ],
        [
         "924",
         "364600",
         "Texas Woman's University",
         "Denton",
         "TX",
         "Rockies & Southwest",
         "14.0",
         "5.1",
         "Graduate",
         "Public",
         "Small City",
         "No",
         "93.68",
         "1067",
         "No",
         "9297",
         "9.684",
         "19.418",
         "6.08",
         "6.595",
         "8.764",
         "39.0",
         "43.88",
         "48.14",
         "41.5786828",
         "32.124",
         "49.724"
        ],
        [
         "971",
         "815500",
         "The Evergreen State College",
         "Olympia",
         "WA",
         "Far West",
         "14.5",
         "6.5",
         "Graduate",
         "Public",
         "Suburb",
         "No",
         "98.38",
         "1076",
         "No",
         "2053",
         "13.526",
         "24.371",
         "7.913",
         "10.111",
         "7.371",
         "47.59",
         "48.8",
         "44.87",
         "30.0900901",
         "22.2",
         "40.782"
        ],
        [
         "1039",
         "141704",
         "University of Connecticut-Waterbury Campus",
         "Waterbury",
         "CT",
         "Northeast",
         "19.292",
         "2.0",
         "Graduate",
         "Public",
         "Suburb",
         "No",
         "96.63",
         "1062",
         "No",
         "835",
         "8.675",
         "18.464",
         "3.084",
         "4.039",
         "15.777",
         "44.17",
         "45.41",
         "65.07",
         "26.6493293",
         "67.737",
         "72.46"
        ],
        [
         "177",
         "160100",
         "University of West Georgia",
         "Carrollton",
         "GA",
         "South",
         "14.0",
         "7.4",
         "Graduate",
         "Public",
         "Town",
         "No",
         "77.62",
         "1012",
         "No",
         "9444",
         "16.588",
         "23.684",
         "7.033",
         "7.933",
         "7.368",
         "45.32",
         "53.58",
         "44.35",
         "31.8805185",
         "36.595",
         "45.011"
        ],
        [
         "309",
         "197700",
         "Murray State University",
         "Murray",
         "KY",
         "South",
         "15.5",
         "6.0",
         "Graduate",
         "Public",
         "Town",
         "No",
         "77.03",
         "1179",
         "No",
         "6981",
         "11.736",
         "21.349",
         "7.49",
         "9.01",
         "6.535",
         "31.15",
         "40.71",
         "53.36",
         "33.95574",
         "46.064",
         "41.894"
        ],
        [
         "733",
         "320900",
         "Western Oregon University",
         "Monmouth",
         "OR",
         "Far West",
         "15.0",
         "5.1",
         "Graduate",
         "Public",
         "Town",
         "No",
         "79.14",
         "1055",
         "No",
         "3994",
         "15.214",
         "22.81",
         "6.168",
         "10.152",
         "6.929",
         "37.99",
         "75.5",
         "45.08",
         "41.9387755",
         "41.71",
         "47.041"
        ]
       ],
       "shape": {
        "columns": 26,
        "rows": 10
       }
      },
      "text/html": [
       "<div>\n",
       "<style scoped>\n",
       "    .dataframe tbody tr th:only-of-type {\n",
       "        vertical-align: middle;\n",
       "    }\n",
       "\n",
       "    .dataframe tbody tr th {\n",
       "        vertical-align: top;\n",
       "    }\n",
       "\n",
       "    .dataframe thead th {\n",
       "        text-align: right;\n",
       "    }\n",
       "</style>\n",
       "<table border=\"1\" class=\"dataframe\">\n",
       "  <thead>\n",
       "    <tr style=\"text-align: right;\">\n",
       "      <th></th>\n",
       "      <th>OPEID</th>\n",
       "      <th>name</th>\n",
       "      <th>city</th>\n",
       "      <th>state</th>\n",
       "      <th>region</th>\n",
       "      <th>median_debt</th>\n",
       "      <th>default_rate</th>\n",
       "      <th>highest_degree</th>\n",
       "      <th>ownership</th>\n",
       "      <th>locale</th>\n",
       "      <th>...</th>\n",
       "      <th>avg_cost</th>\n",
       "      <th>net_tuition</th>\n",
       "      <th>ed_spending_per_student</th>\n",
       "      <th>avg_faculty_salary</th>\n",
       "      <th>pct_PELL</th>\n",
       "      <th>pct_fed_loan</th>\n",
       "      <th>grad_rate</th>\n",
       "      <th>pct_firstgen</th>\n",
       "      <th>med_fam_income</th>\n",
       "      <th>med_alum_earnings</th>\n",
       "    </tr>\n",
       "  </thead>\n",
       "  <tbody>\n",
       "    <tr>\n",
       "      <th>586</th>\n",
       "      <td>285900</td>\n",
       "      <td>SUNY Morrisville</td>\n",
       "      <td>Morrisville</td>\n",
       "      <td>NY</td>\n",
       "      <td>Northeast</td>\n",
       "      <td>12.000</td>\n",
       "      <td>10.7</td>\n",
       "      <td>Bachelors</td>\n",
       "      <td>Public</td>\n",
       "      <td>Rural</td>\n",
       "      <td>...</td>\n",
       "      <td>27.687</td>\n",
       "      <td>4.913</td>\n",
       "      <td>13.715</td>\n",
       "      <td>6.434</td>\n",
       "      <td>56.20</td>\n",
       "      <td>68.61</td>\n",
       "      <td>37.87</td>\n",
       "      <td>35.061464</td>\n",
       "      <td>37.9740</td>\n",
       "      <td>41.739</td>\n",
       "    </tr>\n",
       "    <tr>\n",
       "      <th>726</th>\n",
       "      <td>321000</td>\n",
       "      <td>Oregon State University</td>\n",
       "      <td>Corvallis</td>\n",
       "      <td>OR</td>\n",
       "      <td>Far West</td>\n",
       "      <td>15.500</td>\n",
       "      <td>2.8</td>\n",
       "      <td>Graduate</td>\n",
       "      <td>Public</td>\n",
       "      <td>Small City</td>\n",
       "      <td>...</td>\n",
       "      <td>27.595</td>\n",
       "      <td>12.616</td>\n",
       "      <td>11.902</td>\n",
       "      <td>10.436</td>\n",
       "      <td>22.99</td>\n",
       "      <td>36.51</td>\n",
       "      <td>69.32</td>\n",
       "      <td>31.369606</td>\n",
       "      <td>44.4500</td>\n",
       "      <td>56.619</td>\n",
       "    </tr>\n",
       "    <tr>\n",
       "      <th>416</th>\n",
       "      <td>232900</td>\n",
       "      <td>Wayne State University</td>\n",
       "      <td>Detroit</td>\n",
       "      <td>MI</td>\n",
       "      <td>Midwest</td>\n",
       "      <td>16.500</td>\n",
       "      <td>5.1</td>\n",
       "      <td>Graduate</td>\n",
       "      <td>Public</td>\n",
       "      <td>Large City</td>\n",
       "      <td>...</td>\n",
       "      <td>24.541</td>\n",
       "      <td>11.336</td>\n",
       "      <td>12.491</td>\n",
       "      <td>11.123</td>\n",
       "      <td>43.10</td>\n",
       "      <td>49.44</td>\n",
       "      <td>51.89</td>\n",
       "      <td>37.602009</td>\n",
       "      <td>28.6055</td>\n",
       "      <td>46.679</td>\n",
       "    </tr>\n",
       "    <tr>\n",
       "      <th>385</th>\n",
       "      <td>221900</td>\n",
       "      <td>Tufts University</td>\n",
       "      <td>Medford</td>\n",
       "      <td>MA</td>\n",
       "      <td>Northeast</td>\n",
       "      <td>15.500</td>\n",
       "      <td>1.1</td>\n",
       "      <td>Graduate</td>\n",
       "      <td>Private nonprofit</td>\n",
       "      <td>Suburb</td>\n",
       "      <td>...</td>\n",
       "      <td>76.151</td>\n",
       "      <td>38.212</td>\n",
       "      <td>24.748</td>\n",
       "      <td>12.616</td>\n",
       "      <td>11.38</td>\n",
       "      <td>20.86</td>\n",
       "      <td>93.91</td>\n",
       "      <td>15.295481</td>\n",
       "      <td>85.9295</td>\n",
       "      <td>67.122</td>\n",
       "    </tr>\n",
       "    <tr>\n",
       "      <th>924</th>\n",
       "      <td>364600</td>\n",
       "      <td>Texas Woman's University</td>\n",
       "      <td>Denton</td>\n",
       "      <td>TX</td>\n",
       "      <td>Rockies &amp; Southwest</td>\n",
       "      <td>14.000</td>\n",
       "      <td>5.1</td>\n",
       "      <td>Graduate</td>\n",
       "      <td>Public</td>\n",
       "      <td>Small City</td>\n",
       "      <td>...</td>\n",
       "      <td>19.418</td>\n",
       "      <td>6.080</td>\n",
       "      <td>6.595</td>\n",
       "      <td>8.764</td>\n",
       "      <td>39.00</td>\n",
       "      <td>43.88</td>\n",
       "      <td>48.14</td>\n",
       "      <td>41.578683</td>\n",
       "      <td>32.1240</td>\n",
       "      <td>49.724</td>\n",
       "    </tr>\n",
       "    <tr>\n",
       "      <th>971</th>\n",
       "      <td>815500</td>\n",
       "      <td>The Evergreen State College</td>\n",
       "      <td>Olympia</td>\n",
       "      <td>WA</td>\n",
       "      <td>Far West</td>\n",
       "      <td>14.500</td>\n",
       "      <td>6.5</td>\n",
       "      <td>Graduate</td>\n",
       "      <td>Public</td>\n",
       "      <td>Suburb</td>\n",
       "      <td>...</td>\n",
       "      <td>24.371</td>\n",
       "      <td>7.913</td>\n",
       "      <td>10.111</td>\n",
       "      <td>7.371</td>\n",
       "      <td>47.59</td>\n",
       "      <td>48.80</td>\n",
       "      <td>44.87</td>\n",
       "      <td>30.090090</td>\n",
       "      <td>22.2000</td>\n",
       "      <td>40.782</td>\n",
       "    </tr>\n",
       "    <tr>\n",
       "      <th>1039</th>\n",
       "      <td>141704</td>\n",
       "      <td>University of Connecticut-Waterbury Campus</td>\n",
       "      <td>Waterbury</td>\n",
       "      <td>CT</td>\n",
       "      <td>Northeast</td>\n",
       "      <td>19.292</td>\n",
       "      <td>2.0</td>\n",
       "      <td>Graduate</td>\n",
       "      <td>Public</td>\n",
       "      <td>Suburb</td>\n",
       "      <td>...</td>\n",
       "      <td>18.464</td>\n",
       "      <td>3.084</td>\n",
       "      <td>4.039</td>\n",
       "      <td>15.777</td>\n",
       "      <td>44.17</td>\n",
       "      <td>45.41</td>\n",
       "      <td>65.07</td>\n",
       "      <td>26.649329</td>\n",
       "      <td>67.7370</td>\n",
       "      <td>72.460</td>\n",
       "    </tr>\n",
       "    <tr>\n",
       "      <th>177</th>\n",
       "      <td>160100</td>\n",
       "      <td>University of West Georgia</td>\n",
       "      <td>Carrollton</td>\n",
       "      <td>GA</td>\n",
       "      <td>South</td>\n",
       "      <td>14.000</td>\n",
       "      <td>7.4</td>\n",
       "      <td>Graduate</td>\n",
       "      <td>Public</td>\n",
       "      <td>Town</td>\n",
       "      <td>...</td>\n",
       "      <td>23.684</td>\n",
       "      <td>7.033</td>\n",
       "      <td>7.933</td>\n",
       "      <td>7.368</td>\n",
       "      <td>45.32</td>\n",
       "      <td>53.58</td>\n",
       "      <td>44.35</td>\n",
       "      <td>31.880519</td>\n",
       "      <td>36.5950</td>\n",
       "      <td>45.011</td>\n",
       "    </tr>\n",
       "    <tr>\n",
       "      <th>309</th>\n",
       "      <td>197700</td>\n",
       "      <td>Murray State University</td>\n",
       "      <td>Murray</td>\n",
       "      <td>KY</td>\n",
       "      <td>South</td>\n",
       "      <td>15.500</td>\n",
       "      <td>6.0</td>\n",
       "      <td>Graduate</td>\n",
       "      <td>Public</td>\n",
       "      <td>Town</td>\n",
       "      <td>...</td>\n",
       "      <td>21.349</td>\n",
       "      <td>7.490</td>\n",
       "      <td>9.010</td>\n",
       "      <td>6.535</td>\n",
       "      <td>31.15</td>\n",
       "      <td>40.71</td>\n",
       "      <td>53.36</td>\n",
       "      <td>33.955740</td>\n",
       "      <td>46.0640</td>\n",
       "      <td>41.894</td>\n",
       "    </tr>\n",
       "    <tr>\n",
       "      <th>733</th>\n",
       "      <td>320900</td>\n",
       "      <td>Western Oregon University</td>\n",
       "      <td>Monmouth</td>\n",
       "      <td>OR</td>\n",
       "      <td>Far West</td>\n",
       "      <td>15.000</td>\n",
       "      <td>5.1</td>\n",
       "      <td>Graduate</td>\n",
       "      <td>Public</td>\n",
       "      <td>Town</td>\n",
       "      <td>...</td>\n",
       "      <td>22.810</td>\n",
       "      <td>6.168</td>\n",
       "      <td>10.152</td>\n",
       "      <td>6.929</td>\n",
       "      <td>37.99</td>\n",
       "      <td>75.50</td>\n",
       "      <td>45.08</td>\n",
       "      <td>41.938775</td>\n",
       "      <td>41.7100</td>\n",
       "      <td>47.041</td>\n",
       "    </tr>\n",
       "  </tbody>\n",
       "</table>\n",
       "<p>10 rows × 26 columns</p>\n",
       "</div>"
      ],
      "text/plain": [
       "       OPEID                                        name         city state  \\\n",
       "586   285900                            SUNY Morrisville  Morrisville    NY   \n",
       "726   321000                     Oregon State University    Corvallis    OR   \n",
       "416   232900                      Wayne State University      Detroit    MI   \n",
       "385   221900                            Tufts University      Medford    MA   \n",
       "924   364600                    Texas Woman's University       Denton    TX   \n",
       "971   815500                 The Evergreen State College      Olympia    WA   \n",
       "1039  141704  University of Connecticut-Waterbury Campus    Waterbury    CT   \n",
       "177   160100                  University of West Georgia   Carrollton    GA   \n",
       "309   197700                     Murray State University       Murray    KY   \n",
       "733   320900                   Western Oregon University     Monmouth    OR   \n",
       "\n",
       "                   region  median_debt  default_rate highest_degree  \\\n",
       "586             Northeast       12.000          10.7      Bachelors   \n",
       "726              Far West       15.500           2.8       Graduate   \n",
       "416               Midwest       16.500           5.1       Graduate   \n",
       "385             Northeast       15.500           1.1       Graduate   \n",
       "924   Rockies & Southwest       14.000           5.1       Graduate   \n",
       "971              Far West       14.500           6.5       Graduate   \n",
       "1039            Northeast       19.292           2.0       Graduate   \n",
       "177                 South       14.000           7.4       Graduate   \n",
       "309                 South       15.500           6.0       Graduate   \n",
       "733              Far West       15.000           5.1       Graduate   \n",
       "\n",
       "              ownership      locale  ... avg_cost  net_tuition  \\\n",
       "586              Public       Rural  ...   27.687        4.913   \n",
       "726              Public  Small City  ...   27.595       12.616   \n",
       "416              Public  Large City  ...   24.541       11.336   \n",
       "385   Private nonprofit      Suburb  ...   76.151       38.212   \n",
       "924              Public  Small City  ...   19.418        6.080   \n",
       "971              Public      Suburb  ...   24.371        7.913   \n",
       "1039             Public      Suburb  ...   18.464        3.084   \n",
       "177              Public        Town  ...   23.684        7.033   \n",
       "309              Public        Town  ...   21.349        7.490   \n",
       "733              Public        Town  ...   22.810        6.168   \n",
       "\n",
       "      ed_spending_per_student avg_faculty_salary  pct_PELL  pct_fed_loan  \\\n",
       "586                    13.715              6.434     56.20         68.61   \n",
       "726                    11.902             10.436     22.99         36.51   \n",
       "416                    12.491             11.123     43.10         49.44   \n",
       "385                    24.748             12.616     11.38         20.86   \n",
       "924                     6.595              8.764     39.00         43.88   \n",
       "971                    10.111              7.371     47.59         48.80   \n",
       "1039                    4.039             15.777     44.17         45.41   \n",
       "177                     7.933              7.368     45.32         53.58   \n",
       "309                     9.010              6.535     31.15         40.71   \n",
       "733                    10.152              6.929     37.99         75.50   \n",
       "\n",
       "      grad_rate  pct_firstgen  med_fam_income  med_alum_earnings  \n",
       "586       37.87     35.061464         37.9740             41.739  \n",
       "726       69.32     31.369606         44.4500             56.619  \n",
       "416       51.89     37.602009         28.6055             46.679  \n",
       "385       93.91     15.295481         85.9295             67.122  \n",
       "924       48.14     41.578683         32.1240             49.724  \n",
       "971       44.87     30.090090         22.2000             40.782  \n",
       "1039      65.07     26.649329         67.7370             72.460  \n",
       "177       44.35     31.880519         36.5950             45.011  \n",
       "309       53.36     33.955740         46.0640             41.894  \n",
       "733       45.08     41.938775         41.7100             47.041  \n",
       "\n",
       "[10 rows x 26 columns]"
      ]
     },
     "execution_count": 36,
     "metadata": {},
     "output_type": "execute_result"
    }
   ],
   "source": [
    "## Run this code but do not edit it\n",
    "# create a data set to test the model with 10 new, randomly selected observations\n",
    "# not used to train the model\n",
    "test_four_year_col = four_year_col.sample(n=10, random_state=27)\n",
    "test_four_year_col"
   ]
  },
  {
   "cell_type": "markdown",
   "metadata": {
    "cell_id": "6962a4ae6c5d49f5ae85d90fac0c0acc",
    "deepnote_cell_type": "markdown",
    "tags": []
   },
   "source": [
    "<div class=\"alert alert-block alert-warning\">\n",
    "\n",
    "**3.1 -** Use the `head` command on the `test_four_year_col` data set.\n",
    "\n",
    "</div>"
   ]
  },
  {
   "cell_type": "code",
   "execution_count": null,
   "metadata": {
    "cell_id": "375237638165401e9074144879c8d024",
    "deepnote_cell_type": "code",
    "deepnote_to_be_reexecuted": true,
    "execution_millis": 607,
    "execution_start": 1709620367696,
    "output_cleared": false,
    "source_hash": null,
    "tags": []
   },
   "outputs": [
    {
     "data": {
      "application/vnd.microsoft.datawrangler.viewer.v0+json": {
       "columns": [
        {
         "name": "index",
         "rawType": "int64",
         "type": "integer"
        },
        {
         "name": "OPEID",
         "rawType": "int64",
         "type": "integer"
        },
        {
         "name": "name",
         "rawType": "object",
         "type": "string"
        },
        {
         "name": "city",
         "rawType": "object",
         "type": "string"
        },
        {
         "name": "state",
         "rawType": "object",
         "type": "string"
        },
        {
         "name": "region",
         "rawType": "object",
         "type": "string"
        },
        {
         "name": "median_debt",
         "rawType": "float64",
         "type": "float"
        },
        {
         "name": "default_rate",
         "rawType": "float64",
         "type": "float"
        },
        {
         "name": "highest_degree",
         "rawType": "object",
         "type": "string"
        },
        {
         "name": "ownership",
         "rawType": "object",
         "type": "string"
        },
        {
         "name": "locale",
         "rawType": "object",
         "type": "string"
        },
        {
         "name": "hbcu",
         "rawType": "object",
         "type": "string"
        },
        {
         "name": "admit_rate",
         "rawType": "float64",
         "type": "float"
        },
        {
         "name": "SAT_avg",
         "rawType": "int64",
         "type": "integer"
        },
        {
         "name": "online_only",
         "rawType": "object",
         "type": "string"
        },
        {
         "name": "enrollment",
         "rawType": "int64",
         "type": "integer"
        },
        {
         "name": "net_price",
         "rawType": "float64",
         "type": "float"
        },
        {
         "name": "avg_cost",
         "rawType": "float64",
         "type": "float"
        },
        {
         "name": "net_tuition",
         "rawType": "float64",
         "type": "float"
        },
        {
         "name": "ed_spending_per_student",
         "rawType": "float64",
         "type": "float"
        },
        {
         "name": "avg_faculty_salary",
         "rawType": "float64",
         "type": "float"
        },
        {
         "name": "pct_PELL",
         "rawType": "float64",
         "type": "float"
        },
        {
         "name": "pct_fed_loan",
         "rawType": "float64",
         "type": "float"
        },
        {
         "name": "grad_rate",
         "rawType": "float64",
         "type": "float"
        },
        {
         "name": "pct_firstgen",
         "rawType": "float64",
         "type": "float"
        },
        {
         "name": "med_fam_income",
         "rawType": "float64",
         "type": "float"
        },
        {
         "name": "med_alum_earnings",
         "rawType": "float64",
         "type": "float"
        }
       ],
       "conversionMethod": "pd.DataFrame",
       "ref": "0eac8f51-b81c-4e63-be87-63dcf247e3ca",
       "rows": [
        [
         "586",
         "285900",
         "SUNY Morrisville",
         "Morrisville",
         "NY",
         "Northeast",
         "12.0",
         "10.7",
         "Bachelors",
         "Public",
         "Rural",
         "No",
         "76.72",
         "973",
         "No",
         "2418",
         "18.436",
         "27.687",
         "4.913",
         "13.715",
         "6.434",
         "56.2",
         "68.61",
         "37.87",
         "35.0614645",
         "37.974",
         "41.739"
        ],
        [
         "726",
         "321000",
         "Oregon State University",
         "Corvallis",
         "OR",
         "Far West",
         "15.5",
         "2.8",
         "Graduate",
         "Public",
         "Small City",
         "No",
         "82.21",
         "1204",
         "No",
         "26048",
         "21.508",
         "27.595",
         "12.616",
         "11.902",
         "10.436",
         "22.99",
         "36.51",
         "69.32",
         "31.369606",
         "44.45",
         "56.619"
        ],
        [
         "416",
         "232900",
         "Wayne State University",
         "Detroit",
         "MI",
         "Midwest",
         "16.5",
         "5.1",
         "Graduate",
         "Public",
         "Large City",
         "No",
         "69.01",
         "1112",
         "No",
         "17164",
         "13.962",
         "24.541",
         "11.336",
         "12.491",
         "11.123",
         "43.1",
         "49.44",
         "51.89",
         "37.6020088",
         "28.6055",
         "46.679"
        ],
        [
         "385",
         "221900",
         "Tufts University",
         "Medford",
         "MA",
         "Northeast",
         "15.5",
         "1.1",
         "Graduate",
         "Private nonprofit",
         "Suburb",
         "No",
         "16.3",
         "1474",
         "No",
         "6053",
         "37.494",
         "76.151",
         "38.212",
         "24.748",
         "12.616",
         "11.38",
         "20.86",
         "93.91",
         "15.2954809",
         "85.9295",
         "67.122"
        ],
        [
         "924",
         "364600",
         "Texas Woman's University",
         "Denton",
         "TX",
         "Rockies & Southwest",
         "14.0",
         "5.1",
         "Graduate",
         "Public",
         "Small City",
         "No",
         "93.68",
         "1067",
         "No",
         "9297",
         "9.684",
         "19.418",
         "6.08",
         "6.595",
         "8.764",
         "39.0",
         "43.88",
         "48.14",
         "41.5786828",
         "32.124",
         "49.724"
        ]
       ],
       "shape": {
        "columns": 26,
        "rows": 5
       }
      },
      "text/html": [
       "<div>\n",
       "<style scoped>\n",
       "    .dataframe tbody tr th:only-of-type {\n",
       "        vertical-align: middle;\n",
       "    }\n",
       "\n",
       "    .dataframe tbody tr th {\n",
       "        vertical-align: top;\n",
       "    }\n",
       "\n",
       "    .dataframe thead th {\n",
       "        text-align: right;\n",
       "    }\n",
       "</style>\n",
       "<table border=\"1\" class=\"dataframe\">\n",
       "  <thead>\n",
       "    <tr style=\"text-align: right;\">\n",
       "      <th></th>\n",
       "      <th>OPEID</th>\n",
       "      <th>name</th>\n",
       "      <th>city</th>\n",
       "      <th>state</th>\n",
       "      <th>region</th>\n",
       "      <th>median_debt</th>\n",
       "      <th>default_rate</th>\n",
       "      <th>highest_degree</th>\n",
       "      <th>ownership</th>\n",
       "      <th>locale</th>\n",
       "      <th>...</th>\n",
       "      <th>avg_cost</th>\n",
       "      <th>net_tuition</th>\n",
       "      <th>ed_spending_per_student</th>\n",
       "      <th>avg_faculty_salary</th>\n",
       "      <th>pct_PELL</th>\n",
       "      <th>pct_fed_loan</th>\n",
       "      <th>grad_rate</th>\n",
       "      <th>pct_firstgen</th>\n",
       "      <th>med_fam_income</th>\n",
       "      <th>med_alum_earnings</th>\n",
       "    </tr>\n",
       "  </thead>\n",
       "  <tbody>\n",
       "    <tr>\n",
       "      <th>586</th>\n",
       "      <td>285900</td>\n",
       "      <td>SUNY Morrisville</td>\n",
       "      <td>Morrisville</td>\n",
       "      <td>NY</td>\n",
       "      <td>Northeast</td>\n",
       "      <td>12.0</td>\n",
       "      <td>10.7</td>\n",
       "      <td>Bachelors</td>\n",
       "      <td>Public</td>\n",
       "      <td>Rural</td>\n",
       "      <td>...</td>\n",
       "      <td>27.687</td>\n",
       "      <td>4.913</td>\n",
       "      <td>13.715</td>\n",
       "      <td>6.434</td>\n",
       "      <td>56.20</td>\n",
       "      <td>68.61</td>\n",
       "      <td>37.87</td>\n",
       "      <td>35.061464</td>\n",
       "      <td>37.9740</td>\n",
       "      <td>41.739</td>\n",
       "    </tr>\n",
       "    <tr>\n",
       "      <th>726</th>\n",
       "      <td>321000</td>\n",
       "      <td>Oregon State University</td>\n",
       "      <td>Corvallis</td>\n",
       "      <td>OR</td>\n",
       "      <td>Far West</td>\n",
       "      <td>15.5</td>\n",
       "      <td>2.8</td>\n",
       "      <td>Graduate</td>\n",
       "      <td>Public</td>\n",
       "      <td>Small City</td>\n",
       "      <td>...</td>\n",
       "      <td>27.595</td>\n",
       "      <td>12.616</td>\n",
       "      <td>11.902</td>\n",
       "      <td>10.436</td>\n",
       "      <td>22.99</td>\n",
       "      <td>36.51</td>\n",
       "      <td>69.32</td>\n",
       "      <td>31.369606</td>\n",
       "      <td>44.4500</td>\n",
       "      <td>56.619</td>\n",
       "    </tr>\n",
       "    <tr>\n",
       "      <th>416</th>\n",
       "      <td>232900</td>\n",
       "      <td>Wayne State University</td>\n",
       "      <td>Detroit</td>\n",
       "      <td>MI</td>\n",
       "      <td>Midwest</td>\n",
       "      <td>16.5</td>\n",
       "      <td>5.1</td>\n",
       "      <td>Graduate</td>\n",
       "      <td>Public</td>\n",
       "      <td>Large City</td>\n",
       "      <td>...</td>\n",
       "      <td>24.541</td>\n",
       "      <td>11.336</td>\n",
       "      <td>12.491</td>\n",
       "      <td>11.123</td>\n",
       "      <td>43.10</td>\n",
       "      <td>49.44</td>\n",
       "      <td>51.89</td>\n",
       "      <td>37.602009</td>\n",
       "      <td>28.6055</td>\n",
       "      <td>46.679</td>\n",
       "    </tr>\n",
       "    <tr>\n",
       "      <th>385</th>\n",
       "      <td>221900</td>\n",
       "      <td>Tufts University</td>\n",
       "      <td>Medford</td>\n",
       "      <td>MA</td>\n",
       "      <td>Northeast</td>\n",
       "      <td>15.5</td>\n",
       "      <td>1.1</td>\n",
       "      <td>Graduate</td>\n",
       "      <td>Private nonprofit</td>\n",
       "      <td>Suburb</td>\n",
       "      <td>...</td>\n",
       "      <td>76.151</td>\n",
       "      <td>38.212</td>\n",
       "      <td>24.748</td>\n",
       "      <td>12.616</td>\n",
       "      <td>11.38</td>\n",
       "      <td>20.86</td>\n",
       "      <td>93.91</td>\n",
       "      <td>15.295481</td>\n",
       "      <td>85.9295</td>\n",
       "      <td>67.122</td>\n",
       "    </tr>\n",
       "    <tr>\n",
       "      <th>924</th>\n",
       "      <td>364600</td>\n",
       "      <td>Texas Woman's University</td>\n",
       "      <td>Denton</td>\n",
       "      <td>TX</td>\n",
       "      <td>Rockies &amp; Southwest</td>\n",
       "      <td>14.0</td>\n",
       "      <td>5.1</td>\n",
       "      <td>Graduate</td>\n",
       "      <td>Public</td>\n",
       "      <td>Small City</td>\n",
       "      <td>...</td>\n",
       "      <td>19.418</td>\n",
       "      <td>6.080</td>\n",
       "      <td>6.595</td>\n",
       "      <td>8.764</td>\n",
       "      <td>39.00</td>\n",
       "      <td>43.88</td>\n",
       "      <td>48.14</td>\n",
       "      <td>41.578683</td>\n",
       "      <td>32.1240</td>\n",
       "      <td>49.724</td>\n",
       "    </tr>\n",
       "  </tbody>\n",
       "</table>\n",
       "<p>5 rows × 26 columns</p>\n",
       "</div>"
      ],
      "text/plain": [
       "      OPEID                      name         city state               region  \\\n",
       "586  285900          SUNY Morrisville  Morrisville    NY            Northeast   \n",
       "726  321000   Oregon State University    Corvallis    OR             Far West   \n",
       "416  232900    Wayne State University      Detroit    MI              Midwest   \n",
       "385  221900          Tufts University      Medford    MA            Northeast   \n",
       "924  364600  Texas Woman's University       Denton    TX  Rockies & Southwest   \n",
       "\n",
       "     median_debt  default_rate highest_degree          ownership      locale  \\\n",
       "586         12.0          10.7      Bachelors             Public       Rural   \n",
       "726         15.5           2.8       Graduate             Public  Small City   \n",
       "416         16.5           5.1       Graduate             Public  Large City   \n",
       "385         15.5           1.1       Graduate  Private nonprofit      Suburb   \n",
       "924         14.0           5.1       Graduate             Public  Small City   \n",
       "\n",
       "     ... avg_cost  net_tuition  ed_spending_per_student avg_faculty_salary  \\\n",
       "586  ...   27.687        4.913                   13.715              6.434   \n",
       "726  ...   27.595       12.616                   11.902             10.436   \n",
       "416  ...   24.541       11.336                   12.491             11.123   \n",
       "385  ...   76.151       38.212                   24.748             12.616   \n",
       "924  ...   19.418        6.080                    6.595              8.764   \n",
       "\n",
       "     pct_PELL  pct_fed_loan  grad_rate  pct_firstgen  med_fam_income  \\\n",
       "586     56.20         68.61      37.87     35.061464         37.9740   \n",
       "726     22.99         36.51      69.32     31.369606         44.4500   \n",
       "416     43.10         49.44      51.89     37.602009         28.6055   \n",
       "385     11.38         20.86      93.91     15.295481         85.9295   \n",
       "924     39.00         43.88      48.14     41.578683         32.1240   \n",
       "\n",
       "     med_alum_earnings  \n",
       "586             41.739  \n",
       "726             56.619  \n",
       "416             46.679  \n",
       "385             67.122  \n",
       "924             49.724  \n",
       "\n",
       "[5 rows x 26 columns]"
      ]
     },
     "execution_count": 37,
     "metadata": {},
     "output_type": "execute_result"
    }
   ],
   "source": [
    "# Your code goes here\n",
    "..."
   ]
  },
  {
   "cell_type": "markdown",
   "metadata": {
    "cell_id": "24a68d1938054d23bdd842d0baf33606",
    "deepnote_cell_type": "markdown",
    "tags": []
   },
   "source": [
    "The following code visualizes the new test data alongside the training data (the data we used to originally fit our models)."
   ]
  },
  {
   "cell_type": "code",
   "execution_count": 38,
   "metadata": {
    "cell_id": "0803cba4d7804dacac3b715331c575a8",
    "deepnote_cell_type": "code",
    "deepnote_to_be_reexecuted": true,
    "execution_millis": 602,
    "execution_start": 1709620367701,
    "output_cleared": false,
    "source_hash": null,
    "tags": []
   },
   "outputs": [
    {
     "data": {
      "image/png": "[encoded data removed]",
      "text/plain": [
       "<Figure size 640x480 with 1 Axes>"
      ]
     },
     "metadata": {},
     "output_type": "display_data"
    }
   ],
   "source": [
    "## Run this code but do not edit it\n",
    "# label train and test sets\n",
    "sample_four_year_col['phase'] = 'train'\n",
    "test_four_year_col['phase'] = 'test'\n",
    "\n",
    "# Concatenate the two datasets\n",
    "test_and_sample_four_year_col = pd.concat([sample_four_year_col, test_four_year_col], ignore_index=True)\n",
    "\n",
    "# Create scatterplot: default_rate ~ SAT_avg, colored and shaped by phase\n",
    "sns.scatterplot(\n",
    "    x='SAT_avg', \n",
    "    y='default_rate', \n",
    "    hue='phase',  # Color points by phase\n",
    "    style='phase',  # Shape points by phase\n",
    "    data=test_and_sample_four_year_col, \n",
    "    alpha=0.7  # Adjust transparency\n",
    ")\n",
    "\n",
    "# Add title and labels\n",
    "plt.title('Scatterplot: Default Rate vs SAT_avg (Colored and Shaped by Phase)')\n",
    "plt.xlabel('SAT_avg')\n",
    "plt.ylabel('Default Rate')\n",
    "plt.show()"
   ]
  },
  {
   "cell_type": "markdown",
   "metadata": {
    "cell_id": "ba432a31e89844569e54df13d9fb6ed8",
    "deepnote_cell_type": "markdown",
    "tags": []
   },
   "source": [
    "<div class=\"alert alert-block alert-warning\">\n",
    "\n",
    "**3.2 -** Of all the polynomial models we fit before, which do you think would do best in predicting the default rates in the test dataset? \n",
    "\n",
    "**Note:** Use your gut and intution here. No calculations required.\n",
    "\n",
    "</div>"
   ]
  },
  {
   "cell_type": "markdown",
   "metadata": {
    "cell_id": "7d57e36e60c74cecb1615661340323be",
    "deepnote_cell_type": "markdown",
    "tags": []
   },
   "source": [
    "**Double-click this cell to type your answer here:** ..."
   ]
  },
  {
   "cell_type": "markdown",
   "metadata": {
    "cell_id": "4679da4a4f934aac88596bdebff92fc6",
    "deepnote_cell_type": "markdown",
    "tags": []
   },
   "source": [
    "Let's see how good one of our models is at predicting default rates. The `statsmodel` package in the next cell uses the `predict` function to make predictions on the test dataset. In this case, output shows the predicted default rates for the 10 test set colleges, as predicted by our degree 5 model."
   ]
  },
  {
   "cell_type": "code",
   "execution_count": 47,
   "metadata": {
    "cell_id": "c1713cfb7d8b4546b0db1131f66998e1",
    "deepnote_cell_type": "code",
    "deepnote_to_be_reexecuted": true,
    "execution_millis": 493,
    "execution_start": 1709620368006,
    "output_cleared": false,
    "source_hash": null,
    "tags": []
   },
   "outputs": [
    {
     "data": {
      "application/vnd.microsoft.datawrangler.viewer.v0+json": {
       "columns": [
        {
         "name": "index",
         "rawType": "int64",
         "type": "integer"
        },
        {
         "name": "name",
         "rawType": "object",
         "type": "string"
        },
        {
         "name": "SAT Avg",
         "rawType": "int64",
         "type": "integer"
        },
        {
         "name": "Actual Default Rate",
         "rawType": "float64",
         "type": "float"
        },
        {
         "name": "Predicted Degree 5 Default Rate",
         "rawType": "float64",
         "type": "float"
        }
       ],
       "conversionMethod": "pd.DataFrame",
       "ref": "23210b54-11f2-4e27-ab14-00fb347222e0",
       "rows": [
        [
         "586",
         "SUNY Morrisville",
         "973",
         "10.7",
         "10.717051787102264"
        ],
        [
         "726",
         "Oregon State University",
         "1204",
         "2.8",
         "2.3670447565741597"
        ],
        [
         "416",
         "Wayne State University",
         "1112",
         "5.1",
         "3.8437061146851192"
        ],
        [
         "385",
         "Tufts University",
         "1474",
         "1.1",
         "-2.4026426242753587"
        ],
        [
         "924",
         "Texas Woman's University",
         "1067",
         "5.1",
         "5.444373799147797"
        ],
        [
         "971",
         "The Evergreen State College",
         "1076",
         "6.5",
         "5.074839623981006"
        ],
        [
         "1039",
         "University of Connecticut-Waterbury Campus",
         "1062",
         "2.0",
         "5.660332868642854"
        ],
        [
         "177",
         "University of West Georgia",
         "1012",
         "7.4",
         "8.229357376904773"
        ],
        [
         "309",
         "Murray State University",
         "1179",
         "6.0",
         "2.556105329916136"
        ],
        [
         "733",
         "Western Oregon University",
         "1055",
         "5.1",
         "5.975412608004262"
        ]
       ],
       "shape": {
        "columns": 4,
        "rows": 10
       }
      },
      "text/html": [
       "<div>\n",
       "<style scoped>\n",
       "    .dataframe tbody tr th:only-of-type {\n",
       "        vertical-align: middle;\n",
       "    }\n",
       "\n",
       "    .dataframe tbody tr th {\n",
       "        vertical-align: top;\n",
       "    }\n",
       "\n",
       "    .dataframe thead th {\n",
       "        text-align: right;\n",
       "    }\n",
       "</style>\n",
       "<table border=\"1\" class=\"dataframe\">\n",
       "  <thead>\n",
       "    <tr style=\"text-align: right;\">\n",
       "      <th></th>\n",
       "      <th>name</th>\n",
       "      <th>SAT Avg</th>\n",
       "      <th>Actual Default Rate</th>\n",
       "      <th>Predicted Degree 5 Default Rate</th>\n",
       "    </tr>\n",
       "  </thead>\n",
       "  <tbody>\n",
       "    <tr>\n",
       "      <th>586</th>\n",
       "      <td>SUNY Morrisville</td>\n",
       "      <td>973</td>\n",
       "      <td>10.7</td>\n",
       "      <td>10.717052</td>\n",
       "    </tr>\n",
       "    <tr>\n",
       "      <th>726</th>\n",
       "      <td>Oregon State University</td>\n",
       "      <td>1204</td>\n",
       "      <td>2.8</td>\n",
       "      <td>2.367045</td>\n",
       "    </tr>\n",
       "    <tr>\n",
       "      <th>416</th>\n",
       "      <td>Wayne State University</td>\n",
       "      <td>1112</td>\n",
       "      <td>5.1</td>\n",
       "      <td>3.843706</td>\n",
       "    </tr>\n",
       "    <tr>\n",
       "      <th>385</th>\n",
       "      <td>Tufts University</td>\n",
       "      <td>1474</td>\n",
       "      <td>1.1</td>\n",
       "      <td>-2.402643</td>\n",
       "    </tr>\n",
       "    <tr>\n",
       "      <th>924</th>\n",
       "      <td>Texas Woman's University</td>\n",
       "      <td>1067</td>\n",
       "      <td>5.1</td>\n",
       "      <td>5.444374</td>\n",
       "    </tr>\n",
       "    <tr>\n",
       "      <th>971</th>\n",
       "      <td>The Evergreen State College</td>\n",
       "      <td>1076</td>\n",
       "      <td>6.5</td>\n",
       "      <td>5.074840</td>\n",
       "    </tr>\n",
       "    <tr>\n",
       "      <th>1039</th>\n",
       "      <td>University of Connecticut-Waterbury Campus</td>\n",
       "      <td>1062</td>\n",
       "      <td>2.0</td>\n",
       "      <td>5.660333</td>\n",
       "    </tr>\n",
       "    <tr>\n",
       "      <th>177</th>\n",
       "      <td>University of West Georgia</td>\n",
       "      <td>1012</td>\n",
       "      <td>7.4</td>\n",
       "      <td>8.229357</td>\n",
       "    </tr>\n",
       "    <tr>\n",
       "      <th>309</th>\n",
       "      <td>Murray State University</td>\n",
       "      <td>1179</td>\n",
       "      <td>6.0</td>\n",
       "      <td>2.556105</td>\n",
       "    </tr>\n",
       "    <tr>\n",
       "      <th>733</th>\n",
       "      <td>Western Oregon University</td>\n",
       "      <td>1055</td>\n",
       "      <td>5.1</td>\n",
       "      <td>5.975413</td>\n",
       "    </tr>\n",
       "  </tbody>\n",
       "</table>\n",
       "</div>"
      ],
      "text/plain": [
       "                                            name  SAT Avg  \\\n",
       "586                             SUNY Morrisville      973   \n",
       "726                      Oregon State University     1204   \n",
       "416                       Wayne State University     1112   \n",
       "385                             Tufts University     1474   \n",
       "924                     Texas Woman's University     1067   \n",
       "971                  The Evergreen State College     1076   \n",
       "1039  University of Connecticut-Waterbury Campus     1062   \n",
       "177                   University of West Georgia     1012   \n",
       "309                      Murray State University     1179   \n",
       "733                    Western Oregon University     1055   \n",
       "\n",
       "      Actual Default Rate  Predicted Degree 5 Default Rate  \n",
       "586                  10.7                        10.717052  \n",
       "726                   2.8                         2.367045  \n",
       "416                   5.1                         3.843706  \n",
       "385                   1.1                        -2.402643  \n",
       "924                   5.1                         5.444374  \n",
       "971                   6.5                         5.074840  \n",
       "1039                  2.0                         5.660333  \n",
       "177                   7.4                         8.229357  \n",
       "309                   6.0                         2.556105  \n",
       "733                   5.1                         5.975413  "
      ]
     },
     "execution_count": 47,
     "metadata": {},
     "output_type": "execute_result"
    }
   ],
   "source": [
    "## Run this code but do not edit it\n",
    "# get predictions for degree 5 model\n",
    "\n",
    "# Create a DataFrame with the SAT_avg values from the test dataset\n",
    "new_data = pd.DataFrame({'SAT_avg': test_four_year_col['SAT_avg']})\n",
    "\n",
    "# Add polynomial terms for degree 5\n",
    "for degree in range(1, 6):\n",
    "    new_data[f'SAT_avg_{degree}'] = new_data['SAT_avg'] ** degree\n",
    "\n",
    "# Make predictions using the degree-5 model\n",
    "pred_deg5 = models[5].predict(new_data)\n",
    "\n",
    "# Display the predictions with name column\n",
    "pred_deg5_with_name = pd.DataFrame({\n",
    "    'name': test_four_year_col['name'],\n",
    "    'SAT Avg': test_four_year_col['SAT_avg'],\n",
    "    'Actual Default Rate': test_four_year_col['default_rate'],\n",
    "    'Predicted Degree 5 Default Rate': pred_deg5\n",
    "})\n",
    "pred_deg5_with_name"
   ]
  },
  {
   "cell_type": "markdown",
   "metadata": {
    "cell_id": "a776605997eb4f5ebeb4d291581beae8",
    "deepnote_cell_type": "markdown",
    "tags": []
   },
   "source": [
    "So, how can we interpret these values? Well, the last college in our test set is `Wayne State University`, which has an `SAT_avg` value of `1112` and an actual `default_rate` of `5.1`. It's shown here on the graph, alongside our degree 5 model. \n"
   ]
  },
  {
   "cell_type": "code",
   "execution_count": 46,
   "metadata": {
    "cell_id": "84d764a2731b4b4ea963efafc8c05777",
    "deepnote_cell_type": "code",
    "deepnote_to_be_reexecuted": true,
    "execution_millis": 492,
    "execution_start": 1709620368007,
    "output_cleared": false,
    "source_hash": null,
    "tags": []
   },
   "outputs": [
    {
     "data": {
      "image/png": "[encoded data removed]",
      "text/plain": [
       "<Figure size 500x500 with 1 Axes>"
      ]
     },
     "metadata": {},
     "output_type": "display_data"
    }
   ],
   "source": [
    "### Run this code but do not edit it\n",
    "## create scatterplot: default_rate ~ SAT_avg, with degree 5 polynomial model overlayed\n",
    "# Scatterplot: default_rate ~ SAT_avg, colored and shaped by phase\n",
    "# Fit and overlay a degree-5 polynomial regression line\n",
    "# NOTE: We needed to plot the regression line with lmplot() as we did earlier but \n",
    "# did not include the scatter plot because we wanted to depict the train and test\n",
    "# data with different style markers -- lmplot does not support this!\n",
    "\n",
    "# Create scatterplot with degree-5 polynomial regression line\n",
    "sns.lmplot(\n",
    "    x='SAT_avg', \n",
    "    y='default_rate', \n",
    "    data=test_and_sample_four_year_col, \n",
    "    order=5,  # Fit a degree-5 polynomial\n",
    "    line_kws={'color': 'orange'},  # Set the regression line color\n",
    "    legend=False,  # Avoid duplicate legends\n",
    "    scatter=False\n",
    ")\n",
    "\n",
    "# Add scatterplot styling (color and shape by phase)\n",
    "sns.scatterplot(\n",
    "    x='SAT_avg', \n",
    "    y='default_rate', \n",
    "    hue='phase', \n",
    "    style='phase', \n",
    "    data=test_and_sample_four_year_col, \n",
    "    alpha=0.7, \n",
    "    legend=True  # Avoid duplicate legends\n",
    ")\n",
    "\n",
    "# Customize the plot\n",
    "plt.ylim(0, 14)\n",
    "plt.title('Scatterplot with Degree 5 Polynomial Model')\n",
    "plt.xlabel('SAT_avg')\n",
    "plt.ylabel('Default Rate')\n",
    "plt.legend(title='Phase')\n",
    "\n",
    "# Show the plot\n",
    "plt.show()"
   ]
  },
  {
   "cell_type": "markdown",
   "metadata": {
    "cell_id": "39d80767c3d74f24b20dd311738fbfb9",
    "deepnote_cell_type": "markdown",
    "tags": []
   },
   "source": [
    "Our degree 5 model's predicted default rate for this data point was `3.84`.  That means that our degree 5 model under-estimates the actual value for default rate by...\n",
    "\n",
    "$$\n",
    "5.1-3.84 = 1.26\n",
    "$$\n",
    "\n",
    "The model's prediction and error is visualized in the plot below:"
   ]
  },
  {
   "cell_type": "markdown",
   "metadata": {
    "cell_id": "ee662dc18b9a44faa2b418c83831e73f",
    "deepnote_cell_type": "markdown",
    "tags": []
   },
   "source": [
    "<img src=\"https://ds-modules.github.io/ds-challenge-assets/wayne-error.png\" width = \"55%\" height = \"55%\" align = left>"
   ]
  },
  {
   "cell_type": "markdown",
   "metadata": {
    "cell_id": "a3e53e8052dd448e8eba7b8ffa1f646f",
    "deepnote_cell_type": "markdown",
    "tags": []
   },
   "source": [
    "\n",
    "So, its predicted default rate is \"off\" by about 1 percentage point! This is pretty amazing, considering the model had only 20 training data values and the `Wayne State University` wasn't included among them. This is the power of machine learning! Predicting previously *unseen* data!\n",
    "\n",
    "This is just one prediction. We're really interested in how this model performed across all its predictions. For that, let's measure its $R^2$ (prediciton strength) on the test set!\n",
    "\n",
    "We can use the `cor` function to correlate the predictions with the actual default rates ($r$) and then square that value to get $R^2$, which gets us the prediction strength!"
   ]
  },
  {
   "cell_type": "code",
   "execution_count": 41,
   "metadata": {
    "cell_id": "c86c19903c1f442caed369d1d06fa7cf",
    "deepnote_cell_type": "code",
    "deepnote_to_be_reexecuted": true,
    "execution_millis": 483,
    "execution_start": 1709620368017,
    "output_cleared": false,
    "source_hash": null,
    "tags": []
   },
   "outputs": [
    {
     "name": "stdout",
     "output_type": "stream",
     "text": [
      "R-squared: 0.6374432120023875\n"
     ]
    }
   ],
   "source": [
    "## Run this code but do not edit it\n",
    "# Calculate the correlation between actual and predicted default rates\n",
    "correlation = np.corrcoef(test_four_year_col['default_rate'], pred_deg5)[0, 1]\n",
    "\n",
    "# Square the correlation to get R-squared\n",
    "r_squared = correlation ** 2\n",
    "\n",
    "# Print the result\n",
    "print(f\"R-squared: {r_squared}\")"
   ]
  },
  {
   "cell_type": "markdown",
   "metadata": {
    "cell_id": "fbbbed355aa544139eec8e8e81a9a33b",
    "deepnote_cell_type": "markdown",
    "tags": []
   },
   "source": [
    "We can now repeat this same process for all polynomial degrees."
   ]
  },
  {
   "cell_type": "code",
   "execution_count": 42,
   "metadata": {
    "cell_id": "e8d15a62b7554ddd81b4637198039d36",
    "deepnote_cell_type": "code",
    "deepnote_to_be_reexecuted": true,
    "execution_millis": 463,
    "execution_start": 1709620368037,
    "output_cleared": false,
    "source_hash": null,
    "tags": []
   },
   "outputs": [
    {
     "name": "stdout",
     "output_type": "stream",
     "text": [
      "Degree-1 Polynomial R-squared: 0.4943008883486531\n",
      "Degree-2 Polynomial R-squared: 0.48189093450539466\n",
      "Degree-3 Polynomial R-squared: 0.681519695860946\n",
      "Degree-4 Polynomial R-squared: 0.6617462573737412\n",
      "Degree-5 Polynomial R-squared: 0.6374432120023875\n",
      "Degree-6 Polynomial R-squared: 0.26247307046114154\n",
      "Degree-7 Polynomial R-squared: 0.26248909251808406\n",
      "Degree-8 Polynomial R-squared: 0.2623089116314324\n",
      "Degree-9 Polynomial R-squared: 0.26236338220567645\n",
      "Degree-10 Polynomial R-squared: 0.2624155188778881\n",
      "Degree-11 Polynomial R-squared: 0.2624031604062709\n",
      "Degree-12 Polynomial R-squared: 0.2623178327058065\n"
     ]
    }
   ],
   "source": [
    "## Run this code but do not edit it\n",
    "# Storing test set predictions for all models\n",
    "# Create a DataFrame with the SAT_avg values from the test dataset\n",
    "new_data = pd.DataFrame({'SAT_avg': test_four_year_col['SAT_avg']})\n",
    "\n",
    "# Add polynomial terms for degree 5 (if not already added)\n",
    "for degree in range(1, 13):\n",
    "    new_data[f'SAT_avg_{degree}'] = new_data['SAT_avg'] ** degree\n",
    "    pred_deg = models[degree].predict(new_data)\n",
    "    print(f\"Degree-{degree} Polynomial R-squared: {np.corrcoef(test_four_year_col['default_rate'], pred_deg)[0, 1] ** 2}\")\n"
   ]
  },
  {
   "cell_type": "markdown",
   "metadata": {
    "cell_id": "eec2b37ba07e4138a8abdcb02e8dcdc2",
    "deepnote_cell_type": "markdown"
   },
   "source": [
    "<div class=\"alert alert-block alert-info\">\n",
    "\n",
    "**Check yourself:** The $R^2$ for the degree 5 model should be about 0.637 </div>"
   ]
  },
  {
   "cell_type": "markdown",
   "metadata": {
    "cell_id": "c982a35d3eca4cb7997246ffd6063eaa",
    "deepnote_cell_type": "markdown",
    "tags": []
   },
   "source": [
    "<div class=\"alert alert-block alert-warning\">\n",
    "\n",
    "**3.3 -** Compare the $R^2$ estimates for each model. Which models did well? Which models did poorly? Why do you think this is?\n",
    "\n",
    "</div>"
   ]
  },
  {
   "cell_type": "markdown",
   "metadata": {
    "cell_id": "ff2ab434f903400a885eb07535e1e178",
    "deepnote_cell_type": "markdown",
    "tags": []
   },
   "source": [
    "**Double-click this cell to type your answer here:** ..."
   ]
  },
  {
   "cell_type": "markdown",
   "metadata": {
    "cell_id": "2773763556924d6fbc3cb9aa72944c9e",
    "deepnote_cell_type": "markdown",
    "tags": []
   },
   "source": [
    "<div class=\"alert alert-block alert-warning\">\n",
    "\n",
    "**3.4 -** In machine learning, the central goal is to build our models so as to avoid \"underfitting\" and \"overfitting\" our models to the training data. What do you think these terms mean? Which of our models were underfit? Which do you think were overfit? Explain.\n",
    "\n",
    "</div>"
   ]
  },
  {
   "cell_type": "markdown",
   "metadata": {
    "cell_id": "5a387467610247d7884c0c71ba3d929e",
    "deepnote_cell_type": "markdown",
    "tags": []
   },
   "source": [
    "**Double-click this cell to type your answer here:** ..."
   ]
  },
  {
   "cell_type": "markdown",
   "metadata": {
    "cell_id": "ed60b10e1eff40c28d5fd9ff2a7a633e",
    "deepnote_cell_type": "markdown",
    "tags": []
   },
   "source": [
    "Recall that we built our polynomial models here with just one predictor: $x$ (`SAT_avg`). Yet, those models could end up being quite complex...\n",
    "\n",
    "$$\n",
    "\\hat{y} = \\beta_{0} + \\beta_{1}x + \\beta_{2}x^2 + \\beta_{3}x^3\n",
    "$$\n",
    "\n",
    "Now, imagine that we wanted to bring in multiple predictors ($x_1$ = `SAT_avg`, $x_2$ = `net_tuition`, $x_3$ = `grad_rate`) for muliple regression. Plus, imagine that we decided to add in some polynomial terms for each of these predictors. We could end up with a model that looks ever more complicated, with literally hundreds of terms...\n",
    "\n",
    "$$\n",
    "\\hat{y} = \\beta_{0} + \\beta_{1}x_1 + \\beta_{2}x_1^2 + \\beta_{3}x_1^3 + \\beta_{4}x_2 + \\beta_{5}x_2^2 + \\beta_{5}x_2^3 + \\beta_{6}x_3 + \\beta_{7}x_3^2 + ...\n",
    "$$"
   ]
  },
  {
   "cell_type": "markdown",
   "metadata": {
    "cell_id": "a6fb376958cf46fe8984f1d0d1e56737",
    "deepnote_cell_type": "markdown",
    "tags": []
   },
   "source": [
    "<div class=\"alert alert-block alert-warning\">\n",
    "\n",
    "**3.5 -** Is it always good to add more predictors and add more polynomial terms to your model? Explain why or why not.\n",
    "\n",
    "</div>"
   ]
  },
  {
   "cell_type": "markdown",
   "metadata": {
    "cell_id": "e13e4db39eb14b7aaf55c75c82444ec7",
    "deepnote_cell_type": "markdown",
    "tags": []
   },
   "source": [
    "**Double-click this cell to type your answer here:** ..."
   ]
  },
  {
   "cell_type": "markdown",
   "metadata": {
    "cell_id": "147f3f1a6d4a431ca82ee5024f9d42ce",
    "deepnote_cell_type": "markdown",
    "tags": []
   },
   "source": [
    "### 4.0 - In-class prediction competition"
   ]
  },
  {
   "cell_type": "markdown",
   "metadata": {
    "cell_id": "3371c0333c6645bea0cd089537b7c4e9",
    "deepnote_cell_type": "markdown",
    "tags": []
   },
   "source": [
    "Now you have all the tools you need to build very powerful prediction models! This means that it's time for a friendly competition :)\n",
    "\n",
    "The code below takes the full dataset and splits it into larger train and test datasets. 80% of the colleges will go into the train dataset. 20% will go into the test dataset. Because we all are setting the same seed (`2025`), everyone will get the exact same train and test sets:"
   ]
  },
  {
   "cell_type": "code",
   "execution_count": 300,
   "metadata": {
    "cell_id": "aeda301742024761b632379a31f9c30c",
    "deepnote_cell_type": "code",
    "deepnote_to_be_reexecuted": true,
    "execution_millis": 409,
    "execution_start": 1709620368091,
    "output_cleared": false,
    "source_hash": null,
    "tags": []
   },
   "outputs": [],
   "source": [
    "## Run but do not edit this code\n",
    "\n",
    "np.random.seed(2025)\n",
    "\n",
    "# Calculate the training data size (80% of the dataset)\n",
    "train_size = int(0.8 * len(four_year_col))\n",
    "\n",
    "# Sample row indices for the training set\n",
    "train_ind = np.random.choice(four_year_col.index, size=train_size, replace=False)\n",
    "\n",
    "# Split the dataset into training and testing sets\n",
    "train = four_year_col.loc[train_ind]  # Training set\n",
    "test = four_year_col.drop(train_ind)  # Testing set"
   ]
  },
  {
   "cell_type": "code",
   "execution_count": 301,
   "metadata": {
    "cell_id": "65b4097231c24bd2afe823dd66877ef1",
    "deepnote_cell_type": "code",
    "deepnote_to_be_reexecuted": true,
    "execution_millis": 409,
    "execution_start": 1709620368092,
    "output_cleared": false,
    "source_hash": null,
    "tags": []
   },
   "outputs": [
    {
     "data": {
      "text/plain": [
       "(842, 26)"
      ]
     },
     "execution_count": 301,
     "metadata": {},
     "output_type": "execute_result"
    }
   ],
   "source": [
    "train.shape"
   ]
  },
  {
   "cell_type": "code",
   "execution_count": 302,
   "metadata": {
    "cell_id": "2c8597f0b5604956941d9fb7a77b750c",
    "deepnote_cell_type": "code",
    "deepnote_to_be_reexecuted": true,
    "execution_millis": 365,
    "execution_start": 1709620368136,
    "output_cleared": false,
    "source_hash": null,
    "tags": []
   },
   "outputs": [
    {
     "data": {
      "text/plain": [
       "(211, 26)"
      ]
     },
     "execution_count": 302,
     "metadata": {},
     "output_type": "execute_result"
    }
   ],
   "source": [
    "test.shape"
   ]
  },
  {
   "cell_type": "markdown",
   "metadata": {
    "cell_id": "e2ca106d4477481c9ae72f20d4a95477",
    "deepnote_cell_type": "markdown",
    "tags": []
   },
   "source": [
    "Now it's time to compete! \n",
    "\n",
    "**Goal:** Create the most accurate prediction model of colleges' default rates.\n",
    "\n",
    "**Evaluation:** Whichever student has the highest $R^2$ on the test set wins.\n",
    "\n",
    "**Guidelines** Save your best model as an object called `my_model`. You are only allowed to fit models on the train set (not on the test set). You may use as many predictors and as many polynomial terms as you'd like. Just be warned: Don't fall into the trap of overfitting! Choose only the most important variables and keep your models simple, so that you can generalize well to the test set. Periodically test your model on the test set and then make adjustments as necessary. \n",
    "\n",
    "Go!"
   ]
  },
  {
   "cell_type": "code",
   "execution_count": null,
   "metadata": {
    "cell_id": "e144d19283c64407a73710022c4c762f",
    "deepnote_cell_type": "code",
    "deepnote_to_be_reexecuted": true,
    "execution_millis": 365,
    "execution_start": 1709620368136,
    "output_cleared": false,
    "source_hash": null,
    "tags": []
   },
   "outputs": [
    {
     "name": "stdout",
     "output_type": "stream",
     "text": [
      "Degree-3 Polynomial R-squared: 0.6010955853979743\n"
     ]
    }
   ],
   "source": [
    "## Your code goes here\n",
    "# Replace 'grad_rate + np.power(SAT_avg, 2) + np.power(SAT_avg, 3)' with your own combo of variables and poly terms\n",
    "...\n"
   ]
  },
  {
   "cell_type": "code",
   "execution_count": 304,
   "metadata": {
    "cell_id": "5c1966b28df24f2abfd051c4ba4b628b",
    "deepnote_cell_type": "code",
    "deepnote_to_be_reexecuted": true,
    "execution_millis": 365,
    "execution_start": 1709620368137,
    "output_cleared": false,
    "source_hash": null,
    "tags": []
   },
   "outputs": [
    {
     "name": "stdout",
     "output_type": "stream",
     "text": [
      "The test R^2 value was: 0.5773339114115961\n"
     ]
    }
   ],
   "source": [
    "# run this code to get the R^2 value on the test set from your model\n",
    "test_predictions = my_model.predict(test)\n",
    "\n",
    "# Calculate the R^2 value on the test set\n",
    "correlation = np.corrcoef(test['default_rate'], test_predictions)[0, 1]\n",
    "r_squared = correlation ** 2\n",
    "print(f\"The test R^2 value was: {r_squared}\")"
   ]
  },
  {
   "cell_type": "markdown",
   "metadata": {
    "cell_id": "0c676be24a0a43469b30882f86a21b25",
    "deepnote_cell_type": "markdown",
    "tags": []
   },
   "source": [
    "<div class=\"alert alert-block alert-info\">\n",
    "\n",
    "<b>Instructor Note:</b> Students may wonder how they can prevent overfitting. There is no 100% guaranteed way to prevent overfitting. However, a sign of overfitting may be the $R^2$ value decreasing on the test data as the model increases in complexity. \n",
    "\n",
    "</div>"
   ]
  },
  {
   "cell_type": "markdown",
   "metadata": {
    "cell_id": "f66069d0bfbf4b0694db4b26c3905143",
    "deepnote_cell_type": "markdown",
    "tags": []
   },
   "source": [
    "### 5.0 - NATIONWIDE prediction competition\n",
    "\n",
    "**Competition:** We're hosting a *nationwide* competition to see which student can build the best model for predicting student loan default rates at different colleges. Here's an <a href = \"https://medium.com/@ds4e/second-year-surge-after-the-ap-data-science-challenge-captivates-9000-students-94772bad9789\">article</a> about last year's winners.\n",
    "\n",
    "**Evaluation**: Across the country, all students are using the same train and test sets as you did in the prior exercise to fit and evaluate their models. Your goal: Build a model that gives the best predictions on this test set. The student models that produce the highest $R^2$ value on the test set will be announced as champions! Note: this year's train and test sets are different from prior years, so replicating a prior winning model won't be a winning strategy.\n",
    "\n",
    "**Submission Process (due by June 6, 2025 at 11:59pm CT)**:\n",
    " 1. Print and have a parent/guardian sign the <a href = \"https://drive.google.com/file/d/1JPOiYNJLtUM3QZQKlU0qhN0nSN3AZfJL/view?usp=sharing\">media release form</a>. This form gives permission to feature you and publish your results, in the event that you're a finalist! Take a picture or scan the signed form and submit it during as a part of Step #2 (below).\n",
    " 2. Submit <a href = \"https://forms.gle/cSmFbv3djion2dDP8\">this google form</a> (note: you'll have to log into a google account), which allows you to upload your media release form, model, and notebook. This counts as your final submission.\n",
    "\n",
    "**Rules and notes to avoid disqualification:**\n",
    " - Do not change the seed (`2025`) in the code block that splits the data into the train and test sets. Using the common seed of `2025` will ensure everyone across the country has the exact same train/test split. \n",
    " - Make sure your model is fit using the `train` data. In other words, it should look like: `my_model <- lm(default_rate ~ ..., data = train)`.\n",
    " - Your model must be fit using the `lm` command. Models outside the scope of the concepts covered in this project (e.g random forest, neural networks, etc) are not allowed. \n",
    " - Your model must predict `default_rate` directly. Applying transformations (e.g., log, square root, scaling) to the outcome variable before modeling is not allowed. All submissions must use `default_rate` as provided in the dataset.\n",
    " - Transformations of predictors are allowed. You may apply transformations (e.g., log, standardization, polynomial terms, interaction terms) to the predictor variables to improve your model.\n",
    " - Make sure you find the $R^2$ value on the `test$default_rate` data, using the provided code.\n",
    " - Only individual submissions are allowed. Group submissions will not be accepted, and each participant must submit their own work. Note: Students can still share ideas and strategies with one another, but all final submissions must be an individual student's own work.\n",
    " - There are ways to \"cheat\" on this competition by looking directly at the test set data values and designing your model to predict those values exactly (or approximately). However, based on the design of your model (which we'll see when you share your notebook), it's pretty easy for us to tell if you've done this. So, don't do it! Your submission will be discarded.\n",
    " - Use online resources responsibly. We acknowledge that data science solutions, including similar problems and code, are publicly available online. You are encouraged to learn from these resources, but your submission must be your own work. Directly copying code or solutions without understanding and adapting them will result in disqualification."
   ]
  },
  {
   "cell_type": "markdown",
   "metadata": {
    "cell_id": "42cc4b5c424e486184af14f7338dac88",
    "deepnote_cell_type": "markdown"
   },
   "source": [
    "<div class=\"alert alert-block alert-success\">\n",
    "\n",
    "\n",
    "### Summer Opportunity: Do you want to learn more about Data Science & AI?\n",
    "Join our Data Science & AI Summer Bootcamp, where you'll take your learning from this project to the next level. **No prior coding or statistics experience required!** Designed by Harvard grads, the bootcamp allows students from all experience levels to dive deeper into data science concepts, from the basics (e.g. linear regression) to the advanced (e.g. AI neural networks). Students learn in a supportive and collaborative environment, and they walk away with their own real-world project that can be shared on college and internship applications.\n",
    "\n",
    "📢 Scholarships are available! We’re committed to making this opportunity accessible to all students.\n",
    "\n",
    "📝 Applications are considered on a rolling basis. Final application deadline: **May 30, 2025**\n",
    "\n",
    "🔗 Learn more and apply here: https://skewthescript.org/bootcamps\n",
    "</div>"
   ]
  },
  {
   "cell_type": "markdown",
   "metadata": {
    "created_in_deepnote_cell": true,
    "deepnote_cell_type": "markdown"
   },
   "source": [
    "<a style='text-decoration:none;line-height:16px;display:flex;color:#5B5B62;padding:10px;justify-content:end;' href='https://deepnote.com?utm_source=created-in-deepnote-cell&projectId=8f82fdea-532b-4a4b-9937-108d7206dda5' target=\"_blank\">\n",
    "<img alt='Created in deepnote.com' style='display:inline;max-height:16px;margin:0px;margin-right:7.5px;' src='data:image/svg+xml;base64,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' > </img>\n",
    "Created in <span style='font-weight:600;margin-left:4px;'>Deepnote</span></a>"
   ]
  }
 ],
 "metadata": {
  "deepnote_notebook_id": "4dbf81f057ea4f9dbf20cb0244c9a8e4",
  "kernelspec": {
   "display_name": "venv",
   "language": "python",
   "name": "python3"
  },
  "language_info": {
   "codemirror_mode": {
    "name": "ipython",
    "version": 3
   },
   "file_extension": ".py",
   "mimetype": "text/x-python",
   "name": "python",
   "nbconvert_exporter": "python",
   "pygments_lexer": "ipython3",
   "version": "3.13.0"
  }
 },
 "nbformat": 4,
 "nbformat_minor": 0
}
