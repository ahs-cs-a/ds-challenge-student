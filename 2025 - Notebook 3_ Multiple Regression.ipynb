{
 "cells": [
  {
   "cell_type": "markdown",
   "metadata": {
    "cell_id": "8d5853b157b6495cb7d5c6e60170aca1",
    "deepnote_cell_type": "markdown",
    "tags": []
   },
   "source": [
    "<div class=\"alert alert-block alert-info\"><b>Instructor Note:</b> This project is intended for AP Statistics and/or AP Computer Science students seeking to learn modern data science skills. We'll use data from the US Department of Education's <a href=\"https://collegescorecard.ed.gov/data/\">College Scorecard Database</a> to see which colleges are worth the price of admission. Instructions, walkthrough videos, and additional support for teachers can be found <a href=\"https://skewthescript.org/data-science-challenge\">here</a>.\n",
    "<br>In this notebook (the 3rd of 4 total notebooks), students will...\n",
    "<li>Fit a multiple regression models </li><li>Interpret the coefficients of multiple regression models </li><li>Compare the strength of different multiple regression models</li></div>"
   ]
  },
  {
   "cell_type": "markdown",
   "metadata": {
    "cell_id": "496e3203278d4900afcf821b4f249b7d",
    "deepnote_cell_type": "markdown"
   },
   "source": [
    "<div class=\"alert alert-block alert-success\">\n",
    "\n",
    "**Reference Guide for Python (student resource) -** Check out our <a href = \"https://docs.google.com/document/d/1DaWN9HWInSBxSMhU0b5BetHlBM4n-ylqDiA8SJrhb7c/edit?tab=t.0\">reference guide</a> for a full listing of useful Python commands for this project. \n",
    "\n",
    "<div>"
   ]
  },
  {
   "cell_type": "markdown",
   "metadata": {
    "cell_id": "061874aad02647a4bc413bc5db874061",
    "deepnote_cell_type": "markdown",
    "tags": []
   },
   "source": [
    "<img src=\"https://skewthescript.org/s/college_price_tag.png\">"
   ]
  },
  {
   "cell_type": "markdown",
   "metadata": {
    "cell_id": "39bcde1e53d9495aa0d2cf02e5e4503c",
    "deepnote_cell_type": "markdown",
    "tags": []
   },
   "source": [
    "## Data Science Project: Use data to determine the best and worst colleges for conquering student debt.\n",
    "\n",
    "### Notebook 3: Multiple Regression\n",
    "\n",
    "Does college pay off? We'll use some of the latest data from the US Department of Education's <a href=\"https://collegescorecard.ed.gov/data/\">College Scorecard Database</a> to answer that question. \n",
    "\n",
    "In this notebook (the 3rd of 4 total notebooks), you'll use Python to create a more advanced type of model: multiple regression models. In doing so, you'll be able to isolate which factors (controlling for other variables) that make certain colleges worth the price of admission."
   ]
  },
  {
   "cell_type": "code",
   "execution_count": null,
   "metadata": {
    "cell_id": "25b31e81bcd24b959ef08b16a31457fc",
    "deepnote_cell_type": "code",
    "deepnote_to_be_reexecuted": false,
    "execution_millis": 5325,
    "execution_start": 1709066303823,
    "output_cleared": false,
    "source_hash": null,
    "tags": []
   },
   "outputs": [],
   "source": [
    "## Run this code but do not edit it. Hit Ctrl+Enter to run the code\n",
    "# This command downloads a useful package of Python commands\n",
    "%pip install seaborn\n",
    "\n",
    "import pyodide_http\n",
    "pyodide_http.patch_all()\n",
    "\n",
    "import pandas as pd\n",
    "import statsmodels.formula.api as smf  # For statistical modeling\n",
    "import matplotlib.pyplot as plt  # For creating static visualizations\n",
    "import seaborn as sns  # For advanced data visualization"
   ]
  },
  {
   "cell_type": "markdown",
   "metadata": {
    "cell_id": "6e6a0fcce22745168aba085d76015614",
    "deepnote_cell_type": "markdown"
   },
   "source": [
    "<div class=\"alert alert-block alert-success\">\n",
    "\n",
    "### The Dataset (`four_year_colleges.csv`)\n",
    "\n",
    "**General description** - In this notebook, we'll be using the `four_year_colleges.csv` file, which only includes schools that offer four-year bachelors degrees and/or higher graduate degrees. Community colleges and trade schools often have different goals (e.g. facilitating transfers, direct career education) than institutions that offer four-year bachelors degrees. By comparing four-year colleges only to other four-year colleges, we'll have clearer analyses and conclusions. \n",
    "\n",
    "This data is a subset of the US Department of Education's <a href=\"https://collegescorecard.ed.gov/data/\">College Scorecard Database</a>. The data is current as of the 2020-2021 school year.\n",
    "\n",
    "**Description of all variables:** See <a href=\"https://docs.google.com/document/d/1C3eR6jZQ2HNbB5QkHaPsBfOcROZRcZ0FtzZZiyyS9sQ/edit\">here</a>\n",
    "\n",
    "**Detailed data file description:** See <a href=\"https://docs.google.com/spreadsheets/d/1fa_Bd3_eYEmxvKPcu3hK2Dgazdk-9bkeJwONMS6u43Q/edit?usp=sharing\">here</a></div>"
   ]
  },
  {
   "cell_type": "markdown",
   "metadata": {
    "cell_id": "d5cb7543a7ae44c7beeefc8df36b5a83",
    "deepnote_cell_type": "markdown",
    "tags": []
   },
   "source": [
    "### 1.0 - Motivating multiple regression"
   ]
  },
  {
   "cell_type": "markdown",
   "metadata": {
    "cell_id": "3aaea31ab4d947c999bd3b656d784d4e",
    "deepnote_cell_type": "markdown",
    "tags": []
   },
   "source": [
    "To begin, let's download our data. We'll download the `four_year_colleges.csv` file from a public Github respository we are using to store data files and store it in an pandas dataframe called `four_year_col`.\n"
   ]
  },
  {
   "cell_type": "code",
   "execution_count": null,
   "metadata": {
    "cell_id": "2059816924c44d6f8f9ac840a300f563",
    "deepnote_cell_type": "code",
    "deepnote_to_be_reexecuted": false,
    "execution_millis": 600,
    "execution_start": 1709066309186,
    "output_cleared": false,
    "source_hash": null,
    "tags": []
   },
   "outputs": [],
   "source": [
    "## Run this code but do not edit it. Hit Ctrl+Enter to run the code.\n",
    "# This command downloads data from the file 'our_year_colleges.csv' and stores it in an object called `four_year_col`\n",
    "four_year_col = pd.read_csv('https://ds-modules.github.io/ds-challenge-assets/four_year_colleges.csv')\n",
    "four_year_col.head()"
   ]
  },
  {
   "cell_type": "markdown",
   "metadata": {
    "cell_id": "1de1012f9ce64970a011bbe4299315a0",
    "deepnote_cell_type": "markdown",
    "tags": []
   },
   "source": [
    "As before, we're going to use **student loan default rates** as our key **outcome variable** in determining whether college \"pays off.\"\n",
    "\n",
    "In the previous notebook, we looked at the following predictors of student loan default rates:\n",
    "- `pct_PELL` - percent of student body that receives PELL grants. Note: PELL grants are government scholarships given to students from low-income families\n",
    "- `grad_rate` - percent of students who successfully graduate\n",
    "- `net_tuition` - Net tuition (tuition minus average discounts and allowances) per student, in thousands of dollars"
   ]
  },
  {
   "cell_type": "markdown",
   "metadata": {
    "cell_id": "65210d61b0ba4c06bd0ca944a6d152f5",
    "deepnote_cell_type": "markdown",
    "tags": []
   },
   "source": [
    "In the last notebook, we fit a simple linear regression model to predict `default_rate` (outcome) using `net_tuition` (predictor). Below is the scatterplot we produced (along with a visual of our linear model):"
   ]
  },
  {
   "cell_type": "code",
   "execution_count": null,
   "metadata": {
    "cell_id": "14001d5b2fa4414f97fc4580ddc18da4",
    "deepnote_cell_type": "code",
    "deepnote_to_be_reexecuted": false,
    "execution_millis": 535,
    "execution_start": 1709066309795,
    "output_cleared": false,
    "source_hash": null,
    "tags": []
   },
   "outputs": [],
   "source": [
    "## Run this code but do not edit it\n",
    "# create scatterplot: default_rate ~ net_tuition, with linear model overlayed\n",
    "sns.lmplot(x='net_tuition', y='default_rate', data=four_year_col, line_kws={'color': 'orange'}, scatter_kws={'alpha': 0.7})\n",
    "plt.title('Scatterplot with Linear Model: Default Rate vs Net Tuition')\n",
    "plt.show()"
   ]
  },
  {
   "cell_type": "markdown",
   "metadata": {
    "cell_id": "af396bc2091149448a4388acb411f978",
    "deepnote_cell_type": "markdown",
    "tags": []
   },
   "source": [
    "<div class=\"alert alert-block alert-info\"><b>Instructor Note:</b> As stated in the dataset description, <code>net_tuition</code> is given in thousands of dollars. So, an x-value of 10 on our graph indicates at $10,000 net tuition."
   ]
  },
  {
   "cell_type": "markdown",
   "metadata": {
    "cell_id": "13c32ad4621b492abc46224176d8f3a9",
    "deepnote_cell_type": "markdown",
    "tags": []
   },
   "source": [
    "<div class=\"alert alert-block alert-warning\">\n",
    "\n",
    "**1.1 (Review Question) -** Is the correlation between tuition costs and student loan default rates positive or negative? Does the direction of the relationship suprise you? Why or why not?\n",
    "\n",
    "</div>"
   ]
  },
  {
   "cell_type": "markdown",
   "metadata": {
    "cell_id": "352348fd5eba405cb81f663107d6ae5e",
    "deepnote_cell_type": "markdown",
    "tags": []
   },
   "source": [
    "**Double-click this cell to type your answer here:** The correlation is negative (as tuition increases, default rates tend to decrease). This is surprising. As tuition costs go up, you'd expect students to take on more debt. As they take on more debt, they'd be more likely to default on their loans. So, without seeing the data, I would have expected the relationship to be positive (as tuition rises, default rates also rise)."
   ]
  },
  {
   "cell_type": "markdown",
   "metadata": {
    "cell_id": "8bccb6e26ecb4376a9d8cf34873ba8b7",
    "deepnote_cell_type": "markdown",
    "tags": []
   },
   "source": [
    "Below is the same graphic except, this time, we color the colleges by their graduation rates. Take a look:"
   ]
  },
  {
   "cell_type": "code",
   "execution_count": null,
   "metadata": {
    "cell_id": "5e4a4f3a1d654f57aa8ac50e172fe7e7",
    "deepnote_cell_type": "code",
    "deepnote_to_be_reexecuted": false,
    "execution_millis": 514,
    "execution_start": 1709066310344,
    "output_cleared": false,
    "source_hash": null,
    "tags": []
   },
   "outputs": [],
   "source": [
    "## Run this code but do not edit it\n",
    "# show scatter for default_rate ~ net_tuition, color by grad_rate\n",
    "sns.scatterplot(\n",
    "    x='net_tuition', \n",
    "    y='default_rate', \n",
    "    hue='grad_rate',  # Color points by grad_rate\n",
    "    data=four_year_col,\n",
    "    palette='viridis',\n",
    "    alpha=0.7  # Adjust transparency for better visualization\n",
    ")\n",
    "plt.title('Scatterplot: Default Rate vs Net Tuition (Colored by Grad Rate)')\n",
    "plt.show()"
   ]
  },
  {
   "cell_type": "markdown",
   "metadata": {
    "cell_id": "c1bc6d33f4854a9b8dab8d1207f77b34",
    "deepnote_cell_type": "markdown",
    "tags": []
   },
   "source": [
    "**Note:** As stated in the dataset description above, <code>default_rate</code> describes the percent of <b>all</b> of a school's borrowers that are in default on their student loans. This includes students who have graduated, transferred, or did not complete their programs."
   ]
  },
  {
   "cell_type": "markdown",
   "metadata": {
    "cell_id": "cdbb441a6b094ddebe6c16c98ae53df5",
    "deepnote_cell_type": "markdown",
    "tags": []
   },
   "source": [
    "**There's a lot going on in this graph.** For help, we recommend watching <a href=\"https://youtu.be/vEXWnOs72oQ\">this video</a>, which discusses how to interpret graphs that visualize multiple variables at once.\n",
    "\n",
    "<div class=\"alert alert-block alert-warning\">\n",
    "\n",
    "**1.2 -** Look at the bottom-right corner of the graph. These are colleges that charge their students a lot of money (high tuition) yet, somehow, they have low student loan default rates. Describe the graduation rates of these schools.\n",
    "\n",
    "</div>"
   ]
  },
  {
   "cell_type": "markdown",
   "metadata": {
    "cell_id": "416c4d6f94eb4f8baef37e143f5fb62c",
    "deepnote_cell_type": "markdown",
    "tags": []
   },
   "source": [
    "**Double-click this cell to type your answer here:** ..."
   ]
  },
  {
   "cell_type": "markdown",
   "metadata": {
    "cell_id": "898ceb442dbc4ad0a1dfffffe6f07e17",
    "deepnote_cell_type": "markdown",
    "tags": []
   },
   "source": [
    "<div class=\"alert alert-block alert-warning\">\n",
    "\n",
    "**1.3 -** Look at the top-left corner of the graph. These are colleges that don't charge a lot (low tuitions) yet, somehow, their students have high default rates. Describe the graduation rates of these schools.\n",
    "\n",
    "</div>"
   ]
  },
  {
   "cell_type": "markdown",
   "metadata": {
    "cell_id": "4988a9c2ec074bb28c9059479628f098",
    "deepnote_cell_type": "markdown",
    "tags": []
   },
   "source": [
    "**Double-click this cell to type your answer here:** ..."
   ]
  },
  {
   "cell_type": "markdown",
   "metadata": {
    "cell_id": "d8db541a88db4728a61b3814e46315ff",
    "deepnote_cell_type": "markdown",
    "tags": []
   },
   "source": [
    "<div class=\"alert alert-block alert-warning\">\n",
    "\n",
    "**1.4 -** Based on your answers to the previous two questions, give a possible reason why students at **lower-cost** schools (who, presumably, have less initial debt than their peers) somehow have **higher** loan default rates.\n",
    "\n",
    "</div>"
   ]
  },
  {
   "cell_type": "markdown",
   "metadata": {
    "cell_id": "d603b23abc684a1e9e70affccb751eb0",
    "deepnote_cell_type": "markdown",
    "tags": []
   },
   "source": [
    "**Double-click this cell to type your answer here:** ..."
   ]
  },
  {
   "cell_type": "markdown",
   "metadata": {
    "cell_id": "80392a6309314ebc99a6f89a64050802",
    "deepnote_cell_type": "markdown",
    "tags": []
   },
   "source": [
    "In data science, we say that graduation rates and tuition are **confounded**. Since they both rise and fall together, it can be hard to tell which is really \"making the difference\" in default rates. Is it possible to \"tease out\" which factor is *more* directly associated with students being able to pay off their loans? The next section will introduce you to a new type of modeling - multiple regression - that can help us answer this question."
   ]
  },
  {
   "cell_type": "markdown",
   "metadata": {
    "cell_id": "fcb838e6da7346b78a72ba9decccf6e6",
    "deepnote_cell_type": "markdown",
    "tags": []
   },
   "source": [
    "### 2.0 - Fitting and interpreting a multiple regression model"
   ]
  },
  {
   "cell_type": "markdown",
   "metadata": {
    "cell_id": "f41f03badfe54edcbeebb2aa4b4d660a",
    "deepnote_cell_type": "markdown",
    "tags": []
   },
   "source": [
    "Again, let's show the scatterplot between `net_tuition` (predictor) and `default_rate` (outcome), along with the linear model:"
   ]
  },
  {
   "cell_type": "code",
   "execution_count": null,
   "metadata": {
    "cell_id": "6cb91c1367f343949069bfba725233cc",
    "deepnote_cell_type": "code",
    "deepnote_to_be_reexecuted": false,
    "execution_millis": 474,
    "execution_start": 1709066310860,
    "output_cleared": false,
    "source_hash": null,
    "tags": []
   },
   "outputs": [],
   "source": [
    "## Run this code but do not edit it\n",
    "# create scatterplot: default_rate ~ net_tuition, with linear model overlayed\n",
    "sns.lmplot(x='net_tuition', y='default_rate', data=four_year_col, line_kws={'color': 'orange'}, scatter_kws={'color':'black','alpha': 0.7})\n",
    "plt.title('Scatterplot with Linear Model: Default Rate vs Net Tuition')\n",
    "plt.show()"
   ]
  },
  {
   "cell_type": "markdown",
   "metadata": {
    "cell_id": "a352e09a5070482081bfbe3010869eb0",
    "deepnote_cell_type": "markdown",
    "tags": []
   },
   "source": [
    "<div class=\"alert alert-block alert-warning\">\n",
    "\n",
    "**2.1 (Review Question) -** Use the `lm` command to fit and store the linear regression model that's visualized above, using `net_tuition` (predictor) in order to predict `default_rate` (outcome). Save the model in an object called `tuition_model` and print out the model.\n",
    "\n",
    "</div>"
   ]
  },
  {
   "cell_type": "code",
   "execution_count": null,
   "metadata": {
    "cell_id": "b152c79e6e394dfd99fa7044a38cd8f9",
    "deepnote_cell_type": "code",
    "deepnote_to_be_reexecuted": false,
    "execution_millis": 237,
    "execution_start": 1709066311321,
    "output_cleared": false,
    "source_hash": null,
    "tags": []
   },
   "outputs": [],
   "source": [
    "# Your code goes here\n",
    "..."
   ]
  },
  {
   "cell_type": "markdown",
   "metadata": {
    "cell_id": "22269b63b02d4525b87e5d16f0c5c4a1",
    "deepnote_cell_type": "markdown"
   },
   "source": [
    "<div class=\"alert alert-block alert-info\">\n",
    "\n",
    "**Check yourself:** If you print out `tuition_model`, you should see two numbers: 8.0029 and -0.2077.</div>"
   ]
  },
  {
   "cell_type": "markdown",
   "metadata": {
    "cell_id": "cffc0515a77c433da0885417fefa89d4",
    "deepnote_cell_type": "markdown",
    "tags": []
   },
   "source": [
    "Recall that simple linear regressions follow this formula:\n",
    "\n",
    "$$\n",
    "\\hat{y} = \\beta_{0} + \\beta_{1}x\n",
    "$$\n",
    "Where:\n",
    "- $\\hat{y}$ is the predicted y-value (predicted outcome value)\n",
    "- $\\beta_{0}$ is the y-intercept --> the predicted y-value (outcome value) when x = 0 (the predictor's value is 0)\n",
    "- $\\beta_{1}$ is the slope --> the predicted change in y (outcome) for a 1-unit increase in x (predictor)\n",
    "- $x$ is the x-value (predictor value)"
   ]
  },
  {
   "cell_type": "markdown",
   "metadata": {
    "cell_id": "adb3371e78c34c3b8fac30e8f11831e1",
    "deepnote_cell_type": "markdown",
    "tags": []
   },
   "source": [
    "<div class=\"alert alert-block alert-warning\">\n",
    "\n",
    "**2.2 (Review Question) -** What is the slope value from our `tuition_model`? Interpret the meaning of this value (in context).\n",
    "\n",
    "</div>"
   ]
  },
  {
   "cell_type": "markdown",
   "metadata": {
    "cell_id": "a001b4e981f94d5cb663d4b86151007e",
    "deepnote_cell_type": "markdown",
    "tags": []
   },
   "source": [
    "**Double-click this cell to type your answer here:** ..."
   ]
  },
  {
   "cell_type": "markdown",
   "metadata": {
    "cell_id": "81cacca8338d473ca9e77ef224036dab",
    "deepnote_cell_type": "markdown",
    "tags": []
   },
   "source": [
    "<div class=\"alert alert-block alert-info\"><b>Instructor note:</b> Because <code>net_tuition</code> is given in thousands of dollars, a 1-unit increase in <code>net_tuition</code> can be interpreted as a 1,000 dollar increase in tuition (this is reflected in the sample response for interpreting the slope value). It's important to clarify this with students.\n",
    "</div>"
   ]
  },
  {
   "cell_type": "markdown",
   "metadata": {
    "cell_id": "601fd085be34408bbf5e2eb9c571cf06",
    "deepnote_cell_type": "markdown",
    "tags": []
   },
   "source": [
    "<div class=\"alert alert-block alert-warning\">\n",
    "\n",
    "**2.3 (Review Question) -** Use the `summary` command on `tuition_model` to see summary information about the linear model. What is the $R^2$ value from our `tuition_model`? What does this value indicate about the strength of the model?\n",
    "\n",
    "</div>"
   ]
  },
  {
   "cell_type": "code",
   "execution_count": null,
   "metadata": {
    "cell_id": "f0ad439ae5304555b5f24de964d4b343",
    "deepnote_cell_type": "code",
    "deepnote_to_be_reexecuted": false,
    "execution_millis": 244,
    "execution_start": 1709066311336,
    "output_cleared": false,
    "source_hash": null,
    "tags": []
   },
   "outputs": [],
   "source": [
    "# Your code goes here\n",
    "..."
   ]
  },
  {
   "cell_type": "markdown",
   "metadata": {
    "cell_id": "f4456aa645024a7699a88a3439ee06b7",
    "deepnote_cell_type": "markdown"
   },
   "source": [
    "<div class=\"alert alert-block alert-info\">\n",
    "\n",
    "**Check yourself:** You should find an $R^2$ value of 0.1882 </div>"
   ]
  },
  {
   "cell_type": "markdown",
   "metadata": {
    "cell_id": "972283c874d6425f8aa5092b16b5f133",
    "deepnote_cell_type": "markdown",
    "tags": []
   },
   "source": [
    "**Double-click this cell to type your answer here:** ..."
   ]
  },
  {
   "cell_type": "markdown",
   "metadata": {
    "cell_id": "730bb338f9eb45979d17d97a93f6dc96",
    "deepnote_cell_type": "markdown"
   },
   "source": [
    "<div class=\"alert alert-block alert-info\"><b>Student Note:</b> There's a lot going on in the following section. We recommend taking a break to watch <a href=\"https://youtu.be/kFB2Dp_gaWQ\">this video</a>, which provides an overview of multiple regression models and walks through interpreting the values from this model. Once you're done with the video, continue reading below."
   ]
  },
  {
   "cell_type": "markdown",
   "metadata": {
    "cell_id": "714bb8df5a954bba97b3aaeebef5f496",
    "deepnote_cell_type": "markdown",
    "tags": []
   },
   "source": [
    "So far, we have only been working with simple linear regressions: models that use one predictor variable (`net_tuition`) to predict the outcome variables (`default_rate`). If we'd like to use multiple predictor variables at once in order to model our outcome, we can use a technique called **multiple regression**.\n",
    "\n",
    "For example, imagine we want to use **both** `net_tuition` ($x_{1}$) and `grad_rate` ($x_{2}$) to predict `default_rate` ($y$). We can write a new model with multiple predictors, like this:\n",
    "\n",
    "$$\n",
    "\\hat{y} = \\beta_{0} + \\beta_{1}x_{1} + \\beta_{2}x_{2}\n",
    "$$\n",
    "Where:\n",
    "- $\\hat{y}$ is the predicted `default_rate`\n",
    "- $x_{1}$ is the `net_tuition`\n",
    "- $x_{2}$ is the `grad_rate`\n",
    "\n",
    "This means that...\n",
    "- $\\beta_{1}$ is the slope for `net_tuition` --> the slope between `default_rate` and `net_tuition`, controlling for all other predictors\n",
    "- $\\beta_{2}$ is the slope for `grad_rate` --> the slope between `default_rate` and `grad_rate`, controlling for all other predictors\n",
    "- $\\beta_{0}$ is the y-intercept --> the predicted y-value when $x_{1} = 0$ and $x_{2} = 0$ (when `net_tuition` and `grad_rate` are both 0)\n",
    "\n",
    "Let's go ahead and fit this model, so we can understand what this all really means. In Python, when we use the package `statsmodels.formula.api`, if we want to use multiple predictors within our model (such as `net_tuition` and `grad_rate`), we simply include both of them in our `ols` command. See below:"
   ]
  },
  {
   "cell_type": "code",
   "execution_count": null,
   "metadata": {
    "cell_id": "720b762e8d024f16bc1e783292dc03d2",
    "deepnote_cell_type": "code",
    "deepnote_to_be_reexecuted": false,
    "execution_millis": 215,
    "execution_start": 1709066311365,
    "output_cleared": false,
    "source_hash": null,
    "tags": []
   },
   "outputs": [],
   "source": [
    "## Run this code but do not edit it\n",
    "tuition_grad_model = smf.ols(formula='default_rate ~ net_tuition + grad_rate', data=four_year_col).fit()\n",
    "print(f\"Intercept: {tuition_grad_model.params['Intercept']}\")\n",
    "print(f\"Slope Net Tuition: {tuition_grad_model.params['net_tuition']}\")\n",
    "print(f\"Slope Grad Rate: {tuition_grad_model.params['grad_rate']}\")\n"
   ]
  },
  {
   "cell_type": "markdown",
   "metadata": {
    "cell_id": "78cc889d01e64edb9c18918ef8de1419",
    "deepnote_cell_type": "markdown",
    "tags": []
   },
   "source": [
    "As you can see, the values have changed a bit, and an extra slope term has now appeared in our model. We can plug these values into our model like so:\n",
    "\n",
    "$$\n",
    "\\hat{y} = 14.479 + (0.007)x_{1} + (-0.160)x_{2}\n",
    "$$\n",
    "\n",
    "Here's how we can interpret the slopes in our model:\n",
    "- $\\beta_{1} = 0.007$ --> For every 1,000 dollar increase in `net_tuition`, we expect a 0.007 percent point **increase** in `default_rate`, controlling for `grad_rate`\n",
    "- $\\beta_{2} = -0.160$ -->  For every 1 percentage point increase in `grad_rate`, we expect a 0.160 percentage point **decrease** in `default_rate`, controlling for `net_tuition`\n",
    "\n",
    "The key is that multiple regression allows you to **control for other predictors**, which helps us **eliminate confounding**. When we can control for graduation rates - i.e. when comparing colleges with similar graduation rates - we see that tuition is now **positively** related to default rates. In other words, if students attend colleges with similar graduation rates, we'd expect the one that charges more in tuition to have higher rates of default. \n",
    "\n",
    "So, charging students more for school is, in fact, associated with higher rates of default - as long as we're comparing among schools with similar graduation rates."
   ]
  },
  {
   "cell_type": "markdown",
   "metadata": {
    "cell_id": "b843aa1a822147c2ab9a42f5abe996d8",
    "deepnote_cell_type": "markdown",
    "tags": []
   },
   "source": [
    "<div class=\"alert alert-block alert-info\"><b>Instructor Note:</b> You may need to use some direct instruction to walk students through the introduction to multiple regression (shown above).\n",
    "</div>"
   ]
  },
  {
   "cell_type": "markdown",
   "metadata": {
    "cell_id": "59e4bcef0cdb431ea6b3cbe9321ba573",
    "deepnote_cell_type": "markdown",
    "tags": []
   },
   "source": [
    "Just as we can use the `summary` command to find the $R^2$ value of a simple linear regression, we can use `summary` to find the $R^2$ of our multiple regression model:"
   ]
  },
  {
   "cell_type": "code",
   "execution_count": null,
   "metadata": {
    "cell_id": "12c4228ef1b449a3950b898d366a8a65",
    "deepnote_cell_type": "code",
    "deepnote_to_be_reexecuted": false,
    "execution_millis": 151,
    "execution_start": 1709066311429,
    "output_cleared": false,
    "source_hash": null,
    "tags": []
   },
   "outputs": [],
   "source": [
    "## Run this code but do not edit it\n",
    "# summary of tuition_grad_model\n",
    "tuition_grad_model.summary()"
   ]
  },
  {
   "cell_type": "markdown",
   "metadata": {
    "cell_id": "19611457be2e4bb99642103241f15cbb",
    "deepnote_cell_type": "markdown",
    "tags": []
   },
   "source": [
    "<div class=\"alert alert-block alert-warning\">\n",
    "\n",
    "**2.4 -** How does the $R^2$ value of our multiple regression model (`tuition_grad_model`) compare to the $R^2$ value of our simple linear regression model (`tuition_model`). Did adding `grad_rate` alongside `net_tuition` help make the model's predictions stronger? Explain.\n",
    "\n",
    "</div>"
   ]
  },
  {
   "cell_type": "markdown",
   "metadata": {
    "cell_id": "7b36e007d55b435f816930bd74fd7276",
    "deepnote_cell_type": "markdown",
    "tags": []
   },
   "source": [
    "**Double-click this cell to type your answer here:** ..."
   ]
  },
  {
   "cell_type": "markdown",
   "metadata": {
    "cell_id": "07e794dc834844beb9369ba863021c6e",
    "deepnote_cell_type": "markdown",
    "tags": []
   },
   "source": [
    "### 3.0 - Making your own multiple regression models"
   ]
  },
  {
   "cell_type": "markdown",
   "metadata": {
    "cell_id": "7537a2fc6c10451faed13117c165220e",
    "deepnote_cell_type": "markdown",
    "tags": []
   },
   "source": [
    "<div class=\"alert alert-block alert-warning\">\n",
    "\n",
    "**3.1 -** There's no reason that you have to stop at 2 predictors. Your model could have many predictors! Use the `lm` command to create a model that predicts `default_rate` using three predictor variables: `net_tuition`, `grad_rate`, and `pct_PELL`. Store the model in an object called `tuition_grad_pell_model` and then print out the model.\n",
    "\n",
    "</div>"
   ]
  },
  {
   "cell_type": "code",
   "execution_count": null,
   "metadata": {
    "cell_id": "9f39c5ddd8f9417fbf054e7102778ebd",
    "deepnote_cell_type": "code",
    "deepnote_to_be_reexecuted": false,
    "execution_millis": 95,
    "execution_start": 1709066311485,
    "output_cleared": false,
    "source_hash": null,
    "tags": []
   },
   "outputs": [],
   "source": [
    "# Your code goes here\n",
    "..."
   ]
  },
  {
   "cell_type": "markdown",
   "metadata": {
    "cell_id": "b05721b50834401fa898a4743fd9a13d",
    "deepnote_cell_type": "markdown"
   },
   "source": [
    "<div class=\"alert alert-block alert-info\">\n",
    "\n",
    "**Check yourself:** When you print out the model, you should see four numbers: 8.513, 0.031, -0.117, 0.090 </div>"
   ]
  },
  {
   "cell_type": "markdown",
   "metadata": {
    "cell_id": "3012b97baa054686bc5e269963a4c711",
    "deepnote_cell_type": "markdown",
    "tags": []
   },
   "source": [
    "<div class=\"alert alert-block alert-warning\">\n",
    "\n",
    "**3.2 -** Interpret (in context) the slope value for `pct_PELL` from your model.\n",
    "\n",
    "</div>"
   ]
  },
  {
   "cell_type": "markdown",
   "metadata": {
    "cell_id": "a7362665c7f340b3b431a9b601b3a204",
    "deepnote_cell_type": "markdown",
    "tags": []
   },
   "source": [
    "**Double-click this cell to type your answer here:** ..."
   ]
  },
  {
   "cell_type": "markdown",
   "metadata": {
    "cell_id": "6d7bdc3edd504c1daf715c9c061a82bd",
    "deepnote_cell_type": "markdown",
    "tags": []
   },
   "source": [
    "<div class=\"alert alert-block alert-warning\">\n",
    "\n",
    "**3.3 -** Use the `summary` command to find the $R^2$ value of the `tuition_grad_pell_model`.\n",
    "\n",
    "</div>"
   ]
  },
  {
   "cell_type": "code",
   "execution_count": null,
   "metadata": {
    "cell_id": "d865d7af4ad645a7bd9dc83157091d37",
    "deepnote_cell_type": "code",
    "deepnote_to_be_reexecuted": false,
    "execution_millis": 94,
    "execution_start": 1709066311486,
    "output_cleared": false,
    "source_hash": null,
    "tags": []
   },
   "outputs": [],
   "source": [
    "# Your code goes here\n",
    "..."
   ]
  },
  {
   "cell_type": "markdown",
   "metadata": {
    "cell_id": "7c424c0f737445c2905f6b3fd392bc6f",
    "deepnote_cell_type": "markdown"
   },
   "source": [
    "<div class=\"alert alert-block alert-info\">\n",
    "\n",
    "**Check yourself:** The output should show an $R^2$ value of 0.5775 </div>"
   ]
  },
  {
   "cell_type": "markdown",
   "metadata": {
    "cell_id": "223f7f7bfce94b56a62b4dbf3bc3e328",
    "deepnote_cell_type": "markdown",
    "tags": []
   },
   "source": [
    "<div class=\"alert alert-block alert-warning\">\n",
    "\n",
    "**3.4 -** Compare the $R^2$ values from `tuition_grad_model` and `tuition_grad_pell_model`. Did adding `pct_PELL` strengthen the model's predictions? If so, did it strengthen the model's predictions by a large amount? Explain.\n",
    "\n",
    "</div>"
   ]
  },
  {
   "cell_type": "markdown",
   "metadata": {
    "cell_id": "c7ab7047ac4d4f6db04ea1f875bdfa02",
    "deepnote_cell_type": "markdown",
    "tags": []
   },
   "source": [
    "**Double-click this cell to type your answer here:** ..."
   ]
  },
  {
   "cell_type": "markdown",
   "metadata": {
    "cell_id": "3fae1ceb91124fddb6ca9b6180b59cf3",
    "deepnote_cell_type": "markdown",
    "tags": []
   },
   "source": [
    "<div class=\"alert alert-block alert-warning\">\n",
    "\n",
    "**3.5 -** Create *your own* multiple regression model, using variables of your own choosing. Analyze the slope values from at least two separate predictors and try to maximize the $R^2$ value. \n",
    "\n",
    "**Hints:** \n",
    "- Look at the dataset description <a href=\"https://docs.google.com/document/d/1C3eR6jZQ2HNbB5QkHaPsBfOcROZRcZ0FtzZZiyyS9sQ/edit\">here</a> to identify good potential predictor variables for your model.\n",
    "- You may be tempted to use *all* the variables in the dataset as predictors. This may not be the best idea. The next notebook will explore why.\n",
    "\n",
    "</div>"
   ]
  },
  {
   "cell_type": "code",
   "execution_count": null,
   "metadata": {
    "cell_id": "f561e688a442430aa7f48019fe3b8845",
    "deepnote_cell_type": "code",
    "deepnote_to_be_reexecuted": false,
    "execution_millis": 40,
    "execution_start": 1709066311541,
    "output_cleared": false,
    "source_hash": null,
    "tags": []
   },
   "outputs": [],
   "source": [
    "# Your code goes here\n",
    "..."
   ]
  },
  {
   "cell_type": "markdown",
   "metadata": {
    "cell_id": "aa0d3505ffa64d81addf13f83c12a920",
    "deepnote_cell_type": "markdown",
    "tags": []
   },
   "source": [
    "<div class=\"alert alert-block alert-info\"><b>Instructor Notes:</b> \n",
    "<li> It can be fun to turn this last question into a class competiton: Who can make the strongest model (i.e.the highest R^2 value)?<li>Students may wonder: Why not include every single variable as a predictor? Won't it just add strength to the model? Well, not really. Let students know that this is an issue that we'll explore in the next notebook. </div>"
   ]
  },
  {
   "cell_type": "markdown",
   "metadata": {
    "cell_id": "fc29250a716d4b66bc166c1cace43529",
    "deepnote_cell_type": "markdown"
   },
   "source": [
    "<div class=\"alert alert-block alert-success\">\n",
    "\n",
    "\n",
    "### Summer Opportunity: Do you want to learn more about Data Science & AI?\n",
    "Join our Data Science & AI Summer Bootcamp, where you'll take your learning from this project to the next level. **No prior coding or statistics experience required!** Designed by Harvard grads, the bootcamp allows students from all experience levels to dive deeper into data science concepts, from the basics (e.g. linear regression) to the advanced (e.g. AI neural networks). Students learn in a supportive and collaborative environment, and they walk away with their own real-world project that can be shared on college and internship applications.\n",
    "\n",
    "📢 Scholarships are available! We’re committed to making this opportunity accessible to all students.\n",
    "\n",
    "📝 Applications are considered on a rolling basis. Final application deadline: **May 30, 2025**\n",
    "\n",
    "🔗 Learn more and apply here: https://skewthescript.org/bootcamps\n",
    "</div>"
   ]
  },
  {
   "cell_type": "markdown",
   "metadata": {
    "created_in_deepnote_cell": true,
    "deepnote_cell_type": "markdown"
   },
   "source": [
    "<a style='text-decoration:none;line-height:16px;display:flex;color:#5B5B62;padding:10px;justify-content:end;' href='https://deepnote.com?utm_source=created-in-deepnote-cell&projectId=8f82fdea-532b-4a4b-9937-108d7206dda5' target=\"_blank\">\n",
    "<img alt='Created in deepnote.com' style='display:inline;max-height:16px;margin:0px;margin-right:7.5px;' src='data:image/svg+xml;base64,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' > </img>\n",
    "Created in <span style='font-weight:600;margin-left:4px;'>Deepnote</span></a>"
   ]
  }
 ],
 "metadata": {
  "deepnote_notebook_id": "6e9c6b51cea2424991c2d8a0e26da87b",
  "kernelspec": {
   "display_name": "venv",
   "language": "python",
   "name": "python3"
  },
  "language_info": {
   "codemirror_mode": {
    "name": "ipython",
    "version": 3
   },
   "file_extension": ".py",
   "mimetype": "text/x-python",
   "name": "python",
   "nbconvert_exporter": "python",
   "pygments_lexer": "ipython3",
   "version": "3.13.0"
  }
 },
 "nbformat": 4,
 "nbformat_minor": 0
}
