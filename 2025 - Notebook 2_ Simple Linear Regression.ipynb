{
 "cells": [
  {
   "cell_type": "markdown",
   "metadata": {
    "cell_id": "2729b95a0ba24f81bc0e4e6a73a35d3c",
    "deepnote_cell_type": "markdown",
    "tags": []
   },
   "source": [
    "<div class=\"alert alert-block alert-info\"><b>Instructor Note:</b> This project is intended for AP Statistics and/or AP Computer Science students seeking to learn modern data science skills. We'll use data from the US Department of Education's <a href=\"https://collegescorecard.ed.gov/data/\">College Scorecard Database</a> to see which colleges are worth the price of admission. Instructions, walkthrough videos, and additional support for teachers can be found <a href=\"https://skewthescript.org/data-science-challenge\">here</a>.\n",
    "<br>In this notebook (the 2nd of 4 total notebooks), students will...\n",
    "<li>Create scatterplots </li><li>Fit simple linear regression models </li><li>Compare the strength of predictor variables</li></div>"
   ]
  },
  {
   "cell_type": "markdown",
   "metadata": {
    "cell_id": "40f7c617edb447bdadd54404833d9bb5",
    "deepnote_cell_type": "markdown"
   },
   "source": [
    "<div class=\"alert alert-block alert-success\">\n",
    "\n",
    "**Reference Guide for Python (student resource) -** Check out our <a href = \"https://docs.google.com/document/d/1DaWN9HWInSBxSMhU0b5BetHlBM4n-ylqDiA8SJrhb7c/edit?tab=t.0\">reference guide</a> for a full listing of useful Python commands for this project. \n",
    "\n",
    "<div>"
   ]
  },
  {
   "cell_type": "markdown",
   "metadata": {
    "cell_id": "12921ff8cac04936a5721c53f6aeeb99",
    "deepnote_cell_type": "markdown",
    "tags": []
   },
   "source": [
    "<img src=\"https://skewthescript.org/s/erasing_student_debt.jpg\">"
   ]
  },
  {
   "cell_type": "markdown",
   "metadata": {
    "cell_id": "8bdf37d7ecc14e9c96d93dc2a9931b1c",
    "deepnote_cell_type": "markdown",
    "tags": []
   },
   "source": [
    "## Data Science Project: Use data to determine the best and worst colleges for conquering student debt.\n",
    "\n",
    "### Notebook 2: Simple Linear Regression\n",
    "\n",
    "Does college pay off? We'll use some of the latest data from the US Department of Education's <a href=\"https://collegescorecard.ed.gov/data/\">College Scorecard Database</a> to answer that question. \n",
    "\n",
    "In this notebook (the 2nd of 4 total notebooks), you'll use Python to create scatterplots, fit simple linear regression models, and compare the strength of your models. By the end of this notebook, you'll see what factors make certain colleges better investments than others."
   ]
  },
  {
   "cell_type": "code",
   "execution_count": null,
   "metadata": {
    "cell_id": "76a93a16063649b29220cd6c9b2a9bb3",
    "deepnote_cell_type": "code",
    "deepnote_to_be_reexecuted": false,
    "execution_millis": 2831,
    "execution_start": 1708730391224,
    "output_cleared": false,
    "source_hash": null,
    "tags": []
   },
   "outputs": [],
   "source": [
    "## Run this code but do not edit it. Hit Ctrl+Enter to run the code\n",
    "# This command downloads a useful package of Python commands\n",
    "%pip install seaborn\n",
    "\n",
    "import pyodide_http\n",
    "pyodide_http.patch_all()\n",
    "\n",
    "import pandas as pd\n",
    "import statsmodels.formula.api as smf  # For statistical modeling\n",
    "import matplotlib.pyplot as plt  # For creating static visualizations\n",
    "import seaborn as sns  # For advanced data visualization"
   ]
  },
  {
   "cell_type": "markdown",
   "metadata": {
    "cell_id": "c493247da60147c29a174c9f5f4bc16b",
    "deepnote_cell_type": "markdown",
    "tags": []
   },
   "source": [
    "<div class=\"alert alert-block alert-success\">\n",
    "\n",
    "### The Dataset (`four_year_colleges.csv`)\n",
    "\n",
    "**General description** - In this notebook, we'll be using the `four_year_colleges.csv` file, which only includes schools that offer four-year bachelors degrees and/or higher graduate degrees. Community colleges and trade schools often have different goals (e.g. facilitating transfers, direct career education) than institutions that offer four-year bachelors degrees. By comparing four-year colleges only to other four-year colleges, we'll have clearer analyses and conclusions. \n",
    "\n",
    "This data is a subset of the US Department of Education's <a href=\"https://collegescorecard.ed.gov/data/\">College Scorecard Database</a>. The data is current as of the 2020-2021 school year.\n",
    "\n",
    "**Description of all variables:** See <a href=\"https://docs.google.com/document/d/1C3eR6jZQ2HNbB5QkHaPsBfOcROZRcZ0FtzZZiyyS9sQ/edit\">here</a>\n",
    "\n",
    "**Detailed data file description:** See <a href=\"https://docs.google.com/spreadsheets/d/1fa_Bd3_eYEmxvKPcu3hK2Dgazdk-9bkeJwONMS6u43Q/edit?usp=sharing\">here</a></div>"
   ]
  },
  {
   "cell_type": "markdown",
   "metadata": {
    "cell_id": "0a0857b6b4164fb8a03e2ef178807ac5",
    "deepnote_cell_type": "markdown",
    "tags": []
   },
   "source": [
    "### 1.0 - Creating scatterplots"
   ]
  },
  {
   "cell_type": "markdown",
   "metadata": {
    "cell_id": "35d64de0f2f745008419da551fe0c6b6",
    "deepnote_cell_type": "markdown",
    "tags": []
   },
   "source": [
    "To begin, let's download our data. Our full dataset is included in a file named `four_year_colleges.csv`, which we are retrieving from a public Github respository we are using to store data files. The command below downloads the data from the file and stores it into a the pandas dataframe object called `four_year_col`. The python package, pandas, is useful for data manipulation and analysis."
   ]
  },
  {
   "cell_type": "code",
   "execution_count": null,
   "metadata": {
    "cell_id": "79f80bcada0c47548cab10733c07e7c1",
    "deepnote_cell_type": "code",
    "deepnote_to_be_reexecuted": false,
    "execution_millis": 778,
    "execution_start": 1708730394080,
    "output_cleared": false,
    "source_hash": null,
    "tags": []
   },
   "outputs": [],
   "source": [
    "## Run this code but do not edit it. Hit Ctrl+Enter to run the code\n",
    "# This command downloads the data\n",
    "four_year_col = pd.read_csv('https://ds-modules.github.io/ds-challenge-assets/four_year_colleges.csv')"
   ]
  },
  {
   "cell_type": "markdown",
   "metadata": {
    "cell_id": "3eb5338d56c14a909f04a8b02176f9c2",
    "deepnote_cell_type": "markdown",
    "tags": []
   },
   "source": [
    "<div class=\"alert alert-block alert-warning\"> \n",
    "\n",
    "**1.1 -** Use the `head` command to print out the first several rows of the dataset.\n",
    "\n",
    "</div>"
   ]
  },
  {
   "cell_type": "code",
   "execution_count": null,
   "metadata": {
    "cell_id": "3826290d6c9344c6b2a054872529d24d",
    "deepnote_cell_type": "code",
    "deepnote_to_be_reexecuted": false,
    "execution_millis": 249,
    "execution_start": 1708730394860,
    "output_cleared": false,
    "source_hash": null,
    "tags": []
   },
   "outputs": [],
   "source": [
    "# Your code goes here\n",
    "..."
   ]
  },
  {
   "cell_type": "markdown",
   "metadata": {
    "cell_id": "6d0b1706b6c04a2ca41e2a5cb9b1f01c",
    "deepnote_cell_type": "markdown",
    "tags": []
   },
   "source": [
    "<div class=\"alert alert-block alert-warning\"> \n",
    "\n",
    "**1.2 -** Use the `shape` command to find the number of colleges (rows) and number of variables (columns) in our dataset.\n",
    "\n",
    "</div>"
   ]
  },
  {
   "cell_type": "code",
   "execution_count": null,
   "metadata": {
    "cell_id": "2eba8450188147f4ab7f3b29e258e534",
    "deepnote_cell_type": "code",
    "deepnote_to_be_reexecuted": false,
    "execution_millis": 550,
    "execution_start": 1708730394890,
    "output_cleared": false,
    "source_hash": null,
    "tags": []
   },
   "outputs": [],
   "source": [
    "# Your code goes here\n",
    "..."
   ]
  },
  {
   "cell_type": "markdown",
   "metadata": {
    "cell_id": "c51c9b77050d45029c0e120b2f130635",
    "deepnote_cell_type": "markdown"
   },
   "source": [
    "<div class=\"alert alert-block alert-info\">\n",
    "\n",
    "**Check yourself:** Your code should have printed out two numbers: 1053 and 26.</div>"
   ]
  },
  {
   "cell_type": "markdown",
   "metadata": {
    "cell_id": "6f8babd8ba594995a082dfe17786bfa8",
    "deepnote_cell_type": "markdown",
    "tags": []
   },
   "source": [
    "A good measure of whether attending a certain college \"pays off\" is its **student loan default rate**. If a college is low-cost and prepares students for high-paying jobs, few students will default on their loans. If a college is high-cost and does not prepare students for high-paying jobs, many students will have trouble paying off their loans (high default rate).\n",
    "\n",
    "So, our main **outcome variable** in this analysis will be `default_rate`. We're going to use scatterplots to see how strongly different **predictor variables** correlate with default rates. In particular, we're going to explore how well each of the following variables predicts colleges' default rates:\n",
    "- `pct_PELL` - percent of student body that receives [PELL grants](https://www.benefits.gov/benefit/417). Note: PELL grants are government scholarships given to students from low-income families\n",
    "- `grad_rate` - percent of students who successfully graduate\n",
    "- `net_tuition` - Net tuition (tuition minus average discounts and allowances) per student, in thousands of dollars\n",
    "\n",
    "To begin, let's create a **scatterplot** of colleges' default rates and the percent of their student body that receive PELL grants. We can use the seaborn command `scatterplot` on the pandas DataFrame, `four_year_col`:"
   ]
  },
  {
   "cell_type": "code",
   "execution_count": null,
   "metadata": {
    "cell_id": "e363fb7825014b95973d06c43d48f9b4",
    "deepnote_cell_type": "code",
    "deepnote_to_be_reexecuted": false,
    "execution_millis": 537,
    "execution_start": 1708730394904,
    "output_cleared": false,
    "source_hash": null,
    "tags": []
   },
   "outputs": [],
   "source": [
    "## Run this code but do not edit it\n",
    "# Create scatterplot comparing the default_rate(outcome) to pct_Pell(predictor)\n",
    "sns.scatterplot(x='pct_PELL', y='default_rate', data=four_year_col, alpha=0.7)\n",
    "plt.title('Scatterplot: Default Rate vs Percentage of PELL')\n",
    "plt.show()"
   ]
  },
  {
   "cell_type": "markdown",
   "metadata": {
    "cell_id": "14ed7889f35545e199c92d090e074bf3",
    "deepnote_cell_type": "markdown",
    "tags": []
   },
   "source": [
    "<div class=\"alert alert-block alert-info\"><b>Instructor Note:</b> If the x and y values tend to rise and fall together (e.g. as x increases, y tends to increase | as x decreases, y tends to decrease), we say the variables are <b>positively</b> related. A linear model of the data would have a positive slope. If the x and y values are inversely related (e.g. as x increases, y tends to decrease | as x decreases, y tends to increase), we say the variables are <b>negatively</b> related. A linear model of the data would have a negative slope.\n",
    "</div>"
   ]
  },
  {
   "cell_type": "markdown",
   "metadata": {
    "cell_id": "b80d7e821227410ca843bf785e42325c",
    "deepnote_cell_type": "markdown",
    "tags": []
   },
   "source": [
    "We see that there's a positive relationship between `pct_PELL` and `default_rate`. The colleges with the highest rates of PELL grant recipients (low-income students) also tend to have higher student loan default rates. In other words, if you were to fit a model to this data, it would predict higher default rates at schools that serve more PELL recipients.\n",
    "\n",
    "We must keep in mind: **correlation is not causation**. The scatterplot shows us that default rates and PELL recipient rates are positively correlated. However, the graph doesn't show us a clear causal explanation behind the correlation. For example, here are several causal explanations that this graph can't clarify:\n",
    "- PELL recipients may only be able to afford to attend low-quality colleges. These colleges have higher default rates because they fail to prepare students for the workforce.\n",
    "- PELL recipients may have less familial resources to weather the storms of financial emergencies in the first few years after college. So, the schools that serve PELL recipients at high rates will also have more of their students defaulting on loans (regardless of the school's quality).\n",
    "- PELL recipients may have attended lower-quality high schools, which don't properly prepare them for college. So, these students may drop out of college at higher rates, which raises their chances of defaulting on student loans. \n",
    "\n",
    "Or, it could be a combination of all those explanations! We can't tell from this analysis alone."
   ]
  },
  {
   "cell_type": "markdown",
   "metadata": {
    "cell_id": "783a5c1054674503922630c1a9756115",
    "deepnote_cell_type": "markdown",
    "tags": []
   },
   "source": [
    "<div class=\"alert alert-block alert-warning\"> \n",
    "\n",
    "**1.3 -** In the next question, you will create a scatterplot that visualizes the relationship between `grad_rate` and `default_rate`. Before doing so, make a prediction: Do you expect student loan default rates to positively or negatively correlate with graduation rates? Why?\n",
    "\n",
    "</div>"
   ]
  },
  {
   "cell_type": "markdown",
   "metadata": {
    "cell_id": "40761d74b2eb40c9a97eb1fe6027d84d",
    "deepnote_cell_type": "markdown",
    "tags": []
   },
   "source": [
    "**Double-click this cell to type your answer here:** ..."
   ]
  },
  {
   "cell_type": "markdown",
   "metadata": {
    "cell_id": "09b843b3f3c44fdaa0034152db20ac89",
    "deepnote_cell_type": "markdown"
   },
   "source": [
    "<div class=\"alert alert-block alert-info\">\n",
    "\n",
    "**Instructor Note:** As stated in the dataset description above, <code>default_rate</code> describes the percent of <b>all</b> of a school's borrowers that are in default on their student loans. This includes students who have graduated, transferred, or did not complete their programs.\n",
    "</div>"
   ]
  },
  {
   "cell_type": "markdown",
   "metadata": {
    "cell_id": "50104955b4344394acaddf6a56c453ff",
    "deepnote_cell_type": "markdown",
    "tags": []
   },
   "source": [
    "<div class=\"alert alert-block alert-warning\"> \n",
    "\n",
    "**1.4 -** Create a scatterplot that visualizes the relationship between `grad_rate` (predictor) and `default_rate` (outcome).\n",
    "\n",
    "</div>"
   ]
  },
  {
   "cell_type": "code",
   "execution_count": null,
   "metadata": {
    "cell_id": "1adb79c830f14502983c85ed2bcec5cc",
    "deepnote_cell_type": "code",
    "deepnote_to_be_reexecuted": false,
    "execution_millis": 608,
    "execution_start": 1708730395208,
    "output_cleared": false,
    "source_hash": null,
    "tags": []
   },
   "outputs": [],
   "source": [
    "# Your code goes here\n",
    "..."
   ]
  },
  {
   "cell_type": "markdown",
   "metadata": {
    "cell_id": "6ba0aeff78e945eb85b33ff2dde1c9c4",
    "deepnote_cell_type": "markdown"
   },
   "source": [
    "<div class=\"alert alert-block alert-info\">\n",
    "\n",
    "**Check yourself:** Your code should have generated a scatterplot with the x-axis labled with `grad_rate` and the y-axis labeled with `default_rate`.</div>"
   ]
  },
  {
   "cell_type": "markdown",
   "metadata": {
    "cell_id": "59f1352275844db1a74b4c50c1a86954",
    "deepnote_cell_type": "markdown",
    "tags": []
   },
   "source": [
    "<div class=\"alert alert-block alert-warning\"> \n",
    "\n",
    "**1.5 -** Using your scatterplot, describe the relationship between graduation rates and student loan default rates. For instance, are these variables positively or negatively related? How can you tell? Does this corroborate your prediction from **Question 1.3**? Explain.\n",
    "\n",
    "</div>"
   ]
  },
  {
   "cell_type": "markdown",
   "metadata": {
    "cell_id": "85df45f83fad4c2e8d73ab684fe4a143",
    "deepnote_cell_type": "markdown",
    "tags": []
   },
   "source": [
    "**Double-click this cell to type your answer here:** ..."
   ]
  },
  {
   "cell_type": "markdown",
   "metadata": {
    "cell_id": "7ae55c6fa5dd411190fb185962cb47b1",
    "deepnote_cell_type": "markdown",
    "tags": []
   },
   "source": [
    "### 2.0 - Simple linear regression (one predictor)"
   ]
  },
  {
   "cell_type": "markdown",
   "metadata": {
    "cell_id": "05d39f635b984ea5b350b1d7e5c433a8",
    "deepnote_cell_type": "markdown",
    "tags": []
   },
   "source": [
    "<div class=\"alert alert-block alert-warning\"> \n",
    "\n",
    "**2.1 -** If you haven't taken AP Stats, watch <a href=\"https://youtu.be/hvWgu4A0VA4\">this video</a>, which provides an introduction to linear regression.\n",
    "\n",
    "**Note:** This video is adapted from other materials and covers data from a separate context. However, the video provides a good intro to the concepts and models we'll be using in this section of the project.\n",
    "\n",
    "</div>"
   ]
  },
  {
   "cell_type": "markdown",
   "metadata": {
    "cell_id": "01e94b7b300f49ce9df89bcda4dcf229",
    "deepnote_cell_type": "markdown",
    "tags": []
   },
   "source": [
    "<div class=\"alert alert-block alert-info\"><b>Instructor Note:</b> If your students want to cover the discussion question at the end of the video, you can download the handout key or slide deck from the <a href = \"https://skewthescript.org/3-2\">full Skew The Script lesson page</a>, which has useful teaching materials for covering the discussion question. Note: Covering the discussion question is not required for successful completion of this project.\n",
    "</div>"
   ]
  },
  {
   "cell_type": "markdown",
   "metadata": {
    "cell_id": "e8e5ac6cc6d048ecbbb2fa0cf936d4e7",
    "deepnote_cell_type": "markdown",
    "tags": []
   },
   "source": [
    "Let's create a linear regression model relating `pct_PELL` (x) and `default_rate` (y). To visualize our model, we can graph the line modeled by our equation on top of the scatterplot relating `pct_PELL` to `default_rate`. We use the seaborn `lmplot` command to produce the scatterplot and linear model. The attributes, `line_kws` and `scatter_kws` allow us to pass keyword arguements to each plot:"
   ]
  },
  {
   "cell_type": "code",
   "execution_count": null,
   "metadata": {
    "cell_id": "dc8deac5ed02477eaf73f9d44624900d",
    "deepnote_cell_type": "code",
    "deepnote_to_be_reexecuted": false,
    "execution_millis": 715,
    "execution_start": 1708730395453,
    "output_cleared": false,
    "source_hash": null,
    "tags": []
   },
   "outputs": [],
   "source": [
    "## Run this code but do not edit it\n",
    "# Overlay linear model of default_rate and pct_PELL on top of scatterplot\n",
    "# Scatterplot with regression line\n",
    "sns.lmplot(x='pct_PELL', y='default_rate', data=four_year_col, line_kws={'color': 'orange'}, scatter_kws={'alpha': 0.7})\n",
    "plt.title('Scatterplot with Linear Model: Default Rate vs Percentage of PELL')\n",
    "plt.show()"
   ]
  },
  {
   "cell_type": "markdown",
   "metadata": {
    "cell_id": "7e7f7d5c9d8d4c86b2f08e1aa91e90bc",
    "deepnote_cell_type": "markdown",
    "tags": []
   },
   "source": [
    "<div class=\"alert alert-block alert-warning\"> \n",
    "\n",
    "**2.2 -** Is the slope value of this model positive or negative? How can you tell?\n",
    "\n",
    "</div>"
   ]
  },
  {
   "cell_type": "markdown",
   "metadata": {
    "cell_id": "1acb72e9f93245ceb8b25a067e33ed1d",
    "deepnote_cell_type": "markdown",
    "tags": []
   },
   "source": [
    "**Double-click this cell to type your answer here:** ..."
   ]
  },
  {
   "cell_type": "markdown",
   "metadata": {
    "cell_id": "2964558c6f3c4b65ac59830e9204d442",
    "deepnote_cell_type": "markdown",
    "tags": []
   },
   "source": [
    "Python can help us find the equation that models this linear regression line. As shown in the video, we can model a linear trend between a predictor (x) and outcome (y) using this linear regression formula:\n",
    "\n",
    "$$\n",
    "\\hat{y} = \\beta_{0} + \\beta_{1}x\n",
    "$$\n",
    "Where:\n",
    "- $\\hat{y}$ (pronounced \"y hat\") is the predicted y-value (predicted outcome value)\n",
    "- $\\beta_{0}$ (pronounced \"beta zero\") is the y-intercept --> the predicted y-value (outcome value) when x = 0 (the predictor's value is 0)\n",
    "- $\\beta_{1}$ (pronounced \"beta 1\") is the slope --> the predicted change in y (outcome) for a 1-unit increase in x (predictor)\n",
    "- $x$ is the x-value (predictor value)\n",
    "\n",
    "To fit a linear regression model to a set of data in Python, we use another package called `statsmodels` that includes a set functions for under the name, `statsmodels.formula.api`. The  `ols` command stands for \"ordinary least squares.\" A method you hopefully used in high school math for determining a best-fit line in cases such as these! Here, we use `ols` to find the linear regression model relating `pct_PELL` (x) and `default_rate` (y). We then extract the y-intercept($\\beta_{0}$) and slope ($\\beta_{1}$) of best fit line. A common way to represent the relationship between variables is using the notation `default_rate ~ pct_PELL`, where the outcome variable (`default_rate`) is modeled as a function of the predictor variable (`pct_PELL`). We will use this notation frequently."
   ]
  },
  {
   "cell_type": "code",
   "execution_count": null,
   "metadata": {
    "cell_id": "9d6b39c636dd4ee4aa8e988cbd043f49",
    "deepnote_cell_type": "code",
    "deepnote_to_be_reexecuted": false,
    "execution_millis": 451,
    "execution_start": 1708730395717,
    "output_cleared": false,
    "source_hash": null,
    "tags": []
   },
   "outputs": [],
   "source": [
    "## Run this code but do not edit it\n",
    "# Create and display linear model: default_rate ~ pct_PELL\n",
    "pell_model = smf.ols(formula='default_rate ~ pct_PELL', data=four_year_col).fit()\n",
    "\n",
    "print(f\"Intercept: {pell_model.params['Intercept']}\")\n",
    "print(f\"Slope: {pell_model.params['pct_PELL']}\")"
   ]
  },
  {
   "cell_type": "markdown",
   "metadata": {
    "cell_id": "2b21f649ff634a7a979281c4fbc261c1",
    "deepnote_cell_type": "markdown",
    "tags": []
   },
   "source": [
    "The output of the `ols` command is a bit clunky, but here's what it means:\n",
    "- The `PELL_model.params['Intercept']` value is the y-intercept ($\\beta_{0}$)\n",
    "- The `PELL_model.params['pct_PELL']` value is the coefficient for the predictor. In other words, it's the slope ($\\beta_{1}$)\n",
    "\n",
    "So, our regression equation can be written as:\n",
    "\n",
    "$$\n",
    "\\hat{y} = -0.9327 + (0.1765)x\n",
    "$$"
   ]
  },
  {
   "cell_type": "markdown",
   "metadata": {
    "cell_id": "888345c4736943218aec7cbbcc259870",
    "deepnote_cell_type": "markdown",
    "tags": []
   },
   "source": [
    "<div class=\"alert alert-block alert-warning\"> \n",
    "\n",
    "**2.3 -** Identify the slope value and interpret what it means (in context).\n",
    "\n",
    "</div>"
   ]
  },
  {
   "cell_type": "markdown",
   "metadata": {
    "cell_id": "7ff97dd637e046c8986ca7847d0b06c5",
    "deepnote_cell_type": "markdown",
    "tags": []
   },
   "source": [
    "**Double-click this cell to type your answer here:** ..."
   ]
  },
  {
   "cell_type": "markdown",
   "metadata": {
    "cell_id": "28851f84b7894adf826e8fa0a26d85f0",
    "deepnote_cell_type": "markdown",
    "tags": []
   },
   "source": [
    "<div class=\"alert alert-block alert-warning\"> \n",
    "\n",
    "**2.4 -** Use the `seaborn` package, `lmplot` command to visualize a linear regression model for predicting `default_rate` (outcome) using `grad_rate` (predictor).\n",
    "\n",
    "</div>"
   ]
  },
  {
   "cell_type": "code",
   "execution_count": null,
   "metadata": {
    "cell_id": "4f6623ad67cd4b069857dc01f8a06a43",
    "deepnote_cell_type": "code",
    "deepnote_to_be_reexecuted": false,
    "execution_millis": 445,
    "execution_start": 1708730395723,
    "output_cleared": false,
    "source_hash": null,
    "tags": []
   },
   "outputs": [],
   "source": [
    "# Your code goes here\n",
    "..."
   ]
  },
  {
   "cell_type": "markdown",
   "metadata": {
    "cell_id": "d578e1887ff7448c85726d8f9da9490a",
    "deepnote_cell_type": "markdown"
   },
   "source": [
    "<div class=\"alert alert-block alert-info\">\n",
    "\n",
    "**Check yourself:** Your scatterplot should have a line on it with a negative slope.</div>"
   ]
  },
  {
   "cell_type": "markdown",
   "metadata": {
    "cell_id": "27187a08f29544d0a5bccc3f9da40545",
    "deepnote_cell_type": "markdown",
    "tags": []
   },
   "source": [
    "<div class=\"alert alert-block alert-warning\"> \n",
    "\n",
    "**2.5 -** Use the `statsmodel.formula.api` package's `ols` command to find the linear regression model you visualized above. Store the model in an object called `grad_model` and extract the Intercept and Slope as we did earlier.\n",
    "\n",
    "</div>"
   ]
  },
  {
   "cell_type": "code",
   "execution_count": null,
   "metadata": {
    "cell_id": "d3bb649e51cf4cb1b2a528eb7ad58408",
    "deepnote_cell_type": "code",
    "deepnote_to_be_reexecuted": false,
    "execution_millis": 521,
    "execution_start": 1708730395999,
    "output_cleared": false,
    "source_hash": null,
    "tags": []
   },
   "outputs": [],
   "source": [
    "# Your code goes here\n",
    "..."
   ]
  },
  {
   "cell_type": "markdown",
   "metadata": {
    "cell_id": "1eb786cea9794822ba0ed445139473ae",
    "deepnote_cell_type": "markdown"
   },
   "source": [
    "<div class=\"alert alert-block alert-info\">\n",
    "\n",
    "**Check yourself:** If you print out `grad_model`, you should see two numbers: 14.46 and -0.1584.</div>"
   ]
  },
  {
   "cell_type": "markdown",
   "metadata": {
    "cell_id": "df8c1bef2b8e47629b0f6bae90c2c7d9",
    "deepnote_cell_type": "markdown",
    "tags": []
   },
   "source": [
    "<div class=\"alert alert-block alert-warning\"> \n",
    "\n",
    "**2.6 -** Identify the slope value and interpret what it means (in context).\n",
    "\n",
    "</div>"
   ]
  },
  {
   "cell_type": "markdown",
   "metadata": {
    "cell_id": "9054dbb971e145e39cc3be0f02f57648",
    "deepnote_cell_type": "markdown",
    "tags": []
   },
   "source": [
    "**Double-click this cell to type your answer here:** ..."
   ]
  },
  {
   "cell_type": "markdown",
   "metadata": {
    "cell_id": "5c7b63a498f74e6d9e331db0ea5cf095",
    "deepnote_cell_type": "markdown",
    "tags": []
   },
   "source": [
    "### 3.0 - Analyzing strength $(R^2)$"
   ]
  },
  {
   "cell_type": "markdown",
   "metadata": {
    "cell_id": "2f50ab46d08d4198a4617d80424eb22c",
    "deepnote_cell_type": "markdown",
    "tags": []
   },
   "source": [
    "In addition to the direction of a relationship (positive or negative), we can also look at the **strength** of a relationship. The strength is a measure of the **quality of our model's predictions.** A key metric for analyzing the strength of a model is $R^2$. The following diagram (from <a href = \"https://skewthescript.org/3-3-a\">Skew The Script</a>) shows the $R^2$ values of various linear models:\n",
    "\n",
    "<img src=\"https://skewthescript.org/s/r_squared.PNG\">"
   ]
  },
  {
   "cell_type": "markdown",
   "metadata": {
    "cell_id": "2a8fb966f1194f35a12e8dbb486bdebd",
    "deepnote_cell_type": "markdown",
    "tags": []
   },
   "source": [
    "In the \"weak\" correlations, we see that our predictions (the linear model) tend to be far away from the actual data values (the points). If we used a model with weak correlation to predict **new** data values, our predictions would have high error. If we used a model with strong correlation to predict **new** data values, our predictions would have low error.\n",
    "\n",
    "$R^2$ takes values between 0 - 1 (alternatively: 0% - 100%). The stronger the model, the closer $R^2$ gets to 1 (or 100%). The weaker the model, the closer $R^2$ gets to 0 (or 0%). An intuitive way to think about it: for the perfectly strong correlations, the model gives 100% perfect predictions. The models explain 100% of the variation in the data, so $R^2 = 100\\%$. As the correlations get weaker, they start leaving room for error, since the models capture less of the variation in the data. So, the $R^2$ value declines from 100%, approaching 0% if there's no correlation (model adds no prediction power compared to naive guessing).\n",
    "\n",
    "**Optional Resource:** If you'd like a more thorough explanation of the math behind $R^2$, check out <a href=\"https://youtu.be/bMccdk8EdGo\">this video</a>."
   ]
  },
  {
   "cell_type": "markdown",
   "metadata": {
    "cell_id": "0208cb1b5a224104a623b579e5e63531",
    "deepnote_cell_type": "markdown",
    "tags": []
   },
   "source": [
    "To see the $R^2$ values of our linear regression models, we can use the `summary` command. For example, here we get the `summary` printout of `grad_model`."
   ]
  },
  {
   "cell_type": "code",
   "execution_count": null,
   "metadata": {
    "cell_id": "23e8ae5aa6c64e279295ccfeddf9aa6f",
    "deepnote_cell_type": "code",
    "deepnote_to_be_reexecuted": false,
    "execution_millis": 500,
    "execution_start": 1708730396020,
    "output_cleared": false,
    "source_hash": null,
    "tags": []
   },
   "outputs": [],
   "source": [
    "## Run this code but do not edit it\n",
    "# Summarize default_rate ~ grad_rate model\n",
    "grad_model.summary()"
   ]
  },
  {
   "cell_type": "markdown",
   "metadata": {
    "cell_id": "e2edef88ca8d4d779f9cd7d6f5f22bb4",
    "deepnote_cell_type": "markdown",
    "tags": []
   },
   "source": [
    "There's a lot going on in this printout. For now, focus at the top-right of the printed information. The `R-squared` value is the $R^2$ value for the model. In this case, $R^2 = 0.515$ or $51.5\\%$. So, we can say that the correlation between graduation rates and student loan default rates is moderately strong. This model would yield moderately strong predictions for default rates if used to predict on new colleges."
   ]
  },
  {
   "cell_type": "markdown",
   "metadata": {
    "cell_id": "7cf632a766f84685b47bfe3bc9ab3fee",
    "deepnote_cell_type": "markdown",
    "tags": []
   },
   "source": [
    "<div class=\"alert alert-block alert-warning\"> \n",
    "\n",
    "**3.1 -** Let's consider a new variable: `net_tuition` (tuition minus average discounts and allowances per student, in thousands of dollars). How well does a school's tuition predict its student loan default rate? Let's start exploring. Go ahead and create a scatterplot that visualizes the relationship between `net_tuition` (predictor) and `default_rate` (outcome). **Overlay a linear regression model on the graph** as we did earlier in the notebook.\n",
    "\n",
    "</div>"
   ]
  },
  {
   "cell_type": "code",
   "execution_count": null,
   "metadata": {
    "cell_id": "eb16bb89c8db4bed8d0834427d3694f7",
    "deepnote_cell_type": "code",
    "deepnote_to_be_reexecuted": false,
    "execution_millis": 479,
    "execution_start": 1708730396042,
    "output_cleared": false,
    "source_hash": null,
    "tags": []
   },
   "outputs": [],
   "source": [
    "# Your code goes here\n",
    "..."
   ]
  },
  {
   "cell_type": "markdown",
   "metadata": {
    "cell_id": "3ea70eb0b6c540efbc88801bf3422475",
    "deepnote_cell_type": "markdown",
    "tags": []
   },
   "source": [
    "<div class=\"alert alert-block alert-warning\"> \n",
    "\n",
    "**3.2 -** Use the `lm` command to find the linear regression model you visualized above. Store the model in an object called `tuition_model` and print out the model's values.\n",
    "\n",
    "</div>"
   ]
  },
  {
   "cell_type": "code",
   "execution_count": null,
   "metadata": {
    "cell_id": "ccba499ef97e4bac82d401e1be36031e",
    "deepnote_cell_type": "code",
    "deepnote_to_be_reexecuted": false,
    "execution_millis": 352,
    "execution_start": 1708730396359,
    "output_cleared": false,
    "source_hash": null,
    "tags": []
   },
   "outputs": [],
   "source": [
    "# Your code goes here\n",
    "..."
   ]
  },
  {
   "cell_type": "markdown",
   "metadata": {
    "cell_id": "5f817240b258480d8d86041a57f21a93",
    "deepnote_cell_type": "markdown"
   },
   "source": [
    "<div class=\"alert alert-block alert-info\">\n",
    "\n",
    "**Check yourself:** If you print out `tuition_model`, you should see two numbers: 8.0029 and -0.2077.</div>"
   ]
  },
  {
   "cell_type": "markdown",
   "metadata": {
    "cell_id": "b867f96b8e254b3087d0dee5e54337a9",
    "deepnote_cell_type": "markdown",
    "tags": []
   },
   "source": [
    "<div class=\"alert alert-block alert-warning\"> \n",
    "\n",
    "**3.3 -** Use the `summary` command to find the $R^2$ value of your linear model.\n",
    "\n",
    "</div>"
   ]
  },
  {
   "cell_type": "code",
   "execution_count": null,
   "metadata": {
    "cell_id": "463f4bdf637049b0b3226dd3aa2b1d47",
    "deepnote_cell_type": "code",
    "deepnote_to_be_reexecuted": false,
    "execution_millis": 352,
    "execution_start": 1708730396360,
    "output_cleared": false,
    "source_hash": null,
    "tags": []
   },
   "outputs": [],
   "source": [
    "# Your code goes here\n",
    "..."
   ]
  },
  {
   "cell_type": "markdown",
   "metadata": {
    "cell_id": "8b9c6c3fe6ee442a861e1516aa91e619",
    "deepnote_cell_type": "markdown"
   },
   "source": [
    "<div class=\"alert alert-block alert-info\">\n",
    "\n",
    "**Check yourself:** The $R^2$ value for `tuition_model` should be 0.1882.</div>"
   ]
  },
  {
   "cell_type": "markdown",
   "metadata": {
    "cell_id": "24da45aa24b64afb92eba1f3e8ad4a29",
    "deepnote_cell_type": "markdown",
    "tags": []
   },
   "source": [
    "<div class=\"alert alert-block alert-warning\"> \n",
    "\n",
    "**3.4 -** When evaluating different college options to predict if attending them would \"pay off,\" many students look very closely at the tuition and costs of attending. Very few students look at colleges' graduation rates. Is this reasonable or a mistake? Justify your answers using the $R^2$ values for the `grad_model` and `tuition_model`.\n",
    "\n",
    "</div>"
   ]
  },
  {
   "cell_type": "markdown",
   "metadata": {
    "cell_id": "e7c752a385ad4103a421043d7b87afe2",
    "deepnote_cell_type": "markdown",
    "tags": []
   },
   "source": [
    "**Double-click this cell to type your answer here:** ..."
   ]
  },
  {
   "cell_type": "markdown",
   "metadata": {
    "cell_id": "71be715b1f064a2aaee84c1b7cf6d724",
    "deepnote_cell_type": "markdown",
    "tags": []
   },
   "source": [
    "<div class=\"alert alert-block alert-warning\"> \n",
    "\n",
    "**3.5 -** The correlation between tuition costs and student loan default rates is **negative**. This means that as tuition costs get higher, **fewer** student tend to default on their student loans. Is that possible? What might be going on here?\n",
    "\n",
    "</div>"
   ]
  },
  {
   "cell_type": "markdown",
   "metadata": {
    "cell_id": "e0c70684f7804f5bb6366c262e37a038",
    "deepnote_cell_type": "markdown",
    "tags": []
   },
   "source": [
    "**Double-click this cell to type your answer here:** ..."
   ]
  },
  {
   "cell_type": "markdown",
   "metadata": {
    "cell_id": "88b6fd2d4f884fbd984aa06bf29f364e",
    "deepnote_cell_type": "markdown",
    "tags": []
   },
   "source": [
    "<div class=\"alert alert-block alert-info\">\n",
    "\n",
    "**Instructor Note:** Spend some time on discussing this question, since it provides a nice setup for the next notebook (multiple regression).\n",
    "</div>"
   ]
  },
  {
   "cell_type": "markdown",
   "metadata": {
    "cell_id": "893da1854c1344fea4ff762ff39a3f94",
    "deepnote_cell_type": "markdown"
   },
   "source": [
    "<div class=\"alert alert-block alert-success\">\n",
    "\n",
    "\n",
    "### Summer Opportunity: Do you want to learn more about Data Science & AI?\n",
    "Join our Data Science & AI Summer Bootcamp, where you'll take your learning from this project to the next level. **No prior coding or statistics experience required!** Designed by Harvard grads, the bootcamp allows students from all experience levels to dive deeper into data science concepts, from the basics (e.g. linear regression) to the advanced (e.g. AI neural networks). Students learn in a supportive and collaborative environment, and they walk away with their own real-world project that can be shared on college and internship applications.\n",
    "\n",
    "📢 Scholarships are available! We’re committed to making this opportunity accessible to all students.\n",
    "\n",
    "📝 Applications are considered on a rolling basis. Final application deadline: **May 30, 2025**\n",
    "\n",
    "🔗 Learn more and apply here: https://skewthescript.org/bootcamps\n",
    "</div>"
   ]
  },
  {
   "cell_type": "markdown",
   "metadata": {
    "created_in_deepnote_cell": true,
    "deepnote_cell_type": "markdown"
   },
   "source": [
    "<a style='text-decoration:none;line-height:16px;display:flex;color:#5B5B62;padding:10px;justify-content:end;' href='https://deepnote.com?utm_source=created-in-deepnote-cell&projectId=8f82fdea-532b-4a4b-9937-108d7206dda5' target=\"_blank\">\n",
    "<img alt='Created in deepnote.com' style='display:inline;max-height:16px;margin:0px;margin-right:7.5px;' src='data:image/svg+xml;base64,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' > </img>\n",
    "Created in <span style='font-weight:600;margin-left:4px;'>Deepnote</span></a>"
   ]
  }
 ],
 "metadata": {
  "deepnote_notebook_id": "a8599450be1f4bb98612a963f73a7992",
  "kernelspec": {
   "display_name": "venv",
   "language": "python",
   "name": "python3"
  },
  "language_info": {
   "codemirror_mode": {
    "name": "ipython",
    "version": 3
   },
   "file_extension": ".py",
   "mimetype": "text/x-python",
   "name": "python",
   "nbconvert_exporter": "python",
   "pygments_lexer": "ipython3",
   "version": "3.13.0"
  }
 },
 "nbformat": 4,
 "nbformat_minor": 0
}
