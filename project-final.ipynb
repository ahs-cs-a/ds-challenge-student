{
 "cells": [
  {
   "cell_type": "markdown",
   "metadata": {},
   "source": [
    "## Computer Science A Final Project\n",
    "\n",
    "For this final, you are constructing your own model from a dataset of your choice.\n",
    "\n",
    "\n"
   ]
  },
  {
   "cell_type": "markdown",
   "metadata": {},
   "source": [
    "#### Prerequisites\n",
    "\n",
    "Select the cell bellow and press **ctrl+enter** this should install everything required for this notebook."
   ]
  },
  {
   "cell_type": "code",
   "execution_count": null,
   "metadata": {},
   "outputs": [],
   "source": [
    "## Run this code but do not edit it. Hit Ctrl+Enter to run the code.\n",
    "# This command downloads a useful package of Python commands\n",
    "%pip install seaborn\n",
    "\n",
    "import pyodide_http\n",
    "pyodide_http.patch_all()\n",
    "\n",
    "import pandas as pd\n",
    "import numpy as np\n",
    "import statsmodels.formula.api as smf  # For statistical modeling\n",
    "import matplotlib.pyplot as plt  # For creating static visualizations\n",
    "import seaborn as sns  # For advanced data visualization\n",
    "\n",
    "import warnings\n",
    "warnings.filterwarnings(\"ignore\")\n"
   ]
  },
  {
   "cell_type": "markdown",
   "metadata": {},
   "source": [
    "## Final Project\n",
    "\n",
    "### Instructions:\n",
    "Your job is to find a dataset, explore the dataset as we did in Notebook #1, then attempt to build a model that relates to some target variable(column). "
   ]
  },
  {
   "cell_type": "markdown",
   "metadata": {},
   "source": [
    "#### Part 1: Find and Describe your dataset"
   ]
  },
  {
   "cell_type": "markdown",
   "metadata": {},
   "source": [
    "<div class=\"alert alert-block alert-warning\">\n",
    "\n",
    "**Your Task:** Go to [kaggle](https://www.kaggle.com/datasets) and find a dataset your are interested in exploring.\n",
    "\n",
    "</div>"
   ]
  },
  {
   "cell_type": "markdown",
   "metadata": {},
   "source": [
    "- *URL of dataset:* _[your answer]_"
   ]
  },
  {
   "cell_type": "markdown",
   "metadata": {},
   "source": [
    "<div class=\"alert alert-block alert-warning\">\n",
    "\n",
    "**Your Task:** Double-click the cell below and respond\n",
    "\n",
    "</div>"
   ]
  },
  {
   "cell_type": "markdown",
   "metadata": {},
   "source": [
    "- *One sentence description of dataset:* _[your answer[_"
   ]
  },
  {
   "cell_type": "code",
   "execution_count": null,
   "metadata": {},
   "outputs": [],
   "source": [
    "## Run this code but do not edit it. Hit Ctrl+Enter to run the code.\n",
    "# This command downloads data from a file -- this can be a URL or a file\n",
    "# your_data = pd.read_csv('https://url-to-dataset')\n",
    "# your_data = pd.read_csv('downloaded-data.csv')\n",
    "\n",
    "your_data = pd.read_csv('...')\n",
    "your_data.head()"
   ]
  },
  {
   "cell_type": "markdown",
   "metadata": {},
   "source": [
    "### Part 2. Explore the dataset\n",
    "\n",
    "Instructions:\n",
    "Using Notebook \\#1 from [Project 2](https://albanyusd.instructure.com/courses/992/assignments/571) as a reference, create a histogram, box plot and bar graph using your dataset.\n"
   ]
  },
  {
   "cell_type": "markdown",
   "metadata": {},
   "source": [
    "<div class=\"alert alert-block alert-warning\">\n",
    "\n",
    "**Your Task:** Histogram(s)\n",
    "\n",
    "</div>"
   ]
  },
  {
   "cell_type": "code",
   "execution_count": null,
   "metadata": {},
   "outputs": [],
   "source": []
  },
  {
   "cell_type": "markdown",
   "metadata": {},
   "source": [
    "<div class=\"alert alert-block alert-warning\">\n",
    "\n",
    "**Your Task:** Box Plot(s)\n",
    "\n",
    "</div>"
   ]
  },
  {
   "cell_type": "code",
   "execution_count": null,
   "metadata": {},
   "outputs": [],
   "source": []
  },
  {
   "cell_type": "markdown",
   "metadata": {},
   "source": [
    "<div class=\"alert alert-block alert-warning\">\n",
    "\n",
    "**Your Task:** Bar Graph(s)\n",
    "\n",
    "</div>"
   ]
  },
  {
   "cell_type": "code",
   "execution_count": null,
   "metadata": {},
   "outputs": [],
   "source": []
  },
  {
   "cell_type": "markdown",
   "metadata": {},
   "source": [
    "### Part 3. Build a Model for a Multiple Linear Regression\n",
    "\n",
    "Instructions:\n",
    "Using Notebook \\#2 and \\#3 from [Project 2](https://albanyusd.instructure.com/courses/992/assignments/571) build a multiple linear regression, display the slope, y-intercept and summary information including R<sup>2</sup>"
   ]
  },
  {
   "cell_type": "markdown",
   "metadata": {},
   "source": [
    "<div class=\"alert alert-block alert-warning\">\n",
    "\n",
    "**Your Task:** Model: Using sns.ols build model below.\n",
    "\n",
    "</div>"
   ]
  },
  {
   "cell_type": "code",
   "execution_count": null,
   "metadata": {},
   "outputs": [],
   "source": []
  },
  {
   "cell_type": "markdown",
   "metadata": {},
   "source": [
    "<div class=\"alert alert-block alert-warning\">\n",
    "\n",
    "**Your Task:** Slope, y-intercept, and summary information including R<sup>2</sup> \n",
    "\n",
    "</div>"
   ]
  },
  {
   "cell_type": "code",
   "execution_count": null,
   "metadata": {},
   "outputs": [],
   "source": []
  },
  {
   "cell_type": "markdown",
   "metadata": {},
   "source": [
    "### Part 4. Build a Model for a Polynomial Regression\n",
    "\n",
    "Instructions:\n",
    "Using Notebook \\#4 from [Project 2](https://albanyusd.instructure.com/courses/992/assignments/571) build a polynomial regression and display the summary information including R<sup>2</sup>"
   ]
  },
  {
   "cell_type": "markdown",
   "metadata": {},
   "source": [
    "<div class=\"alert alert-block alert-warning\">\n",
    "\n",
    "**Your Task:** Model: Using sns.ols build model below.\n",
    "\n",
    "</div>"
   ]
  },
  {
   "cell_type": "code",
   "execution_count": null,
   "metadata": {},
   "outputs": [],
   "source": []
  },
  {
   "cell_type": "markdown",
   "metadata": {},
   "source": [
    "<div class=\"alert alert-block alert-warning\">\n",
    "\n",
    "**Your Task:** Display thhe summary information including R<sup>2</sup> \n",
    "\n",
    "</div>"
   ]
  },
  {
   "cell_type": "code",
   "execution_count": null,
   "metadata": {},
   "outputs": [],
   "source": []
  },
  {
   "cell_type": "markdown",
   "metadata": {},
   "source": [
    "### Part 5.  Concluusion\n",
    "Instructions:\n",
    "In a few sentences, what can you conclude from this exploration."
   ]
  },
  {
   "cell_type": "markdown",
   "metadata": {},
   "source": [
    "<div class=\"alert alert-block alert-warning\">\n",
    "\n",
    "**Your Task:** Double-click the cell below and respond\n",
    "\n",
    "</div>"
   ]
  },
  {
   "cell_type": "markdown",
   "metadata": {},
   "source": [
    "_your_answer_here_"
   ]
  }
 ],
 "metadata": {
  "kernelspec": {
   "display_name": "Python 3 (ipykernel)",
   "language": "python",
   "name": "python3"
  },
  "language_info": {
   "codemirror_mode": {
    "name": "ipython",
    "version": 3
   },
   "file_extension": ".py",
   "mimetype": "text/x-python",
   "name": "python",
   "nbconvert_exporter": "python",
   "pygments_lexer": "ipython3",
   "version": "3.11.12"
  }
 },
 "nbformat": 4,
 "nbformat_minor": 4
}
