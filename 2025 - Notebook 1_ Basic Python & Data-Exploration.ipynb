{
 "cells": [
  {
   "cell_type": "markdown",
   "metadata": {
    "cell_id": "43dd28c833144b44aec2b7f007d0682a",
    "deepnote_cell_type": "markdown",
    "tags": []
   },
   "source": [
    "<div class=\"alert alert-block alert-info\"><b>Instructor Note:</b> This project is intended for AP Statistics and/or AP Computer Science students seeking to learn modern data science skills. We'll use data from the US Department of Education's <a href=\"https://collegescorecard.ed.gov/data/\">College Scorecard Database</a> to see which colleges are worth the price of admission. Instructions, walkthrough videos, and additional support for teachers can be found \n",
    "<a href=\"https://skewthescript.org/data-science-challenge\">here</a>.\n",
    "<br>In this notebook (the 1st of 4 total notebooks), students will...\n",
    "<li>Learn basic commands in the Python coding language </li><li>Calculate summary statistics from a large dataframe </li><li>Create various types of data visualizations</li></div>"
   ]
  },
  {
   "cell_type": "markdown",
   "metadata": {
    "cell_id": "88a2e06ba62b4d26950056920aaee62b",
    "deepnote_cell_type": "markdown",
    "tags": []
   },
   "source": [
    "<img src=\"https://skewthescript.org/s/grad_cap_money.jpg\">"
   ]
  },
  {
   "cell_type": "markdown",
   "metadata": {
    "cell_id": "bffab68c5a4940fabf4e9b62332f9573",
    "deepnote_cell_type": "markdown",
    "tags": []
   },
   "source": [
    "## Data Science Project: Use data to determine the best and worst colleges for conquering student debt.\n",
    "\n",
    "### Notebook 1: Basic Python Commands & Data Exploration\n",
    "\n",
    "Does college pay off? We'll use some of the latest data from the US Department of Education's <a href=\"https://collegescorecard.ed.gov/data/\">College Scorecard Database</a> to answer that question. In this first notebook, you'll get a gentle introduction to Python - a coding language used by data scientists to analyze large datasets. Then, you'll begin diving into the college scorecard data yourself. By the end of this notebook, you'll get a general sense of which colleges set up their graduates for success and which colleges ... don't."
   ]
  },
  {
   "cell_type": "code",
   "execution_count": null,
   "metadata": {
    "cell_id": "ecba02bbb74b40ea85238d672ba3874c",
    "deepnote_cell_type": "code",
    "deepnote_to_be_reexecuted": false,
    "execution_millis": 2879,
    "execution_start": 1709818454469,
    "is_output_hidden": false,
    "output_cleared": false,
    "source_hash": null,
    "tags": []
   },
   "outputs": [],
   "source": [
    "%pip install seaborn\n",
    "\n",
    "import pyodide_http\n",
    "pyodide_http.patch_all()\n",
    "\n",
    "import pandas as pd # For data manipulation\n",
    "import seaborn as sns  # For advanced data visualization\n"
   ]
  },
  {
   "cell_type": "markdown",
   "metadata": {
    "cell_id": "661b6579bcd7446faad4ce4a4060f37f",
    "deepnote_cell_type": "markdown",
    "tags": []
   },
   "source": [
    "### 1.0 - Exploring the dataset"
   ]
  },
  {
   "cell_type": "markdown",
   "metadata": {
    "cell_id": "dcd3c7df32ed40b39ec43b8579446e1c",
    "deepnote_cell_type": "markdown",
    "tags": []
   },
   "source": [
    "<div class=\"alert alert-block alert-info\"><b>Instructor Note:</b> Emphasize for students that the first step in any analysis is to explore the dataframe, familiarize yourself with the key variables, and look for inconsistencies. This section will introduce students to the Python commands they need for these tasks.\n",
    "</div>"
   ]
  },
  {
   "cell_type": "markdown",
   "metadata": {
    "cell_id": "ffe465ec913c49a6b79d1384117b8b50",
    "deepnote_cell_type": "markdown",
    "tags": []
   },
   "source": [
    "To begin, let's download our data. Our full dataset is included in a file named `colleges.csv`, which we are retrieving from a public Github respository we are using to store data files. The command below downloads the data from the file and stores it into a the pandas dataframe object called `colleges`. The python package, pandas, is useful for data manipulation and analysis."
   ]
  },
  {
   "cell_type": "code",
   "execution_count": null,
   "metadata": {
    "cell_id": "78bc87aa9d6a453b8b7def68880d77b3",
    "deepnote_cell_type": "code",
    "deepnote_to_be_reexecuted": false,
    "execution_millis": 613,
    "execution_start": 1709818457368,
    "output_cleared": false,
    "source_hash": null,
    "tags": []
   },
   "outputs": [],
   "source": [
    "## Run this code but do not edit it. Hit Ctrl+Enter to run the code\n",
    "# This command downloads data and stores it in the object `colleges`\n",
    "colleges = pd.read_csv('https://ds-modules.github.io/ds-challenge-assets/colleges.csv')"
   ]
  },
  {
   "cell_type": "markdown",
   "metadata": {
    "cell_id": "0056ace2c3e54d55ade6967af4e218b2",
    "deepnote_cell_type": "markdown",
    "tags": []
   },
   "source": [
    "The `=` operator is used to store values. For example, `x = 10` stores the value of 10 in `x`, meaning the value 10 is saved in the python variable `x`.\n",
    "\n",
    "To get a quick view of the dataframe (`colleges`), we can use the `head` command to print out its first several rows."
   ]
  },
  {
   "cell_type": "code",
   "execution_count": null,
   "metadata": {
    "cell_id": "af2990e3d0044fc495f60b0bc839ba78",
    "deepnote_cell_type": "code",
    "deepnote_to_be_reexecuted": false,
    "execution_millis": 270,
    "execution_start": 1709818457986,
    "output_cleared": false,
    "source_hash": null,
    "tags": []
   },
   "outputs": [],
   "source": [
    "## Run this code but do not edit it. Hit Ctrl+Enter to run the code\n",
    "# This command prints out the first several rows of the dataset\n",
    "colleges.head()"
   ]
  },
  {
   "cell_type": "markdown",
   "metadata": {
    "cell_id": "bfe4ebb8b4c8481b8c71ad198aa9f649",
    "deepnote_cell_type": "markdown",
    "tags": []
   },
   "source": [
    "The vertical columns of the dataframe are called `variables`, and their elements are called `values`. For example, the variable `city` has values `Normal`, `Birmingham`, `Montgomery`, `Huntsville`, etc. \n",
    "\n",
    "The horizontal rows of the dataframe are called `observations`. For example, the first observation is `Alabama A & M University`, which is located in `AL` (Alabama), in the city of `Normal`, and has a median student debt of `$15,250`. For this dataframe, each observation describes a specific college."
   ]
  },
  {
   "cell_type": "markdown",
   "metadata": {
    "cell_id": "03b7555101014252876ef5b866fd2406",
    "deepnote_cell_type": "markdown",
    "tags": []
   },
   "source": [
    "<div class=\"alert alert-block alert-warning\">\n",
    "\n",
    "**1.1 -** Of the variables displayed, identify one that is quantitative, one that is categorical, and one that is a unique identifier.\n",
    "\n",
    "</div>"
   ]
  },
  {
   "cell_type": "markdown",
   "metadata": {
    "cell_id": "b028ffdaa8d04a0b9bc81b44b0a8b6d3",
    "deepnote_cell_type": "markdown",
    "tags": []
   },
   "source": [
    "**Double-click to type a response:** ..."
   ]
  },
  {
   "cell_type": "markdown",
   "metadata": {
    "cell_id": "86e2fd792613493298f90ef47a77e52b",
    "deepnote_cell_type": "markdown",
    "tags": []
   },
   "source": [
    "<div class=\"alert alert-block alert-info\"><b>Instructor Note:</b> Here's our delineation and reasoning for the first several variables. Helping students develop their ability to classify the variables will be helpful for the decisions they make later in the data analysis process.\n",
    "\n",
    "- `OPEID` --> unique identifier | Reasoning: this is an ID number that is specific to each college\n",
    "- `name` --> unique identifier | Reasoning: this is specific to each college\n",
    "- `city` --> categorical | Reasoning: multiple colleges can be located in the same city (same category), and city names have no inherent order (e.g. 'Birmingham' does not have inherently more/less value than 'Montgomery')\n",
    "- `state` --> categorical | Reasoning: multiple colleges can be located in the same state (same category), and state names have no inherent order (e.g. 'Alabama' does not have inherently more/less value than 'California')\n",
    "- `region` --> categorical | Reasoning: multiple colleges can be located in the same region (same category), and region names have no inherent order (e.g. 'South' does not have inherently more/less value than 'Northeast')\n",
    "- `median_debt` --> quantitative | Reasoning: it's numeric and the values have an inherent order (2,000 dollars is more debt than 1,000 dollars).\n",
    "- `default_rate` --> quantitative | Reasoning: it's numeric and the values have an inherent order (a 20% default rate is higher than a 10% default rate).\n",
    "- `highest_degree` --> categorical | Reasoning: although it can be argued that it's ordered (e.g. a 'Graduate' degree is higher than a 'Associates' degree), the values are not numerical and cannot be analyzed using quantitative techniques. For example, you can't find the mean of the values 'Graduate', 'Bachelors', and 'Associates'. Some data scientists argue that we can assign numerical values (e.g. 1, 2, 3) to the degree types and analyze them as quantitative, 'ordered categorical', or 'ordinal' values, but we're going to stick with categorical to keep things simple for students at this stage.\n",
    "</div>"
   ]
  },
  {
   "cell_type": "markdown",
   "metadata": {
    "cell_id": "65fbbbc5495e480497c9934c62d4d0ed",
    "deepnote_cell_type": "markdown",
    "tags": []
   },
   "source": [
    "The `head` command only displays several rows of the dataframe. To see the full dimensions of the dataframe, we can use the `shape` command.\n",
    "\n",
    "<div class=\"alert alert-block alert-warning\"> \n",
    "\n",
    "**1.2 -** Use the `shape` command on `colleges` to display the dimensions of the dataframe. The command follows this syntax: `name_of_dataframe.shape`\n",
    "\n",
    "</div>"
   ]
  },
  {
   "cell_type": "code",
   "execution_count": null,
   "metadata": {
    "cell_id": "fb6a15cafd1244ca8c12503c9d7e57b6",
    "deepnote_cell_type": "code",
    "deepnote_to_be_reexecuted": false,
    "execution_millis": 802,
    "execution_start": 1709818458013,
    "output_cleared": false,
    "source_hash": null,
    "tags": []
   },
   "outputs": [],
   "source": [
    "# Your code goes here\n",
    "# Check the dimensions of the dataset\n",
    "..."
   ]
  },
  {
   "cell_type": "markdown",
   "metadata": {
    "cell_id": "c6f5e9b948b2444ab36a8e386317ba97",
    "deepnote_cell_type": "markdown"
   },
   "source": [
    "<div class=\"alert alert-block alert-info\">\n",
    "\n",
    "**Check yourself:** Your code should have printed out two numbers: 4435 and 26.</div>"
   ]
  },
  {
   "cell_type": "markdown",
   "metadata": {
    "cell_id": "21ff8c92a0ab4050a331ad2f40d1afca",
    "deepnote_cell_type": "markdown",
    "tags": []
   },
   "source": [
    "The first number outputted by `shape` is the number of horizontal rows in the dataframe. This represents the number of observations (number of colleges). The second number is the number of vertical columns in the dataframe. This represents the number of variables. What are all these variables? See the description of the dataset below, along with links to descriptions of all the variables."
   ]
  },
  {
   "cell_type": "markdown",
   "metadata": {
    "cell_id": "5309786683b44458b44ccd386bca9d4e",
    "deepnote_cell_type": "markdown",
    "tags": []
   },
   "source": [
    "<div class=\"alert alert-block alert-success\">\n",
    "\n",
    "### The Dataset\n",
    "\n",
    "**General description** - The US Department of Education's <a href=\"https://collegescorecard.ed.gov/data/\">College Scorecard Database</a> shows various metrics of cost, enrollment, size, student debt, student demographics, and alumni success. It describes almost every University, college, community college, trade school, and certificate program in the United States. The data is current as of the 2020-2021 school year.\n",
    "\n",
    "**Description of all variables:** See <a href=\"https://docs.google.com/document/d/1C3eR6jZQ2HNbB5QkHaPsBfOcROZRcZ0FtzZZiyyS9sQ/edit\">here</a>\n",
    "\n",
    "**Detailed data file description:** See <a href=\"https://docs.google.com/spreadsheets/d/1fa_Bd3_eYEmxvKPcu3hK2Dgazdk-9bkeJwONMS6u43Q/edit?usp=sharing\">here</a></div>"
   ]
  },
  {
   "cell_type": "markdown",
   "metadata": {
    "cell_id": "bcabaef538014a23bd5de218e20e6ac6",
    "deepnote_cell_type": "markdown",
    "tags": []
   },
   "source": [
    "With such a large dataset, to make your life easier, you may want to work with only a few variables at a time. In the following code, we use two sets of square brackets to select only the variables(columns!) `name`, `median_debt`, `ownership`, `admit_rate`, and `hbcu` and save them in a new dataframe called `colleges_example`."
   ]
  },
  {
   "cell_type": "code",
   "execution_count": null,
   "metadata": {
    "cell_id": "0a7ad19c8f4b43caa5e4459ee26a63f2",
    "deepnote_cell_type": "code",
    "deepnote_to_be_reexecuted": false,
    "execution_millis": 789,
    "execution_start": 1709818458026,
    "output_cleared": false,
    "source_hash": null,
    "tags": []
   },
   "outputs": [],
   "source": [
    "## Run this code but do not edit it\n",
    "# Select certain columns from dat, store into example_dat\n",
    "colleges_example = colleges[['name', 'median_debt', 'ownership', 'admit_rate', 'hbcu']]\n",
    "colleges_example.head()\n"
   ]
  },
  {
   "cell_type": "markdown",
   "metadata": {
    "cell_id": "cbe5674bb552412db6ae0edb572b4fc1",
    "deepnote_cell_type": "markdown",
    "tags": []
   },
   "source": [
    "<div class=\"alert alert-block alert-warning\"> \n",
    "\n",
    "**1.3 -** Use the double set of square brackets to select the variables `name`, `region`, `default_rate`, `ownership`, and `pct_PELL` from `colleges`. Store your new dataframe in an object called `my_df` and display its head.\n",
    "\n",
    "</div>"
   ]
  },
  {
   "cell_type": "code",
   "execution_count": null,
   "metadata": {
    "cell_id": "6a055a0a56424394a55c18848890ffc8",
    "deepnote_cell_type": "code",
    "deepnote_to_be_reexecuted": false,
    "execution_millis": 711,
    "execution_start": 1709818458104,
    "output_cleared": false,
    "source_hash": null,
    "tags": []
   },
   "outputs": [],
   "source": [
    "# Your code goes here\n",
    "...\n"
   ]
  },
  {
   "cell_type": "markdown",
   "metadata": {
    "cell_id": "f202b7f5b2c447b0824a326c4bacb1d3",
    "deepnote_cell_type": "markdown",
    "tags": []
   },
   "source": [
    "In addition to filtering out columns (variables), we can also filter out rows (observations). For example, if I only wanted to analyze colleges that are HBCUs and that have an admissions rate below than 40%, I can use a conditional statement on `colleges_example` like this:"
   ]
  },
  {
   "cell_type": "code",
   "execution_count": null,
   "metadata": {
    "cell_id": "cf4368b57070462a8cbaee75e3fe867b",
    "deepnote_cell_type": "code",
    "deepnote_to_be_reexecuted": false,
    "execution_millis": 711,
    "execution_start": 1709818458105,
    "output_cleared": false,
    "source_hash": null,
    "tags": []
   },
   "outputs": [],
   "source": [
    "## Run this code but do not edit it\n",
    "# Subset colleges_example to only HBCUs with admissions rates lower than 40%\n",
    "subset_1 = colleges_example[(colleges_example['hbcu'] == 'Yes') & (colleges_example['admit_rate'] < 40)]\n",
    "subset_1"
   ]
  },
  {
   "cell_type": "markdown",
   "metadata": {
    "cell_id": "db55e6559c134af886db9e0398115c57",
    "deepnote_cell_type": "markdown",
    "tags": []
   },
   "source": [
    "A total of 7 colleges fit these conditions.\n",
    "\n",
    "Note that Python has different conventions for comparative statements. For example...\n",
    "- `==` means `equals exactly`\n",
    "- `!=` means `does not equal`\n",
    "- `<` means `less than`\n",
    "- `>` means `greater than`\n",
    "- `<=` means `less than or equal to`\n",
    "- `>=` means `greater than or equal to`\n",
    "\n",
    "Here are some other common conditional symbols\n",
    "- `|` means `or`\n",
    "- `&` means `and`"
   ]
  },
  {
   "cell_type": "markdown",
   "metadata": {
    "cell_id": "c874d401ac134f348e0985f962c8a8c3",
    "deepnote_cell_type": "markdown",
    "tags": []
   },
   "source": [
    "<div class=\"alert alert-block alert-warning\"> \n",
    "\n",
    "**1.4 -** Use conditional statement to find the colleges in `my_df` that are located in the `Midwest` region of the United States and have more than a third of their students (greater than 33%) default on their loans.\n",
    "\n",
    "</div>"
   ]
  },
  {
   "cell_type": "code",
   "execution_count": null,
   "metadata": {
    "cell_id": "0e1c7eccf3894b558e6ab7e60452a17b",
    "deepnote_cell_type": "code",
    "deepnote_to_be_reexecuted": false,
    "execution_millis": 660,
    "execution_start": 1709818458156,
    "output_cleared": false,
    "source_hash": null,
    "tags": []
   },
   "outputs": [],
   "source": [
    "# Your code goes here\n",
    "..."
   ]
  },
  {
   "cell_type": "markdown",
   "metadata": {
    "cell_id": "f505c7b6448940849c4f946166532e5e",
    "deepnote_cell_type": "markdown"
   },
   "source": [
    "<div class=\"alert alert-block alert-info\">\n",
    "\n",
    "**Check yourself:** You should find that 2 schools match your selection criteria.</div>"
   ]
  },
  {
   "cell_type": "markdown",
   "metadata": {
    "cell_id": "dda3041cd2584e98a77fea14d71b6bcc",
    "deepnote_cell_type": "markdown",
    "tags": []
   },
   "source": [
    "<div class=\"alert alert-block alert-warning\"> \n",
    "\n",
    "**1.5 -** What do you notice about the observations that fit your selection criteria? What do you wonder?\n",
    "\n",
    "</div>"
   ]
  },
  {
   "cell_type": "markdown",
   "metadata": {
    "cell_id": "628ee661f5f947a0acb9233c54e1cd90",
    "deepnote_cell_type": "markdown",
    "tags": []
   },
   "source": [
    "**Double-click to type a response:** ..."
   ]
  },
  {
   "cell_type": "markdown",
   "metadata": {
    "cell_id": "16d877685a3d4bec9cefc12730fe9b95",
    "deepnote_cell_type": "markdown"
   },
   "source": [
    "Suppose you're interested in a particular college, such as Howard University. We can use a conditional statement to filter the `colleges_example` dataframe and focus solely on the information pertaining to that college."
   ]
  },
  {
   "cell_type": "code",
   "execution_count": null,
   "metadata": {
    "cell_id": "10694dea545c480f81fd02ff20babd3d",
    "deepnote_cell_type": "code",
    "deepnote_to_be_reexecuted": false,
    "execution_millis": 660,
    "execution_start": 1709818458157,
    "source_hash": null
   },
   "outputs": [],
   "source": [
    "## Run this code but do not edit it\n",
    "# Subset colleges_example to only show Howard University\n",
    "subset_3 = colleges_example[colleges_example['name'] == \"Howard University\"]\n",
    "subset_3"
   ]
  },
  {
   "cell_type": "markdown",
   "metadata": {
    "cell_id": "740358163ab8481dbbe80c9b412434c1",
    "deepnote_cell_type": "markdown"
   },
   "source": [
    "<div class=\"alert alert-block alert-warning\"> \n",
    "\n",
    "**1.6 -** Select a college that interests you. Then use conditional statement to locate and extract information about the college from `my_df`. **Note:** The exact spelling of the names of all the colleges in the dataset can be found <a href=\"https://docs.google.com/spreadsheets/d/1gdLqIbMl2zF1JrCGvGB6Z3XCFR_368dd2S97Hja-E60/edit?usp=sharing\">here</a>.\n",
    "\n",
    "\n",
    "</div>"
   ]
  },
  {
   "cell_type": "code",
   "execution_count": null,
   "metadata": {
    "cell_id": "26fbece1f834473abada09b20bcad53e",
    "deepnote_cell_type": "code",
    "deepnote_to_be_reexecuted": false,
    "execution_millis": 657,
    "execution_start": 1709818458160,
    "source_hash": null
   },
   "outputs": [],
   "source": [
    "# Your code goes here\n",
    "..."
   ]
  },
  {
   "cell_type": "markdown",
   "metadata": {
    "cell_id": "2e8075b2a2cf4a1d89fdf9ae11d6f821",
    "deepnote_cell_type": "markdown",
    "tags": []
   },
   "source": [
    "One further way to explore a dataset is to reorder its observations. For example, we can use the `sort_values` command to order the colleges in `colleges_example` by their admission rate:"
   ]
  },
  {
   "cell_type": "code",
   "execution_count": null,
   "metadata": {
    "cell_id": "790428323fdd44f1a68c2718f0ae2b04",
    "deepnote_cell_type": "code",
    "deepnote_to_be_reexecuted": false,
    "execution_millis": 598,
    "execution_start": 1709818458219,
    "output_cleared": false,
    "source_hash": null,
    "tags": []
   },
   "outputs": [],
   "source": [
    "## Run this code but do not edit it\n",
    "# Arrange data in order of their admission rates\n",
    "admit_rate = colleges_example.sort_values(by='admit_rate')\n",
    "admit_rate"
   ]
  },
  {
   "cell_type": "markdown",
   "metadata": {
    "cell_id": "b2ff333e47004a12b24f8ecf999e49d1",
    "deepnote_cell_type": "markdown",
    "tags": []
   },
   "source": [
    "As we can see, the most selective schools now top the list. You'll see some `NA` values from `admit_rate` at the bottom of the arranged dataset. These are missing values, which we'll discuss later.\n",
    "\n",
    "To arrange the data in descending order of admission rates (highest admission rates on top), we can use the `ascending=False` argument within our `sort_values` command:"
   ]
  },
  {
   "cell_type": "code",
   "execution_count": null,
   "metadata": {
    "cell_id": "ac6a6de451bd4129bd79cc76e934934b",
    "deepnote_cell_type": "code",
    "deepnote_to_be_reexecuted": false,
    "execution_millis": 1064,
    "execution_start": 1709818458260,
    "output_cleared": false,
    "source_hash": null,
    "tags": []
   },
   "outputs": [],
   "source": [
    "## Run this code but do not edit it\n",
    "# Arrange data in descending order of their admission rates\n",
    "desc_admit_rate = colleges_example.sort_values(by='admit_rate', ascending=False)\n",
    "desc_admit_rate"
   ]
  },
  {
   "cell_type": "markdown",
   "metadata": {
    "cell_id": "bed2f2902d114699a5526b68cb105782",
    "deepnote_cell_type": "markdown",
    "tags": []
   },
   "source": [
    "<div class=\"alert alert-block alert-warning\"> \n",
    "\n",
    "**1.7 -** Use the `sort_values` command to organize the colleges in `my_df` such that the colleges with the highest student loan default rates are at the top.\n",
    "\n",
    "</div>"
   ]
  },
  {
   "cell_type": "code",
   "execution_count": null,
   "metadata": {
    "cell_id": "6d3da2435f1640919fdc534f85208dfa",
    "deepnote_cell_type": "code",
    "deepnote_to_be_reexecuted": false,
    "execution_millis": 999,
    "execution_start": 1709818458326,
    "output_cleared": false,
    "source_hash": null,
    "tags": []
   },
   "outputs": [],
   "source": [
    "# Your code goes here\n",
    "..."
   ]
  },
  {
   "cell_type": "markdown",
   "metadata": {
    "cell_id": "8e843e7c652f4413b1a5a1be045ba6f4",
    "deepnote_cell_type": "markdown",
    "tags": []
   },
   "source": [
    "<div class=\"alert alert-block alert-warning\"> \n",
    "\n",
    "**1.8 -** What patterns do you notice among the programs that have the highest student loan default rates? What do you wonder?\n",
    "\n",
    "</div>"
   ]
  },
  {
   "cell_type": "markdown",
   "metadata": {
    "cell_id": "dd06ad64e44a41f5bc5af5c319ed3d0e",
    "deepnote_cell_type": "markdown",
    "tags": []
   },
   "source": [
    "**Double-click to type a response:** ..."
   ]
  },
  {
   "cell_type": "markdown",
   "metadata": {
    "cell_id": "3b359f72e01b4a8cbb2370bc091cfba3",
    "deepnote_cell_type": "markdown"
   },
   "source": [
    "<div class=\"alert alert-block alert-success\">\n",
    "\n",
    "**Reference Guide for Python (student resource) -** Now that you've seen a number of different commands in Python and the pandas package, check out our <a href = \"https://docs.google.com/document/d/1DaWN9HWInSBxSMhU0b5BetHlBM4n-ylqDiA8SJrhb7c/edit?usp=sharing\">reference guide</a> for a full listing of useful Python commands for this project. \n",
    "\n",
    "<div>"
   ]
  },
  {
   "cell_type": "markdown",
   "metadata": {
    "cell_id": "c5fae9e4a8a54b11be402e702150d2eb",
    "deepnote_cell_type": "markdown",
    "tags": []
   },
   "source": [
    "### 2.0 - Finding summary statistics"
   ]
  },
  {
   "cell_type": "markdown",
   "metadata": {
    "cell_id": "d5e4c771815b4cc5b18284e3696f4fda",
    "deepnote_cell_type": "markdown",
    "tags": []
   },
   "source": [
    "When analyzing variables of interest, it's often helpful to calculate summary statistics. For quantitative variables, we can use the `describe` command to find the five-number summary (minimum, Q1, median, Q3, maximum) and the average (mean) of the values. The code block shows how we find these summary statistics for the `admit_rate` variable. \n",
    "\n",
    "**Note:** The `colleges_example['admit_rate']` in pandas is used to isolate a single variable (`admit_rate`) from a full dataframe (`colleges_example`)."
   ]
  },
  {
   "cell_type": "code",
   "execution_count": null,
   "metadata": {
    "cell_id": "277ee7f0bd334bf0bb69563246f2aff1",
    "deepnote_cell_type": "code",
    "deepnote_to_be_reexecuted": false,
    "execution_millis": 932,
    "execution_start": 1709818458393,
    "output_cleared": false,
    "source_hash": null,
    "tags": []
   },
   "outputs": [],
   "source": [
    "## Run this code but do not edit it\n",
    "# Find summary statistics for admit_rate\n",
    "admit_rate_summary = colleges_example['admit_rate'].describe()\n",
    "admit_rate_summary"
   ]
  },
  {
   "cell_type": "markdown",
   "metadata": {
    "cell_id": "945fddd268344f07b99a7b66609e0ce3",
    "deepnote_cell_type": "markdown",
    "tags": []
   },
   "source": [
    "<div class=\"alert alert-block alert-info\"><b>Instructor Note:</b> If students are unfamiliar with calculating or interpreting medians and quartiles, we recommend <a href = \"https://www.khanacademy.org/math/cc-sixth-grade-math/cc-6th-data-statistics/cc-6th-box-whisker-plots/v/constructing-a-box-and-whisker-plot\">this video</a> from Khan Academy (quick refresher) or <a href = \"https://skewthescript.org/1-5\">this lesson</a> from Skew The Script (detailed lesson with real-world context).\n",
    "</div>"
   ]
  },
  {
   "cell_type": "markdown",
   "metadata": {
    "cell_id": "b6c03265dd9549dabd1b87272a0cdac1",
    "deepnote_cell_type": "markdown",
    "tags": []
   },
   "source": [
    "A few interesting facts about `admit_rate` that are revealed by this summary:\n",
    "- As expected, no schools have a 0% admissions rate (the minimum admissions rate is 2.4%). \n",
    "- The maximum admissions rate was 100%. So, there's at least one school that admits every applicant.\n",
    "- The first quartile (Q1) is a 59.79% admissions rate. This means **only 25% of schools** have admissions rates lower than 59.79%. \n",
    "- For 2,731 schools, we have missing data. R uses the sybmol `NA` to represent missing values. If we use `admit_rate` in future analyses, we should pay attention to which schools have missing data and, ideally, investigate why their data is missing."
   ]
  },
  {
   "cell_type": "markdown",
   "metadata": {
    "cell_id": "6729445d53c14fe689c68ec8da5e08d9",
    "deepnote_cell_type": "markdown",
    "tags": []
   },
   "source": [
    "<div class=\"alert alert-block alert-warning\"> \n",
    "\n",
    "**2.1 -** Use the `describe` command to get summary statistics for the `default_rate` variable in the `colleges` dataframe.\n",
    "\n",
    "</div>"
   ]
  },
  {
   "cell_type": "code",
   "execution_count": null,
   "metadata": {
    "cell_id": "5eb89182cde0430cb30d020bb5532750",
    "deepnote_cell_type": "code",
    "deepnote_to_be_reexecuted": false,
    "execution_millis": 932,
    "execution_start": 1709818458394,
    "output_cleared": false,
    "source_hash": null,
    "tags": []
   },
   "outputs": [],
   "source": [
    "# Your code goes here\n",
    "..."
   ]
  },
  {
   "cell_type": "markdown",
   "metadata": {
    "cell_id": "bb84845694c8460e9ef09effb88d2cdd",
    "deepnote_cell_type": "markdown"
   },
   "source": [
    "<div class=\"alert alert-block alert-info\">\n",
    "\n",
    "**Check yourself:** The median should be 8.20</div>"
   ]
  },
  {
   "cell_type": "markdown",
   "metadata": {
    "cell_id": "915b241c2a674badb9c07e3580e9b7bc",
    "deepnote_cell_type": "markdown",
    "tags": []
   },
   "source": [
    "<div class=\"alert alert-block alert-warning\"> \n",
    "\n",
    "**2.2 -** Comment on what these summary statistics reveal about the `default_rate` values in our dataset.\n",
    "\n",
    "</div>"
   ]
  },
  {
   "cell_type": "markdown",
   "metadata": {
    "cell_id": "b8ccaa9712f245fa8812d145c6b2d37b",
    "deepnote_cell_type": "markdown",
    "tags": []
   },
   "source": [
    "**Double-click to type a response:**\n",
    "..."
   ]
  },
  {
   "cell_type": "markdown",
   "metadata": {
    "cell_id": "8fd6f1a2d0e147f3aa406ced2e004497",
    "deepnote_cell_type": "markdown",
    "tags": []
   },
   "source": [
    "For categorical data, it doesn't make sense to find means and medians. Instead, it's helpful to look at value counts and proportions. We can use the `table` command to find the counts of the different values for `highest_degree`:"
   ]
  },
  {
   "cell_type": "code",
   "execution_count": null,
   "metadata": {
    "cell_id": "dfa5b93137d247d7a1d11cd3c835126b",
    "deepnote_cell_type": "code",
    "deepnote_to_be_reexecuted": false,
    "execution_millis": 917,
    "execution_start": 1709818458409,
    "output_cleared": false,
    "source_hash": null,
    "tags": []
   },
   "outputs": [],
   "source": [
    "## Run this code but do not edit it\n",
    "# Find counts of values for highest_degree, store in object 'degree_counts'\n",
    "degree_counts = colleges['highest_degree'].value_counts()\n",
    "degree_counts"
   ]
  },
  {
   "cell_type": "markdown",
   "metadata": {
    "cell_id": "c337fa6da2c34dc2ace2344f5fd58fe0",
    "deepnote_cell_type": "markdown",
    "tags": []
   },
   "source": [
    "1464 of the institutions in our dataset are Universities that offer graduate degrees. On the other end of the spectrum, 1374 of the institutions aren't Universities at all. Rather, they are career-oriented programs that offer trade certificates. \n",
    "\n",
    "To get a better sense of scale, we can turn these raw counts into proportions by dividing them by the total:"
   ]
  },
  {
   "cell_type": "code",
   "execution_count": null,
   "metadata": {
    "cell_id": "bfe4eee6dbac48db89834fb393e3f137",
    "deepnote_cell_type": "code",
    "deepnote_to_be_reexecuted": false,
    "execution_millis": 889,
    "execution_start": 1709818458437,
    "output_cleared": false,
    "source_hash": null,
    "tags": []
   },
   "outputs": [],
   "source": [
    "## Run this code but do not edit it\n",
    "# Sum all counts in table, store in object 'total'\n",
    "total = degree_counts.sum()\n",
    "total"
   ]
  },
  {
   "cell_type": "code",
   "execution_count": null,
   "metadata": {
    "cell_id": "c7660bf3b4644fce8788d14bac3ca5d6",
    "deepnote_cell_type": "code",
    "deepnote_to_be_reexecuted": false,
    "execution_millis": 875,
    "execution_start": 1709818458452,
    "output_cleared": false,
    "source_hash": null,
    "tags": []
   },
   "outputs": [],
   "source": [
    "## Run this code but do not edit it\n",
    "# Divide the table by the total to get proportions\n",
    "degree_proportions = degree_counts / total\n",
    "degree_proportions"
   ]
  },
  {
   "cell_type": "markdown",
   "metadata": {
    "cell_id": "6e421d8ee78b48f38aead79fef726945",
    "deepnote_cell_type": "markdown",
    "tags": []
   },
   "source": [
    "As you can see, you can use Python just like a calculator. Addition, subtraction, multiplication, division ... it's all there. Universities offering graduate degrees make up about 33% of the institutions in our dataset. These are about three times more prevalent than 4-year colleges (Bachelors) that don't offer graduate degrees. "
   ]
  },
  {
   "cell_type": "markdown",
   "metadata": {
    "cell_id": "99a86f258f024f3bb521e5ce52766021",
    "deepnote_cell_type": "markdown",
    "tags": []
   },
   "source": [
    "<div class=\"alert alert-block alert-warning\"> \n",
    "\n",
    "**2.3 -** Isolate the `ownership` variable from the `colleges` data frame and retrieve the value counts for the `ownership` variable.\n",
    "\n",
    "</div>"
   ]
  },
  {
   "cell_type": "code",
   "execution_count": null,
   "metadata": {
    "cell_id": "d81bf68290534273b27b4b5ac9ea02a8",
    "deepnote_cell_type": "code",
    "deepnote_to_be_reexecuted": false,
    "execution_millis": 861,
    "execution_start": 1709818458466,
    "output_cleared": false,
    "source_hash": null,
    "tags": []
   },
   "outputs": [],
   "source": [
    "# Your code goes here\n",
    "..."
   ]
  },
  {
   "cell_type": "markdown",
   "metadata": {
    "cell_id": "9d0ef176cf634e80814f0afc4180b81b",
    "deepnote_cell_type": "markdown"
   },
   "source": [
    "<div class=\"alert alert-block alert-info\">\n",
    "\n",
    "**Check yourself:** There are 1539 public schools in the dataset</div>"
   ]
  },
  {
   "cell_type": "markdown",
   "metadata": {
    "cell_id": "0b1e1fe9cdaf4e94af4e08063c502396",
    "deepnote_cell_type": "markdown",
    "tags": []
   },
   "source": [
    "<div class=\"alert alert-block alert-warning\"> \n",
    "\n",
    "**2.4 -** Find the proportion of all institutions that are public, private nonprofit, and private for-profit.\n",
    "\n",
    "</div>"
   ]
  },
  {
   "cell_type": "code",
   "execution_count": null,
   "metadata": {
    "cell_id": "1b8a82545ee242c5b153db71ce140d06",
    "deepnote_cell_type": "code",
    "deepnote_to_be_reexecuted": false,
    "execution_millis": 32,
    "execution_start": 1709818503632,
    "output_cleared": false,
    "source_hash": null,
    "tags": []
   },
   "outputs": [],
   "source": [
    "# Your code goes here\n",
    "."
   ]
  },
  {
   "cell_type": "markdown",
   "metadata": {
    "cell_id": "0cbaddc730b44c95b150a8a71dbfbb95",
    "deepnote_cell_type": "markdown"
   },
   "source": [
    "<div class=\"alert alert-block alert-info\">\n",
    "\n",
    "**Check yourself:** About 34.7% of the schools in the dataset are public schools</div>"
   ]
  },
  {
   "cell_type": "markdown",
   "metadata": {
    "cell_id": "eec5393cf3244983aa6169c617bff6b9",
    "deepnote_cell_type": "markdown",
    "tags": []
   },
   "source": [
    "### 3.0 - Visualizing data (histograms, barplots, and boxplots)"
   ]
  },
  {
   "cell_type": "markdown",
   "metadata": {
    "cell_id": "66f3a26c2759428eae186a9d202d1e82",
    "deepnote_cell_type": "markdown",
    "tags": []
   },
   "source": [
    "<div class=\"alert alert-block alert-info\"><b>Instructor Note:</b> There are multiple packages and functions in Python for visualizing data. In this project, we're sticking with the formula interface of the popular Matplotlib and Seaborn"
   ]
  },
  {
   "cell_type": "markdown",
   "metadata": {
    "cell_id": "90e52776d3ab4e40837c2ac332322228",
    "deepnote_cell_type": "markdown",
    "tags": []
   },
   "source": [
    "In addition to summary statistics, a great way to get an overall impression of our data is to visualize it. In this section, we'll walk through different types of visualizations we can create in Python. Note: We're saving scatterplots for the next notebook in our series.\n",
    "\n",
    "One of the most useful visualizations for displaying a quantitative variable is a histogram. Here, we use the `sns.histplot` command to display the histogram for `admit_rate`."
   ]
  },
  {
   "cell_type": "code",
   "execution_count": null,
   "metadata": {
    "cell_id": "2c17c43cd06a484b93cc0a3b515f8c2c",
    "deepnote_cell_type": "code",
    "deepnote_to_be_reexecuted": false,
    "execution_millis": 841,
    "execution_start": 1709818458487,
    "output_cleared": false,
    "source_hash": null,
    "tags": []
   },
   "outputs": [],
   "source": [
    "## Run this code but do not edit it\n",
    "# Create histogram for admit_rate\n",
    "sns.histplot(colleges_example['admit_rate'])\n"
   ]
  },
  {
   "cell_type": "markdown",
   "metadata": {
    "cell_id": "914473ce1b9a4ec68623e21e2483ac49",
    "deepnote_cell_type": "markdown",
    "tags": []
   },
   "source": [
    "As we suspected from the summary statistics, it appears that most programs have admissions rates well above 50%, and only a small subset of programs have highly selective admissions rates. In statistics, we call this distribution **left skew**, since there's a tail on the left side. So, institutions with low values (low admissions rates) are relatively unusual compared to most of the other institutions in our dataset."
   ]
  },
  {
   "cell_type": "markdown",
   "metadata": {
    "cell_id": "f332e222643f41d4b435a0ac5bd60788",
    "deepnote_cell_type": "markdown",
    "tags": []
   },
   "source": [
    "<div class=\"alert alert-block alert-warning\"> \n",
    "\n",
    "**3.1 -** Create a histogram to visualize all the `default_rate` values in the `colleges` dataframe.\n",
    "\n",
    "</div>"
   ]
  },
  {
   "cell_type": "code",
   "execution_count": null,
   "metadata": {
    "cell_id": "d4ed2fd707d94517a91888b42f15f58a",
    "deepnote_cell_type": "code",
    "deepnote_to_be_reexecuted": false,
    "execution_millis": 229,
    "execution_start": 1709818648603,
    "output_cleared": false,
    "source_hash": null,
    "tags": []
   },
   "outputs": [],
   "source": [
    "# Your code goes here\n",
    "..."
   ]
  },
  {
   "cell_type": "markdown",
   "metadata": {
    "cell_id": "20fe87f38a394fdfbf72f3e2aba23718",
    "deepnote_cell_type": "markdown",
    "tags": []
   },
   "source": [
    "<div class=\"alert alert-block alert-warning\"> \n",
    "\n",
    "**3.2 -** Describe the distribution and note any features of interest.\n",
    "\n",
    "</div>"
   ]
  },
  {
   "cell_type": "markdown",
   "metadata": {
    "cell_id": "f0359a1aef7a4535934a6bfdfb429196",
    "deepnote_cell_type": "markdown",
    "tags": []
   },
   "source": [
    "**Double-click to type a response:** ..."
   ]
  },
  {
   "cell_type": "markdown",
   "metadata": {
    "cell_id": "27cc04300ca44a8b9c8ce4b024290ae7",
    "deepnote_cell_type": "markdown",
    "tags": []
   },
   "source": [
    "To visualize categorical variables, we can use the `sns.countplot` command to make bar plots. Here we create a bar plot for `highest_degree`:"
   ]
  },
  {
   "cell_type": "code",
   "execution_count": null,
   "metadata": {
    "cell_id": "6d0ccf397e254b7d9776a5c3aafa3d33",
    "deepnote_cell_type": "code",
    "deepnote_to_be_reexecuted": false,
    "execution_millis": 794,
    "execution_start": 1709818459012,
    "output_cleared": false,
    "source_hash": null,
    "tags": []
   },
   "outputs": [],
   "source": [
    "## Run this code but do not edit it\n",
    "# Create bar plot for highest_degree\n",
    "sns.countplot(data = colleges, x = 'highest_degree')"
   ]
  },
  {
   "cell_type": "markdown",
   "metadata": {
    "cell_id": "805b98922fd44996b720e9e38b004f71",
    "deepnote_cell_type": "markdown",
    "tags": []
   },
   "source": [
    "As shown here, most of the institutions in our dataset are Universities that graduate degrees or trade programs that offer professional certificates. There are about 500 colleges that only offer bachelors degrees (without offering graduate degrees)."
   ]
  },
  {
   "cell_type": "markdown",
   "metadata": {
    "cell_id": "46893a19d23f447eb2497c39123f90c2",
    "deepnote_cell_type": "markdown",
    "tags": []
   },
   "source": [
    "<div class=\"alert alert-block alert-warning\"> \n",
    "\n",
    "**3.3 -** Create a bar plot to visualize the `ownership` values from the `colleges` dataframe.\n",
    "\n",
    "</div>"
   ]
  },
  {
   "cell_type": "code",
   "execution_count": null,
   "metadata": {
    "cell_id": "6ab1513b4702406e949b62478cf99912",
    "deepnote_cell_type": "code",
    "deepnote_to_be_reexecuted": false,
    "execution_millis": 700,
    "execution_start": 1709818459106,
    "output_cleared": false,
    "source_hash": null,
    "tags": []
   },
   "outputs": [],
   "source": [
    "# Your code goes here\n",
    "..."
   ]
  },
  {
   "cell_type": "markdown",
   "metadata": {
    "cell_id": "79ba2b95881d487fbaa5df4b2aa77e1a",
    "deepnote_cell_type": "markdown",
    "tags": []
   },
   "source": [
    "<div class=\"alert alert-block alert-warning\"> \n",
    "\n",
    "**3.4 -** Describe the distribution and note any features of interest.\n",
    "\n",
    "</div>"
   ]
  },
  {
   "cell_type": "markdown",
   "metadata": {
    "cell_id": "bc8a28d07a3b49098e5e1d7500191022",
    "deepnote_cell_type": "markdown",
    "tags": []
   },
   "source": [
    "**Double-click to type a response:** ..."
   ]
  },
  {
   "cell_type": "markdown",
   "metadata": {
    "cell_id": "046996cf5f40492188e51eae50137461",
    "deepnote_cell_type": "markdown",
    "tags": []
   },
   "source": [
    "Sometimes, we may want to explore the relationship between two variables by visualizing them both at once. When we want to visualize the relationship between a categorical variable and quantitative variable, we can use boxplots. Here, we show how to use `sns.boxplot` to visualize the relationship between `highest_degree` (categorical) and `admit_rate` (quantitative)."
   ]
  },
  {
   "cell_type": "code",
   "execution_count": null,
   "metadata": {
    "cell_id": "d72ed08f3afd4c389a942ece1f1dd3ac",
    "deepnote_cell_type": "code",
    "deepnote_to_be_reexecuted": false,
    "execution_millis": 550,
    "execution_start": 1709818459257,
    "output_cleared": false,
    "source_hash": null,
    "tags": []
   },
   "outputs": [],
   "source": [
    "## Run this code but do not edit it\n",
    "# Create boxplots for admit_rates of institutions with different highest_degree values\n",
    "sns.boxplot(data = colleges, x = 'highest_degree', y = 'admit_rate')"
   ]
  },
  {
   "cell_type": "markdown",
   "metadata": {
    "cell_id": "be97873dd30c4da2bbddd29b74da4000",
    "deepnote_cell_type": "markdown",
    "tags": []
   },
   "source": [
    "<div class=\"alert alert-block alert-info\"><b>Instructor Note:</b> \n",
    "<ul>\n",
    "<li>By convention, in  boxplots, outliers are visualized as dots. The edges of the box represent the first and third quartiles, and the line within the box represents the median. If students are unfamiliar with boxplots, we recommend <a href = \"https://www.khanacademy.org/math/cc-sixth-grade-math/cc-6th-data-statistics/cc-6th-box-whisker-plots/v/constructing-a-box-and-whisker-plot\">this video</a> from Khan Academy (quick refresher) or <a href = \"https://skewthescript.org/1-5\">this lesson</a> from Skew The Script (detailed lesson with real-world context).</li>\n",
    "\n",
    "</div>"
   ]
  },
  {
   "cell_type": "markdown",
   "metadata": {
    "cell_id": "d02d5124012c4cceb050f083b458a828",
    "deepnote_cell_type": "markdown",
    "tags": []
   },
   "source": [
    "In this case, we're using `highest_degree` as the **predictor variable** and `admit_rate` as the **outcome variable**. In other words, we can use the degree level of an institution (certificate, associates, bachelors, etc.) to help predict its admission rate. That's because certain levels of institutions typically have lower admissions rates than others. So, knowing the level of an institution can help us better predict its admissions rate. \n",
    "\n",
    "\n",
    "We see that admission rates tend to be lower (lower medians) for colleges / Universities that grant bachelors and graduate degrees. However, it's worth noting that for every institution-type, the first quartile is higher than a 50% admissions rate. So, most programs admit more than half their applicants, regardless of insitution-type. Indeed, we see that the most prestigious Universities with admissions rates lower than 25% are outliers (visualized as dots on the boxplot) among other Universities that offer graduate degrees."
   ]
  },
  {
   "cell_type": "markdown",
   "metadata": {
    "cell_id": "128f8d09d79345cba9686d9c3c404df0",
    "deepnote_cell_type": "markdown",
    "tags": []
   },
   "source": [
    "<div class=\"alert alert-block alert-warning\"> \n",
    "\n",
    "**3.5 -** Create boxplots to visualize the relationship between `ownership` and `default_rate` from the `colleges` dataframe.\n",
    "\n",
    "</div>"
   ]
  },
  {
   "cell_type": "code",
   "execution_count": null,
   "metadata": {
    "cell_id": "887094f2cc634fc9aace5029e504e408",
    "deepnote_cell_type": "code",
    "deepnote_to_be_reexecuted": false,
    "execution_millis": 550,
    "execution_start": 1709818459520,
    "output_cleared": false,
    "source_hash": null,
    "tags": []
   },
   "outputs": [],
   "source": [
    "# Your code goes here\n",
    "..."
   ]
  },
  {
   "cell_type": "markdown",
   "metadata": {
    "cell_id": "6b53313081a54a6a991c5b798c1c481e",
    "deepnote_cell_type": "markdown",
    "tags": []
   },
   "source": [
    "<div class=\"alert alert-block alert-warning\"> \n",
    "\n",
    "**3.6 -** Using your boxplot visualization, describe the relationship between institution ownership and studen loan default rates.\n",
    "\n",
    "</div>"
   ]
  },
  {
   "cell_type": "markdown",
   "metadata": {
    "cell_id": "929e90f9c67b4b8d8cf52b62429e8d5b",
    "deepnote_cell_type": "markdown",
    "tags": []
   },
   "source": [
    "**Double-click to type a response:** ..."
   ]
  },
  {
   "cell_type": "markdown",
   "metadata": {
    "cell_id": "b9b17de5276d466e8f530e21948a3315",
    "deepnote_cell_type": "markdown"
   },
   "source": [
    "<div class=\"alert alert-block alert-success\">\n",
    "\n",
    "\n",
    "### Summer Opportunity: Do you want to learn more about Data Science & AI?\n",
    "Join our Data Science & AI Summer Bootcamp, where you'll take your learning from this project to the next level. **No prior coding or statistics experience required!** Designed by Harvard grads, the bootcamp allows students from all experience levels to dive deeper into data science concepts, from the basics (e.g. linear regression) to the advanced (e.g. AI neural networks). Students learn in a supportive and collaborative environment, and they walk away with their own real-world project that can be shared on college and internship applications.\n",
    "\n",
    "📢 Scholarships are available! We’re committed to making this opportunity accessible to all students.\n",
    "\n",
    "📝 Applications are considered on a rolling basis. Final application deadline: **May 30, 2025**\n",
    "\n",
    "🔗 Learn more and apply here: https://skewthescript.org/bootcamps\n",
    "</div>"
   ]
  },
  {
   "cell_type": "markdown",
   "metadata": {
    "created_in_deepnote_cell": true,
    "deepnote_cell_type": "markdown"
   },
   "source": [
    "<a style='text-decoration:none;line-height:16px;display:flex;color:#5B5B62;padding:10px;justify-content:end;' href='https://deepnote.com?utm_source=created-in-deepnote-cell&projectId=8f82fdea-532b-4a4b-9937-108d7206dda5' target=\"_blank\">\n",
    "<img alt='Created in deepnote.com' style='display:inline;max-height:16px;margin:0px;margin-right:7.5px;' src='data:image/svg+xml;base64,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' > </img>\n",
    "Created in <span style='font-weight:600;margin-left:4px;'>Deepnote</span></a>"
   ]
  }
 ],
 "metadata": {
  "deepnote_notebook_id": "6b49432d366247c0ab3e6353d6e3b313",
  "kernelspec": {
   "display_name": "venv",
   "language": "python",
   "name": "python3"
  },
  "language_info": {
   "codemirror_mode": {
    "name": "ipython",
    "version": 3
   },
   "file_extension": ".py",
   "mimetype": "text/x-python",
   "name": "python",
   "nbconvert_exporter": "python",
   "pygments_lexer": "ipython3",
   "version": "3.13.0"
  }
 },
 "nbformat": 4,
 "nbformat_minor": 0
}
